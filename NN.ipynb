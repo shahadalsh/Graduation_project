{
 "cells": [
  {
   "cell_type": "code",
   "execution_count": 6,
   "id": "cf604717",
   "metadata": {
    "scrolled": false
   },
   "outputs": [],
   "source": [
    "import keras\n",
    "import tensorflow\n",
    "import pandas as pd\n",
    "import numpy as np\n",
    "import tensorflow as tf\n",
    "from numpy import loadtxt\n",
    "from tensorflow import keras\n",
    "import matplotlib.pyplot as plt\n",
    "from keras.models import Sequential\n",
    "from keras.optimizers import adam_v2\n",
    "from keras.layers import Dense, Dropout, Activation, Conv1D, Flatten, MaxPooling1D"
   ]
  },
  {
   "cell_type": "markdown",
   "id": "18b3fdcc",
   "metadata": {},
   "source": [
    "### Loading and spilting the data "
   ]
  },
  {
   "cell_type": "code",
   "execution_count": 7,
   "id": "f62a32ea",
   "metadata": {},
   "outputs": [],
   "source": [
    "train_data = loadtxt('train_data.csv', delimiter=',')"
   ]
  },
  {
   "cell_type": "code",
   "execution_count": 8,
   "id": "4f10d4a7",
   "metadata": {},
   "outputs": [],
   "source": [
    "X_train_data = train_data[:,1:44]\n",
    "y_train_data = train_data[:,0]"
   ]
  },
  {
   "cell_type": "code",
   "execution_count": 9,
   "id": "010ef046",
   "metadata": {},
   "outputs": [],
   "source": [
    "test_data = loadtxt('test_data.csv', delimiter=',')"
   ]
  },
  {
   "cell_type": "code",
   "execution_count": 10,
   "id": "b67385ec",
   "metadata": {},
   "outputs": [],
   "source": [
    "X_test_data = test_data[:,1:44]\n",
    "y_test_data = test_data[:,0]"
   ]
  },
  {
   "cell_type": "markdown",
   "id": "3f08ab67",
   "metadata": {},
   "source": [
    "### Building the moudel "
   ]
  },
  {
   "cell_type": "code",
   "execution_count": 16,
   "id": "72287e5d",
   "metadata": {},
   "outputs": [],
   "source": [
    "model = Sequential()\n",
    "model.add(Dense(1024, input_dim=43, activation='relu'))\n",
    "model.add(Dropout(0.5))\n",
    "model.add(Dense(512, activation='relu'))\n",
    "model.add(Dense(256, activation='relu'))\n",
    "model.add(Dense(128, activation='relu'))\n",
    "model.add(Dense(1, activation='sigmoid'))"
   ]
  },
  {
   "cell_type": "markdown",
   "id": "00bce023",
   "metadata": {},
   "source": [
    "### Training"
   ]
  },
  {
   "cell_type": "code",
   "execution_count": 17,
   "id": "e3f7dbd7",
   "metadata": {},
   "outputs": [],
   "source": [
    "optimizer = adam_v2.Adam(learning_rate=0.001)\n",
    "model.compile(loss='binary_crossentropy',  optimizer=optimizer  , metrics=['accuracy'])"
   ]
  },
  {
   "cell_type": "code",
   "execution_count": 18,
   "id": "0288e07f",
   "metadata": {
    "scrolled": false
   },
   "outputs": [
    {
     "name": "stdout",
     "output_type": "stream",
     "text": [
      "Epoch 1/100\n",
      "11/11 [==============================] - 1s 33ms/step - loss: 1.7856 - accuracy: 0.5031 - val_loss: 0.6827 - val_accuracy: 0.5897\n",
      "Epoch 2/100\n",
      "11/11 [==============================] - 0s 8ms/step - loss: 0.8969 - accuracy: 0.5250 - val_loss: 0.8118 - val_accuracy: 0.4615\n",
      "Epoch 3/100\n",
      "11/11 [==============================] - 0s 7ms/step - loss: 0.7862 - accuracy: 0.4861 - val_loss: 0.6588 - val_accuracy: 0.5641\n",
      "Epoch 4/100\n",
      "11/11 [==============================] - 0s 9ms/step - loss: 0.6820 - accuracy: 0.5554 - val_loss: 0.6721 - val_accuracy: 0.6154\n",
      "Epoch 5/100\n",
      "11/11 [==============================] - 0s 8ms/step - loss: 0.7180 - accuracy: 0.5346 - val_loss: 0.6684 - val_accuracy: 0.5641\n",
      "Epoch 6/100\n",
      "11/11 [==============================] - 0s 7ms/step - loss: 0.6763 - accuracy: 0.5679 - val_loss: 0.6575 - val_accuracy: 0.5897\n",
      "Epoch 7/100\n",
      "11/11 [==============================] - 0s 7ms/step - loss: 0.6717 - accuracy: 0.5525 - val_loss: 0.7254 - val_accuracy: 0.5128\n",
      "Epoch 8/100\n",
      "11/11 [==============================] - 0s 7ms/step - loss: 0.6635 - accuracy: 0.6109 - val_loss: 0.6961 - val_accuracy: 0.5385\n",
      "Epoch 9/100\n",
      "11/11 [==============================] - 0s 7ms/step - loss: 0.6923 - accuracy: 0.5622 - val_loss: 0.7322 - val_accuracy: 0.4872\n",
      "Epoch 10/100\n",
      "11/11 [==============================] - 0s 7ms/step - loss: 0.6662 - accuracy: 0.5740 - val_loss: 0.6922 - val_accuracy: 0.5385\n",
      "Epoch 11/100\n",
      "11/11 [==============================] - 0s 10ms/step - loss: 0.6453 - accuracy: 0.5965 - val_loss: 0.6354 - val_accuracy: 0.5897\n",
      "Epoch 12/100\n",
      "11/11 [==============================] - 0s 6ms/step - loss: 0.6588 - accuracy: 0.6028 - val_loss: 0.6159 - val_accuracy: 0.6923\n",
      "Epoch 13/100\n",
      "11/11 [==============================] - 0s 7ms/step - loss: 0.6400 - accuracy: 0.6317 - val_loss: 0.6112 - val_accuracy: 0.6923\n",
      "Epoch 14/100\n",
      "11/11 [==============================] - 0s 7ms/step - loss: 0.6405 - accuracy: 0.6341 - val_loss: 0.6255 - val_accuracy: 0.6923\n",
      "Epoch 15/100\n",
      "11/11 [==============================] - 0s 7ms/step - loss: 0.6982 - accuracy: 0.5866 - val_loss: 0.6343 - val_accuracy: 0.6667\n",
      "Epoch 16/100\n",
      "11/11 [==============================] - 0s 7ms/step - loss: 0.6446 - accuracy: 0.6526 - val_loss: 0.6394 - val_accuracy: 0.6667\n",
      "Epoch 17/100\n",
      "11/11 [==============================] - 0s 7ms/step - loss: 0.7149 - accuracy: 0.5379 - val_loss: 0.7100 - val_accuracy: 0.5128\n",
      "Epoch 18/100\n",
      "11/11 [==============================] - 0s 7ms/step - loss: 0.6343 - accuracy: 0.6187 - val_loss: 0.6680 - val_accuracy: 0.5385\n",
      "Epoch 19/100\n",
      "11/11 [==============================] - 0s 7ms/step - loss: 0.6419 - accuracy: 0.6482 - val_loss: 0.6850 - val_accuracy: 0.5385\n",
      "Epoch 20/100\n",
      "11/11 [==============================] - 0s 7ms/step - loss: 0.6169 - accuracy: 0.6455 - val_loss: 0.6581 - val_accuracy: 0.6410\n",
      "Epoch 21/100\n",
      "11/11 [==============================] - 0s 7ms/step - loss: 0.6297 - accuracy: 0.6707 - val_loss: 0.7003 - val_accuracy: 0.5128\n",
      "Epoch 22/100\n",
      "11/11 [==============================] - 0s 7ms/step - loss: 0.6098 - accuracy: 0.6569 - val_loss: 0.6594 - val_accuracy: 0.5641\n",
      "Epoch 23/100\n",
      "11/11 [==============================] - 0s 7ms/step - loss: 0.6288 - accuracy: 0.6261 - val_loss: 0.6055 - val_accuracy: 0.7436\n",
      "Epoch 24/100\n",
      "11/11 [==============================] - 0s 7ms/step - loss: 0.6197 - accuracy: 0.6633 - val_loss: 0.6105 - val_accuracy: 0.6923\n",
      "Epoch 25/100\n",
      "11/11 [==============================] - 0s 7ms/step - loss: 0.6237 - accuracy: 0.6352 - val_loss: 0.6307 - val_accuracy: 0.6154\n",
      "Epoch 26/100\n",
      "11/11 [==============================] - 0s 8ms/step - loss: 0.5674 - accuracy: 0.6921 - val_loss: 0.5937 - val_accuracy: 0.7179\n",
      "Epoch 27/100\n",
      "11/11 [==============================] - 0s 7ms/step - loss: 0.5875 - accuracy: 0.6849 - val_loss: 0.6133 - val_accuracy: 0.6410\n",
      "Epoch 28/100\n",
      "11/11 [==============================] - 0s 8ms/step - loss: 0.5888 - accuracy: 0.6729 - val_loss: 0.6486 - val_accuracy: 0.6667\n",
      "Epoch 29/100\n",
      "11/11 [==============================] - 0s 7ms/step - loss: 0.6240 - accuracy: 0.6117 - val_loss: 0.6124 - val_accuracy: 0.6410\n",
      "Epoch 30/100\n",
      "11/11 [==============================] - 0s 7ms/step - loss: 0.5521 - accuracy: 0.7374 - val_loss: 0.6147 - val_accuracy: 0.7179\n",
      "Epoch 31/100\n",
      "11/11 [==============================] - 0s 8ms/step - loss: 0.6019 - accuracy: 0.6417 - val_loss: 0.6662 - val_accuracy: 0.6923\n",
      "Epoch 32/100\n",
      "11/11 [==============================] - 0s 8ms/step - loss: 0.6223 - accuracy: 0.6606 - val_loss: 0.6511 - val_accuracy: 0.6923\n",
      "Epoch 33/100\n",
      "11/11 [==============================] - 0s 7ms/step - loss: 0.5453 - accuracy: 0.7383 - val_loss: 0.6021 - val_accuracy: 0.6667\n",
      "Epoch 34/100\n",
      "11/11 [==============================] - 0s 8ms/step - loss: 0.5672 - accuracy: 0.7103 - val_loss: 0.5995 - val_accuracy: 0.6667\n",
      "Epoch 35/100\n",
      "11/11 [==============================] - 0s 8ms/step - loss: 0.6493 - accuracy: 0.6457 - val_loss: 0.6217 - val_accuracy: 0.6923\n",
      "Epoch 36/100\n",
      "11/11 [==============================] - 0s 8ms/step - loss: 0.6492 - accuracy: 0.6516 - val_loss: 0.6943 - val_accuracy: 0.5641\n",
      "Epoch 37/100\n",
      "11/11 [==============================] - 0s 7ms/step - loss: 0.5616 - accuracy: 0.7418 - val_loss: 0.6384 - val_accuracy: 0.6923\n",
      "Epoch 38/100\n",
      "11/11 [==============================] - 0s 7ms/step - loss: 0.5754 - accuracy: 0.6940 - val_loss: 0.5946 - val_accuracy: 0.6667\n",
      "Epoch 39/100\n",
      "11/11 [==============================] - 0s 8ms/step - loss: 0.5844 - accuracy: 0.6636 - val_loss: 0.6198 - val_accuracy: 0.6923\n",
      "Epoch 40/100\n",
      "11/11 [==============================] - 0s 8ms/step - loss: 0.5308 - accuracy: 0.7190 - val_loss: 0.6855 - val_accuracy: 0.6410\n",
      "Epoch 41/100\n",
      "11/11 [==============================] - 0s 8ms/step - loss: 0.5765 - accuracy: 0.6831 - val_loss: 0.7473 - val_accuracy: 0.5897\n",
      "Epoch 42/100\n",
      "11/11 [==============================] - 0s 7ms/step - loss: 0.5980 - accuracy: 0.6982 - val_loss: 0.5635 - val_accuracy: 0.7179\n",
      "Epoch 43/100\n",
      "11/11 [==============================] - 0s 7ms/step - loss: 0.5538 - accuracy: 0.7276 - val_loss: 0.7149 - val_accuracy: 0.5641\n",
      "Epoch 44/100\n",
      "11/11 [==============================] - 0s 8ms/step - loss: 0.5384 - accuracy: 0.7347 - val_loss: 0.6136 - val_accuracy: 0.7179\n",
      "Epoch 45/100\n",
      "11/11 [==============================] - 0s 7ms/step - loss: 0.5061 - accuracy: 0.7361 - val_loss: 0.6874 - val_accuracy: 0.7179\n",
      "Epoch 46/100\n",
      "11/11 [==============================] - 0s 7ms/step - loss: 0.5348 - accuracy: 0.7379 - val_loss: 0.7814 - val_accuracy: 0.6667\n",
      "Epoch 47/100\n",
      "11/11 [==============================] - 0s 6ms/step - loss: 0.5269 - accuracy: 0.7479 - val_loss: 0.7118 - val_accuracy: 0.7179\n",
      "Epoch 48/100\n",
      "11/11 [==============================] - 0s 6ms/step - loss: 0.5425 - accuracy: 0.7149 - val_loss: 0.6671 - val_accuracy: 0.7179\n",
      "Epoch 49/100\n",
      "11/11 [==============================] - 0s 7ms/step - loss: 0.5027 - accuracy: 0.7550 - val_loss: 0.5977 - val_accuracy: 0.7436\n",
      "Epoch 50/100\n",
      "11/11 [==============================] - 0s 7ms/step - loss: 0.5264 - accuracy: 0.7326 - val_loss: 0.5792 - val_accuracy: 0.6923\n",
      "Epoch 51/100\n",
      "11/11 [==============================] - 0s 7ms/step - loss: 0.5180 - accuracy: 0.7315 - val_loss: 0.5907 - val_accuracy: 0.6923\n",
      "Epoch 52/100\n",
      "11/11 [==============================] - 0s 7ms/step - loss: 0.5323 - accuracy: 0.7671 - val_loss: 0.5908 - val_accuracy: 0.6923\n",
      "Epoch 53/100\n",
      "11/11 [==============================] - 0s 7ms/step - loss: 0.4928 - accuracy: 0.7400 - val_loss: 0.5903 - val_accuracy: 0.7179\n",
      "Epoch 54/100\n",
      "11/11 [==============================] - 0s 7ms/step - loss: 0.5298 - accuracy: 0.7407 - val_loss: 0.6032 - val_accuracy: 0.7179\n",
      "Epoch 55/100\n",
      "11/11 [==============================] - 0s 7ms/step - loss: 0.4986 - accuracy: 0.7871 - val_loss: 0.7050 - val_accuracy: 0.7179\n",
      "Epoch 56/100\n",
      "11/11 [==============================] - 0s 7ms/step - loss: 0.5176 - accuracy: 0.7184 - val_loss: 0.5850 - val_accuracy: 0.6667\n",
      "Epoch 57/100\n",
      "11/11 [==============================] - 0s 7ms/step - loss: 0.4807 - accuracy: 0.7670 - val_loss: 0.5846 - val_accuracy: 0.6923\n",
      "Epoch 58/100\n",
      "11/11 [==============================] - 0s 7ms/step - loss: 0.4727 - accuracy: 0.7758 - val_loss: 0.6367 - val_accuracy: 0.7436\n"
     ]
    },
    {
     "name": "stdout",
     "output_type": "stream",
     "text": [
      "Epoch 59/100\n",
      "11/11 [==============================] - 0s 7ms/step - loss: 0.5007 - accuracy: 0.7662 - val_loss: 0.7396 - val_accuracy: 0.6923\n",
      "Epoch 60/100\n",
      "11/11 [==============================] - 0s 7ms/step - loss: 0.4737 - accuracy: 0.7960 - val_loss: 0.6413 - val_accuracy: 0.7436\n",
      "Epoch 61/100\n",
      "11/11 [==============================] - 0s 7ms/step - loss: 0.4856 - accuracy: 0.7764 - val_loss: 0.7004 - val_accuracy: 0.6923\n",
      "Epoch 62/100\n",
      "11/11 [==============================] - 0s 8ms/step - loss: 0.5191 - accuracy: 0.7193 - val_loss: 0.6756 - val_accuracy: 0.7179\n",
      "Epoch 63/100\n",
      "11/11 [==============================] - 0s 7ms/step - loss: 0.4836 - accuracy: 0.7587 - val_loss: 0.7374 - val_accuracy: 0.6923\n",
      "Epoch 64/100\n",
      "11/11 [==============================] - 0s 8ms/step - loss: 0.5164 - accuracy: 0.7162 - val_loss: 0.7752 - val_accuracy: 0.7692\n",
      "Epoch 65/100\n",
      "11/11 [==============================] - 0s 7ms/step - loss: 0.5000 - accuracy: 0.7587 - val_loss: 0.8172 - val_accuracy: 0.7179\n",
      "Epoch 66/100\n",
      "11/11 [==============================] - 0s 8ms/step - loss: 0.4405 - accuracy: 0.8041 - val_loss: 0.8027 - val_accuracy: 0.7692\n",
      "Epoch 67/100\n",
      "11/11 [==============================] - 0s 7ms/step - loss: 0.4545 - accuracy: 0.7634 - val_loss: 0.7261 - val_accuracy: 0.7179\n",
      "Epoch 68/100\n",
      "11/11 [==============================] - 0s 8ms/step - loss: 0.5910 - accuracy: 0.6982 - val_loss: 0.7353 - val_accuracy: 0.7179\n",
      "Epoch 69/100\n",
      "11/11 [==============================] - 0s 7ms/step - loss: 0.4842 - accuracy: 0.7747 - val_loss: 0.7461 - val_accuracy: 0.7179\n",
      "Epoch 70/100\n",
      "11/11 [==============================] - 0s 8ms/step - loss: 0.4852 - accuracy: 0.7639 - val_loss: 0.8088 - val_accuracy: 0.6667\n",
      "Epoch 71/100\n",
      "11/11 [==============================] - 0s 8ms/step - loss: 0.4738 - accuracy: 0.7619 - val_loss: 0.7889 - val_accuracy: 0.7179\n",
      "Epoch 72/100\n",
      "11/11 [==============================] - 0s 8ms/step - loss: 0.4461 - accuracy: 0.7588 - val_loss: 0.7504 - val_accuracy: 0.6410\n",
      "Epoch 73/100\n",
      "11/11 [==============================] - 0s 7ms/step - loss: 0.3966 - accuracy: 0.8229 - val_loss: 0.6935 - val_accuracy: 0.6923\n",
      "Epoch 74/100\n",
      "11/11 [==============================] - 0s 7ms/step - loss: 0.4542 - accuracy: 0.7922 - val_loss: 0.9370 - val_accuracy: 0.7179\n",
      "Epoch 75/100\n",
      "11/11 [==============================] - 0s 7ms/step - loss: 0.4929 - accuracy: 0.7389 - val_loss: 0.7087 - val_accuracy: 0.7436\n",
      "Epoch 76/100\n",
      "11/11 [==============================] - 0s 9ms/step - loss: 0.4610 - accuracy: 0.7761 - val_loss: 0.9057 - val_accuracy: 0.6923\n",
      "Epoch 77/100\n",
      "11/11 [==============================] - 0s 7ms/step - loss: 0.4215 - accuracy: 0.7849 - val_loss: 0.8163 - val_accuracy: 0.6923\n",
      "Epoch 78/100\n",
      "11/11 [==============================] - 0s 7ms/step - loss: 0.4361 - accuracy: 0.8066 - val_loss: 0.6512 - val_accuracy: 0.6923\n",
      "Epoch 79/100\n",
      "11/11 [==============================] - 0s 7ms/step - loss: 0.4846 - accuracy: 0.7535 - val_loss: 0.6836 - val_accuracy: 0.7179\n",
      "Epoch 80/100\n",
      "11/11 [==============================] - 0s 7ms/step - loss: 0.4633 - accuracy: 0.8005 - val_loss: 0.8565 - val_accuracy: 0.6923\n",
      "Epoch 81/100\n",
      "11/11 [==============================] - 0s 7ms/step - loss: 0.3879 - accuracy: 0.8295 - val_loss: 0.7819 - val_accuracy: 0.6923\n",
      "Epoch 82/100\n",
      "11/11 [==============================] - 0s 7ms/step - loss: 0.4380 - accuracy: 0.8052 - val_loss: 0.7859 - val_accuracy: 0.6667\n",
      "Epoch 83/100\n",
      "11/11 [==============================] - 0s 7ms/step - loss: 0.4383 - accuracy: 0.7916 - val_loss: 0.8678 - val_accuracy: 0.6923\n",
      "Epoch 84/100\n",
      "11/11 [==============================] - 0s 7ms/step - loss: 0.4398 - accuracy: 0.8337 - val_loss: 0.8227 - val_accuracy: 0.6667\n",
      "Epoch 85/100\n",
      "11/11 [==============================] - 0s 7ms/step - loss: 0.4378 - accuracy: 0.8080 - val_loss: 0.9267 - val_accuracy: 0.6923\n",
      "Epoch 86/100\n",
      "11/11 [==============================] - 0s 8ms/step - loss: 0.4549 - accuracy: 0.7850 - val_loss: 0.6629 - val_accuracy: 0.6667\n",
      "Epoch 87/100\n",
      "11/11 [==============================] - 0s 7ms/step - loss: 0.5373 - accuracy: 0.7553 - val_loss: 0.7073 - val_accuracy: 0.7179\n",
      "Epoch 88/100\n",
      "11/11 [==============================] - 0s 7ms/step - loss: 0.4297 - accuracy: 0.7980 - val_loss: 0.7202 - val_accuracy: 0.6923\n",
      "Epoch 89/100\n",
      "11/11 [==============================] - 0s 7ms/step - loss: 0.4362 - accuracy: 0.8140 - val_loss: 0.8809 - val_accuracy: 0.6923\n",
      "Epoch 90/100\n",
      "11/11 [==============================] - 0s 7ms/step - loss: 0.3891 - accuracy: 0.8083 - val_loss: 1.0118 - val_accuracy: 0.7179\n",
      "Epoch 91/100\n",
      "11/11 [==============================] - 0s 7ms/step - loss: 0.4150 - accuracy: 0.7969 - val_loss: 0.9647 - val_accuracy: 0.7179\n",
      "Epoch 92/100\n",
      "11/11 [==============================] - 0s 7ms/step - loss: 0.4029 - accuracy: 0.8296 - val_loss: 0.8311 - val_accuracy: 0.7436\n",
      "Epoch 93/100\n",
      "11/11 [==============================] - 0s 7ms/step - loss: 0.4002 - accuracy: 0.8244 - val_loss: 0.9763 - val_accuracy: 0.7692\n",
      "Epoch 94/100\n",
      "11/11 [==============================] - 0s 7ms/step - loss: 0.4567 - accuracy: 0.7943 - val_loss: 0.7192 - val_accuracy: 0.7436\n",
      "Epoch 95/100\n",
      "11/11 [==============================] - 0s 8ms/step - loss: 0.3868 - accuracy: 0.8088 - val_loss: 0.6838 - val_accuracy: 0.7179\n",
      "Epoch 96/100\n",
      "11/11 [==============================] - 0s 8ms/step - loss: 0.4271 - accuracy: 0.8174 - val_loss: 0.6357 - val_accuracy: 0.7436\n",
      "Epoch 97/100\n",
      "11/11 [==============================] - 0s 8ms/step - loss: 0.3815 - accuracy: 0.8028 - val_loss: 0.7826 - val_accuracy: 0.7692\n",
      "Epoch 98/100\n",
      "11/11 [==============================] - 0s 8ms/step - loss: 0.3806 - accuracy: 0.8334 - val_loss: 0.8494 - val_accuracy: 0.7436\n",
      "Epoch 99/100\n",
      "11/11 [==============================] - 0s 8ms/step - loss: 0.3995 - accuracy: 0.8184 - val_loss: 0.7090 - val_accuracy: 0.7436\n",
      "Epoch 100/100\n",
      "11/11 [==============================] - 0s 7ms/step - loss: 0.4327 - accuracy: 0.7909 - val_loss: 0.7278 - val_accuracy: 0.7692\n"
     ]
    }
   ],
   "source": [
    "history=model.fit(X_train_data, y_train_data, validation_split=0.10, epochs=100, batch_size=32)\n"
   ]
  },
  {
   "cell_type": "code",
   "execution_count": 19,
   "id": "f2d6815a",
   "metadata": {
    "scrolled": false
   },
   "outputs": [
    {
     "name": "stdout",
     "output_type": "stream",
     "text": [
      "13/13 [==============================] - 0s 1ms/step - loss: 0.3951 - accuracy: 0.8368\n",
      "Accuracy: 83.68\n"
     ]
    }
   ],
   "source": [
    "_, accuracy = model.evaluate(X_train_data, y_train_data)\n",
    "print('Accuracy: %.2f' % (accuracy*100))"
   ]
  },
  {
   "cell_type": "markdown",
   "id": "502537f7",
   "metadata": {},
   "source": [
    "### Ploting the train accuracy along with validation accuracy "
   ]
  },
  {
   "cell_type": "code",
   "execution_count": 20,
   "id": "551e1e45",
   "metadata": {},
   "outputs": [
    {
     "data": {
      "image/png": "[encoded data removed]",
      "text/plain": [
       "<Figure size 432x288 with 1 Axes>"
      ]
     },
     "metadata": {
      "needs_background": "light"
     },
     "output_type": "display_data"
    }
   ],
   "source": [
    "plt.plot(history.history['accuracy'])\n",
    "plt.plot(history.history['val_accuracy'])\n",
    "plt.title('model accuracy')\n",
    "plt.ylabel('accuracy')\n",
    "plt.xlabel('epoch')\n",
    "plt.legend(['train', 'test'], loc='upper left')\n",
    "plt.show()\n"
   ]
  },
  {
   "cell_type": "markdown",
   "id": "627efdb0",
   "metadata": {},
   "source": [
    "### Ploting the traing loss along with validation loss"
   ]
  },
  {
   "cell_type": "code",
   "execution_count": 21,
   "id": "31b48f40",
   "metadata": {},
   "outputs": [
    {
     "data": {
      "image/png": "[encoded data removed]",
      "text/plain": [
       "<Figure size 432x288 with 1 Axes>"
      ]
     },
     "metadata": {
      "needs_background": "light"
     },
     "output_type": "display_data"
    }
   ],
   "source": [
    "plt.plot(history.history['loss'])\n",
    "plt.plot(history.history['val_loss'])\n",
    "plt.title('model loss')\n",
    "plt.ylabel('loss')\n",
    "plt.xlabel('epoch')\n",
    "plt.legend(['Train', 'Validation'], loc='upper left')\n",
    "plt.show()"
   ]
  },
  {
   "cell_type": "code",
   "execution_count": null,
   "id": "29c9018a",
   "metadata": {},
   "outputs": [],
   "source": [
    "model.save_weightss"
   ]
  },
  {
   "cell_type": "markdown",
   "id": "c9810b2d",
   "metadata": {},
   "source": [
    "### Making predections"
   ]
  },
  {
   "cell_type": "code",
   "execution_count": null,
   "id": "5c98ab82",
   "metadata": {},
   "outputs": [],
   "source": [
    "\n",
    "# make class predictions with the model\n",
    "predictions = model.predict_classes(X)\n",
    "# summarize the first 5 cases\n",
    "for i in range(500):\n",
    "\tprint('%s => %d (expected %d)' % (X[i].tolist(), predictions[i], y[i]))"
   ]
  },
  {
   "cell_type": "code",
   "execution_count": null,
   "id": "d343cc9f",
   "metadata": {},
   "outputs": [],
   "source": []
  }
 ],
 "metadata": {
  "kernelspec": {
   "display_name": "Python 3 (ipykernel)",
   "language": "python",
   "name": "python3"
  },
  "language_info": {
   "codemirror_mode": {
    "name": "ipython",
    "version": 3
   },
   "file_extension": ".py",
   "mimetype": "text/x-python",
   "name": "python",
   "nbconvert_exporter": "python",
   "pygments_lexer": "ipython3",
   "version": "3.9.7"
  }
 },
 "nbformat": 4,
 "nbformat_minor": 5
}
