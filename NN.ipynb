{
 "cells": [
  {
   "cell_type": "code",
   "execution_count": 1,
   "id": "cf604717",
   "metadata": {
    "scrolled": false
   },
   "outputs": [],
   "source": [
    "from numpy import loadtxt\n",
    "from keras.models import Sequential\n",
    "from keras.layers import Dense\n",
    "import pandas as pd\n",
    "from keras.layers import Dense, Dropout, Activation\n",
    "import matplotlib.pyplot as plt\n",
    "import tensorflow as tf\n",
    "import keras\n",
    "from tensorflow.keras.optimizers import SGD\n",
    "from tensorflow import keras\n",
    "import tensorflow\n",
    "\n"
   ]
  },
  {
   "cell_type": "code",
   "execution_count": 2,
   "id": "4b0d6cfd",
   "metadata": {},
   "outputs": [],
   "source": [
    "dataset = loadtxt('results_for_model.csv', delimiter=',')"
   ]
  },
  {
   "cell_type": "code",
   "execution_count": 3,
   "id": "b8c54fd3",
   "metadata": {
    "scrolled": true
   },
   "outputs": [
    {
     "data": {
      "text/plain": [
       "array([[1.00000000e+00, 1.87822200e+00, 2.56810780e-02, ...,\n",
       "        2.80684230e-01, 6.08069900e+00, 9.03308600e+01],\n",
       "       [1.00000000e+00, 1.45074070e+00, 1.53079600e-03, ...,\n",
       "        3.11473670e-01, 5.64230260e-01, 6.68340700e+01],\n",
       "       [1.00000000e+00, 1.66039740e+00, 5.76181200e-03, ...,\n",
       "        4.82145340e-01, 1.75909760e+00, 8.15311700e+01],\n",
       "       ...,\n",
       "       [0.00000000e+00, 1.61901860e+00, 1.19893250e-02, ...,\n",
       "        4.96600840e-01, 1.72238720e+00, 9.46306400e+01],\n",
       "       [0.00000000e+00, 2.36729430e+00, 1.24122380e-02, ...,\n",
       "        3.39283700e-01, 4.72537700e+00, 9.91124300e+01],\n",
       "       [0.00000000e+00, 2.53652570e+00, 2.14857240e-02, ...,\n",
       "        4.94382380e-01, 7.38586850e+00, 1.04382744e+02]])"
      ]
     },
     "execution_count": 3,
     "metadata": {},
     "output_type": "execute_result"
    }
   ],
   "source": [
    "dataset"
   ]
  },
  {
   "cell_type": "code",
   "execution_count": 4,
   "id": "4299ab91",
   "metadata": {},
   "outputs": [],
   "source": [
    "X = dataset[:,1:44]\n",
    "y = dataset[:,0]"
   ]
  },
  {
   "cell_type": "markdown",
   "id": "3f08ab67",
   "metadata": {},
   "source": [
    "### Split the data"
   ]
  },
  {
   "cell_type": "code",
   "execution_count": 45,
   "id": "72287e5d",
   "metadata": {},
   "outputs": [],
   "source": [
    "model = Sequential()\n",
    "model.add(Dense(12, input_dim=43, activation='relu'))\n",
    "model.add(Dense(8, activation='relu'))\n",
    "model.add(Dense(8, activation='relu'))\n",
    "model.add(Dense(8, activation='relu'))\n",
    "model.add(Dense(1, activation='sigmoid'))"
   ]
  },
  {
   "cell_type": "code",
   "execution_count": 46,
   "id": "66011f06",
   "metadata": {},
   "outputs": [],
   "source": [
    "model.compile(loss='binary_crossentropy', optimizer='adam', metrics=['accuracy'])"
   ]
  },
  {
   "cell_type": "code",
   "execution_count": 47,
   "id": "418b9221",
   "metadata": {
    "scrolled": false
   },
   "outputs": [
    {
     "name": "stdout",
     "output_type": "stream",
     "text": [
      "Epoch 1/100\n",
      "12/12 [==============================] - 2s 29ms/step - loss: 9.4868 - accuracy: 0.1460 - val_loss: 0.0035 - val_accuracy: 1.0000\n",
      "Epoch 2/100\n",
      "12/12 [==============================] - 0s 4ms/step - loss: 5.3312 - accuracy: 0.1582 - val_loss: 0.0287 - val_accuracy: 1.0000\n",
      "Epoch 3/100\n",
      "12/12 [==============================] - 0s 4ms/step - loss: 3.3675 - accuracy: 0.1765 - val_loss: 0.1085 - val_accuracy: 1.0000\n",
      "Epoch 4/100\n",
      "12/12 [==============================] - 0s 3ms/step - loss: 2.1476 - accuracy: 0.1715 - val_loss: 0.2601 - val_accuracy: 1.0000\n",
      "Epoch 5/100\n",
      "12/12 [==============================] - 0s 4ms/step - loss: 1.4900 - accuracy: 0.1453 - val_loss: 0.4548 - val_accuracy: 0.9891\n",
      "Epoch 6/100\n",
      "12/12 [==============================] - 0s 4ms/step - loss: 1.0182 - accuracy: 0.1608 - val_loss: 0.6228 - val_accuracy: 0.6612\n",
      "Epoch 7/100\n",
      "12/12 [==============================] - 0s 3ms/step - loss: 0.8373 - accuracy: 0.3998 - val_loss: 0.7520 - val_accuracy: 0.1311\n",
      "Epoch 8/100\n",
      "12/12 [==============================] - 0s 4ms/step - loss: 0.6754 - accuracy: 0.7082 - val_loss: 0.8948 - val_accuracy: 0.0546\n",
      "Epoch 9/100\n",
      "12/12 [==============================] - 0s 4ms/step - loss: 0.6102 - accuracy: 0.7461 - val_loss: 1.0651 - val_accuracy: 0.0328\n",
      "Epoch 10/100\n",
      "12/12 [==============================] - 0s 4ms/step - loss: 0.5471 - accuracy: 0.7906 - val_loss: 1.2372 - val_accuracy: 0.0219\n",
      "Epoch 11/100\n",
      "12/12 [==============================] - 0s 4ms/step - loss: 0.4859 - accuracy: 0.8489 - val_loss: 1.4133 - val_accuracy: 0.0000e+00\n",
      "Epoch 12/100\n",
      "12/12 [==============================] - 0s 4ms/step - loss: 0.4609 - accuracy: 0.8426 - val_loss: 1.5499 - val_accuracy: 0.0000e+00\n",
      "Epoch 13/100\n",
      "12/12 [==============================] - 0s 4ms/step - loss: 0.4587 - accuracy: 0.8385 - val_loss: 1.6659 - val_accuracy: 0.0000e+00\n",
      "Epoch 14/100\n",
      "12/12 [==============================] - 0s 4ms/step - loss: 0.4790 - accuracy: 0.8227 - val_loss: 1.7449 - val_accuracy: 0.0000e+00\n",
      "Epoch 15/100\n",
      "12/12 [==============================] - 0s 3ms/step - loss: 0.4336 - accuracy: 0.8483 - val_loss: 1.8013 - val_accuracy: 0.0000e+00\n",
      "Epoch 16/100\n",
      "12/12 [==============================] - 0s 4ms/step - loss: 0.4558 - accuracy: 0.8308 - val_loss: 1.8181 - val_accuracy: 0.0000e+00\n",
      "Epoch 17/100\n",
      "12/12 [==============================] - 0s 4ms/step - loss: 0.4361 - accuracy: 0.8338 - val_loss: 1.8174 - val_accuracy: 0.0000e+00\n",
      "Epoch 18/100\n",
      "12/12 [==============================] - 0s 4ms/step - loss: 0.4649 - accuracy: 0.8185 - val_loss: 1.8005 - val_accuracy: 0.0000e+00\n",
      "Epoch 19/100\n",
      "12/12 [==============================] - 0s 3ms/step - loss: 0.4298 - accuracy: 0.8469 - val_loss: 1.8112 - val_accuracy: 0.0000e+00\n",
      "Epoch 20/100\n",
      "12/12 [==============================] - 0s 4ms/step - loss: 0.4494 - accuracy: 0.8329 - val_loss: 1.7896 - val_accuracy: 0.0000e+00\n",
      "Epoch 21/100\n",
      "12/12 [==============================] - 0s 4ms/step - loss: 0.4555 - accuracy: 0.8283 - val_loss: 1.8079 - val_accuracy: 0.0000e+00\n",
      "Epoch 22/100\n",
      "12/12 [==============================] - 0s 4ms/step - loss: 0.4343 - accuracy: 0.8435 - val_loss: 1.8136 - val_accuracy: 0.0000e+00\n",
      "Epoch 23/100\n",
      "12/12 [==============================] - 0s 3ms/step - loss: 0.4747 - accuracy: 0.8147 - val_loss: 1.7880 - val_accuracy: 0.0000e+00\n",
      "Epoch 24/100\n",
      "12/12 [==============================] - 0s 4ms/step - loss: 0.4543 - accuracy: 0.8271 - val_loss: 1.8127 - val_accuracy: 0.0000e+00\n",
      "Epoch 25/100\n",
      "12/12 [==============================] - 0s 4ms/step - loss: 0.4425 - accuracy: 0.8330 - val_loss: 1.8274 - val_accuracy: 0.0000e+00\n",
      "Epoch 26/100\n",
      "12/12 [==============================] - 0s 4ms/step - loss: 0.4342 - accuracy: 0.8369 - val_loss: 1.8033 - val_accuracy: 0.0000e+00\n",
      "Epoch 27/100\n",
      "12/12 [==============================] - 0s 4ms/step - loss: 0.4058 - accuracy: 0.8526 - val_loss: 1.8008 - val_accuracy: 0.0000e+00\n",
      "Epoch 28/100\n",
      "12/12 [==============================] - 0s 3ms/step - loss: 0.4500 - accuracy: 0.8258 - val_loss: 1.7956 - val_accuracy: 0.0000e+00\n",
      "Epoch 29/100\n",
      "12/12 [==============================] - 0s 4ms/step - loss: 0.4049 - accuracy: 0.8468 - val_loss: 1.8197 - val_accuracy: 0.0000e+00\n",
      "Epoch 30/100\n",
      "12/12 [==============================] - 0s 5ms/step - loss: 0.4089 - accuracy: 0.8508 - val_loss: 1.7956 - val_accuracy: 0.0000e+00\n",
      "Epoch 31/100\n",
      "12/12 [==============================] - 0s 5ms/step - loss: 0.4301 - accuracy: 0.8337 - val_loss: 1.8075 - val_accuracy: 0.0000e+00\n",
      "Epoch 32/100\n",
      "12/12 [==============================] - 0s 4ms/step - loss: 0.4678 - accuracy: 0.8155 - val_loss: 1.7985 - val_accuracy: 0.0000e+00\n",
      "Epoch 33/100\n",
      "12/12 [==============================] - 0s 5ms/step - loss: 0.4050 - accuracy: 0.8456 - val_loss: 1.8230 - val_accuracy: 0.0000e+00\n",
      "Epoch 34/100\n",
      "12/12 [==============================] - 0s 5ms/step - loss: 0.4020 - accuracy: 0.8530 - val_loss: 1.8278 - val_accuracy: 0.0000e+00\n",
      "Epoch 35/100\n",
      "12/12 [==============================] - 0s 4ms/step - loss: 0.3796 - accuracy: 0.8606 - val_loss: 1.8190 - val_accuracy: 0.0000e+00\n",
      "Epoch 36/100\n",
      "12/12 [==============================] - 0s 4ms/step - loss: 0.4495 - accuracy: 0.8279 - val_loss: 1.7799 - val_accuracy: 0.0000e+00\n",
      "Epoch 37/100\n",
      "12/12 [==============================] - 0s 4ms/step - loss: 0.4261 - accuracy: 0.8394 - val_loss: 1.8032 - val_accuracy: 0.0000e+00\n",
      "Epoch 38/100\n",
      "12/12 [==============================] - 0s 4ms/step - loss: 0.4066 - accuracy: 0.8498 - val_loss: 1.8054 - val_accuracy: 0.0000e+00\n",
      "Epoch 39/100\n",
      "12/12 [==============================] - 0s 4ms/step - loss: 0.4148 - accuracy: 0.8490 - val_loss: 1.7869 - val_accuracy: 0.0000e+00\n",
      "Epoch 40/100\n",
      "12/12 [==============================] - 0s 4ms/step - loss: 0.4326 - accuracy: 0.8312 - val_loss: 1.7979 - val_accuracy: 0.0000e+00\n",
      "Epoch 41/100\n",
      "12/12 [==============================] - 0s 4ms/step - loss: 0.4084 - accuracy: 0.8495 - val_loss: 1.7843 - val_accuracy: 0.0000e+00\n",
      "Epoch 42/100\n",
      "12/12 [==============================] - 0s 4ms/step - loss: 0.4325 - accuracy: 0.8319 - val_loss: 1.7741 - val_accuracy: 0.0000e+00\n",
      "Epoch 43/100\n",
      "12/12 [==============================] - 0s 4ms/step - loss: 0.4043 - accuracy: 0.8464 - val_loss: 1.7924 - val_accuracy: 0.0000e+00\n",
      "Epoch 44/100\n",
      "12/12 [==============================] - 0s 4ms/step - loss: 0.4259 - accuracy: 0.8346 - val_loss: 1.7871 - val_accuracy: 0.0000e+00\n",
      "Epoch 45/100\n",
      "12/12 [==============================] - 0s 4ms/step - loss: 0.3908 - accuracy: 0.8573 - val_loss: 1.8135 - val_accuracy: 0.0000e+00\n",
      "Epoch 46/100\n",
      "12/12 [==============================] - 0s 3ms/step - loss: 0.4637 - accuracy: 0.8042 - val_loss: 1.7722 - val_accuracy: 0.0000e+00\n",
      "Epoch 47/100\n",
      "12/12 [==============================] - 0s 4ms/step - loss: 0.4330 - accuracy: 0.8270 - val_loss: 1.7853 - val_accuracy: 0.0000e+00\n",
      "Epoch 48/100\n",
      "12/12 [==============================] - 0s 5ms/step - loss: 0.4266 - accuracy: 0.8405 - val_loss: 1.8158 - val_accuracy: 0.0000e+00\n",
      "Epoch 49/100\n",
      "12/12 [==============================] - 0s 5ms/step - loss: 0.4453 - accuracy: 0.8216 - val_loss: 1.7777 - val_accuracy: 0.0000e+00\n",
      "Epoch 50/100\n",
      "12/12 [==============================] - 0s 5ms/step - loss: 0.4380 - accuracy: 0.8334 - val_loss: 1.7554 - val_accuracy: 0.0000e+00\n",
      "Epoch 51/100\n",
      "12/12 [==============================] - 0s 5ms/step - loss: 0.4448 - accuracy: 0.8279 - val_loss: 1.7541 - val_accuracy: 0.0000e+00\n",
      "Epoch 52/100\n",
      "12/12 [==============================] - 0s 5ms/step - loss: 0.4002 - accuracy: 0.8500 - val_loss: 1.7945 - val_accuracy: 0.0000e+00\n",
      "Epoch 53/100\n",
      "12/12 [==============================] - 0s 4ms/step - loss: 0.3948 - accuracy: 0.8505 - val_loss: 1.8020 - val_accuracy: 0.0000e+00\n",
      "Epoch 54/100\n",
      "12/12 [==============================] - 0s 4ms/step - loss: 0.4501 - accuracy: 0.8163 - val_loss: 1.7540 - val_accuracy: 0.0000e+00\n",
      "Epoch 55/100\n",
      "12/12 [==============================] - 0s 5ms/step - loss: 0.4448 - accuracy: 0.8285 - val_loss: 1.7964 - val_accuracy: 0.0000e+00\n",
      "Epoch 56/100\n",
      "12/12 [==============================] - 0s 4ms/step - loss: 0.4528 - accuracy: 0.8232 - val_loss: 1.8087 - val_accuracy: 0.0000e+00\n",
      "Epoch 57/100\n"
     ]
    },
    {
     "name": "stdout",
     "output_type": "stream",
     "text": [
      "12/12 [==============================] - 0s 4ms/step - loss: 0.4235 - accuracy: 0.8360 - val_loss: 1.8155 - val_accuracy: 0.0000e+00\n",
      "Epoch 58/100\n",
      "12/12 [==============================] - 0s 4ms/step - loss: 0.4384 - accuracy: 0.8255 - val_loss: 1.7844 - val_accuracy: 0.0000e+00\n",
      "Epoch 59/100\n",
      "12/12 [==============================] - 0s 4ms/step - loss: 0.4239 - accuracy: 0.8226 - val_loss: 1.7761 - val_accuracy: 0.0000e+00\n",
      "Epoch 60/100\n",
      "12/12 [==============================] - 0s 4ms/step - loss: 0.4277 - accuracy: 0.8204 - val_loss: 1.7997 - val_accuracy: 0.0000e+00\n",
      "Epoch 61/100\n",
      "12/12 [==============================] - 0s 5ms/step - loss: 0.4423 - accuracy: 0.8247 - val_loss: 1.7763 - val_accuracy: 0.0000e+00\n",
      "Epoch 62/100\n",
      "12/12 [==============================] - 0s 4ms/step - loss: 0.3831 - accuracy: 0.8528 - val_loss: 1.8222 - val_accuracy: 0.0000e+00\n",
      "Epoch 63/100\n",
      "12/12 [==============================] - 0s 4ms/step - loss: 0.4023 - accuracy: 0.8388 - val_loss: 1.7561 - val_accuracy: 0.0000e+00\n",
      "Epoch 64/100\n",
      "12/12 [==============================] - 0s 5ms/step - loss: 0.4511 - accuracy: 0.8188 - val_loss: 1.7626 - val_accuracy: 0.0000e+00\n",
      "Epoch 65/100\n",
      "12/12 [==============================] - 0s 4ms/step - loss: 0.4050 - accuracy: 0.8473 - val_loss: 1.7893 - val_accuracy: 0.0000e+00\n",
      "Epoch 66/100\n",
      "12/12 [==============================] - 0s 4ms/step - loss: 0.4142 - accuracy: 0.8364 - val_loss: 1.7929 - val_accuracy: 0.0000e+00\n",
      "Epoch 67/100\n",
      "12/12 [==============================] - 0s 5ms/step - loss: 0.4326 - accuracy: 0.8319 - val_loss: 1.7485 - val_accuracy: 0.0000e+00\n",
      "Epoch 68/100\n",
      "12/12 [==============================] - 0s 5ms/step - loss: 0.4268 - accuracy: 0.8327 - val_loss: 1.7751 - val_accuracy: 0.0000e+00\n",
      "Epoch 69/100\n",
      "12/12 [==============================] - 0s 6ms/step - loss: 0.4180 - accuracy: 0.8394 - val_loss: 1.7937 - val_accuracy: 0.0000e+00\n",
      "Epoch 70/100\n",
      "12/12 [==============================] - 0s 5ms/step - loss: 0.4387 - accuracy: 0.8235 - val_loss: 1.7929 - val_accuracy: 0.0000e+00\n",
      "Epoch 71/100\n",
      "12/12 [==============================] - 0s 5ms/step - loss: 0.4075 - accuracy: 0.8386 - val_loss: 1.7927 - val_accuracy: 0.0000e+00\n",
      "Epoch 72/100\n",
      "12/12 [==============================] - 0s 5ms/step - loss: 0.4390 - accuracy: 0.8278 - val_loss: 1.7674 - val_accuracy: 0.0000e+00\n",
      "Epoch 73/100\n",
      "12/12 [==============================] - 0s 4ms/step - loss: 0.4258 - accuracy: 0.8359 - val_loss: 1.7754 - val_accuracy: 0.0000e+00\n",
      "Epoch 74/100\n",
      "12/12 [==============================] - 0s 4ms/step - loss: 0.4455 - accuracy: 0.8218 - val_loss: 1.7808 - val_accuracy: 0.0000e+00\n",
      "Epoch 75/100\n",
      "12/12 [==============================] - 0s 4ms/step - loss: 0.4120 - accuracy: 0.8453 - val_loss: 1.7802 - val_accuracy: 0.0000e+00\n",
      "Epoch 76/100\n",
      "12/12 [==============================] - 0s 4ms/step - loss: 0.4407 - accuracy: 0.8229 - val_loss: 1.7819 - val_accuracy: 0.0000e+00\n",
      "Epoch 77/100\n",
      "12/12 [==============================] - 0s 5ms/step - loss: 0.4191 - accuracy: 0.8356 - val_loss: 1.8133 - val_accuracy: 0.0000e+00\n",
      "Epoch 78/100\n",
      "12/12 [==============================] - 0s 5ms/step - loss: 0.4375 - accuracy: 0.8220 - val_loss: 1.7980 - val_accuracy: 0.0000e+00\n",
      "Epoch 79/100\n",
      "12/12 [==============================] - 0s 4ms/step - loss: 0.4129 - accuracy: 0.8326 - val_loss: 1.8194 - val_accuracy: 0.0000e+00\n",
      "Epoch 80/100\n",
      "12/12 [==============================] - 0s 4ms/step - loss: 0.4167 - accuracy: 0.8402 - val_loss: 1.7994 - val_accuracy: 0.0000e+00\n",
      "Epoch 81/100\n",
      "12/12 [==============================] - 0s 6ms/step - loss: 0.4709 - accuracy: 0.8052 - val_loss: 1.7616 - val_accuracy: 0.0000e+00\n",
      "Epoch 82/100\n",
      "12/12 [==============================] - 0s 5ms/step - loss: 0.4195 - accuracy: 0.8364 - val_loss: 1.8217 - val_accuracy: 0.0000e+00\n",
      "Epoch 83/100\n",
      "12/12 [==============================] - 0s 4ms/step - loss: 0.4192 - accuracy: 0.8363 - val_loss: 1.8140 - val_accuracy: 0.0000e+00\n",
      "Epoch 84/100\n",
      "12/12 [==============================] - 0s 4ms/step - loss: 0.4282 - accuracy: 0.8268 - val_loss: 1.7823 - val_accuracy: 0.0000e+00\n",
      "Epoch 85/100\n",
      "12/12 [==============================] - 0s 5ms/step - loss: 0.4509 - accuracy: 0.8225 - val_loss: 1.7835 - val_accuracy: 0.0000e+00\n",
      "Epoch 86/100\n",
      "12/12 [==============================] - 0s 5ms/step - loss: 0.3655 - accuracy: 0.8699 - val_loss: 1.8434 - val_accuracy: 0.0000e+00\n",
      "Epoch 87/100\n",
      "12/12 [==============================] - 0s 5ms/step - loss: 0.3613 - accuracy: 0.8676 - val_loss: 1.8318 - val_accuracy: 0.0000e+00\n",
      "Epoch 88/100\n",
      "12/12 [==============================] - 0s 5ms/step - loss: 0.4437 - accuracy: 0.8194 - val_loss: 1.7276 - val_accuracy: 0.0000e+00\n",
      "Epoch 89/100\n",
      "12/12 [==============================] - 0s 4ms/step - loss: 0.3977 - accuracy: 0.8545 - val_loss: 1.7701 - val_accuracy: 0.0000e+00\n",
      "Epoch 90/100\n",
      "12/12 [==============================] - 0s 4ms/step - loss: 0.4210 - accuracy: 0.8389 - val_loss: 1.7849 - val_accuracy: 0.0000e+00\n",
      "Epoch 91/100\n",
      "12/12 [==============================] - 0s 4ms/step - loss: 0.4011 - accuracy: 0.8387 - val_loss: 1.8084 - val_accuracy: 0.0000e+00\n",
      "Epoch 92/100\n",
      "12/12 [==============================] - 0s 4ms/step - loss: 0.3982 - accuracy: 0.8443 - val_loss: 1.7911 - val_accuracy: 0.0000e+00\n",
      "Epoch 93/100\n",
      "12/12 [==============================] - 0s 4ms/step - loss: 0.3699 - accuracy: 0.8646 - val_loss: 1.8048 - val_accuracy: 0.0000e+00\n",
      "Epoch 94/100\n",
      "12/12 [==============================] - 0s 4ms/step - loss: 0.4488 - accuracy: 0.8199 - val_loss: 1.7605 - val_accuracy: 0.0000e+00\n",
      "Epoch 95/100\n",
      "12/12 [==============================] - 0s 5ms/step - loss: 0.4199 - accuracy: 0.8276 - val_loss: 1.7977 - val_accuracy: 0.0000e+00\n",
      "Epoch 96/100\n",
      "12/12 [==============================] - 0s 5ms/step - loss: 0.4175 - accuracy: 0.8407 - val_loss: 1.7986 - val_accuracy: 0.0000e+00\n",
      "Epoch 97/100\n",
      "12/12 [==============================] - 0s 5ms/step - loss: 0.4161 - accuracy: 0.8342 - val_loss: 1.7786 - val_accuracy: 0.0000e+00\n",
      "Epoch 98/100\n",
      "12/12 [==============================] - 0s 5ms/step - loss: 0.3873 - accuracy: 0.8462 - val_loss: 1.8212 - val_accuracy: 0.0000e+00\n",
      "Epoch 99/100\n",
      "12/12 [==============================] - 0s 6ms/step - loss: 0.4056 - accuracy: 0.8420 - val_loss: 1.7667 - val_accuracy: 0.0000e+00\n",
      "Epoch 100/100\n",
      "12/12 [==============================] - 0s 5ms/step - loss: 0.4199 - accuracy: 0.8408 - val_loss: 1.7659 - val_accuracy: 0.0000e+00\n"
     ]
    }
   ],
   "source": [
    "history=model.fit(X, y, validation_split=0.33, epochs=100, batch_size=32)\n"
   ]
  },
  {
   "cell_type": "code",
   "execution_count": 48,
   "id": "ee4c0ac8",
   "metadata": {
    "scrolled": true
   },
   "outputs": [
    {
     "name": "stdout",
     "output_type": "stream",
     "text": [
      "18/18 [==============================] - 0s 1ms/step - loss: 0.8564 - accuracy: 0.5634\n",
      "Accuracy: 56.34\n"
     ]
    }
   ],
   "source": [
    "_, accuracy = model.evaluate(X, y)\n",
    "print('Accuracy: %.2f' % (accuracy*100))"
   ]
  },
  {
   "cell_type": "code",
   "execution_count": 49,
   "id": "05339cb4",
   "metadata": {},
   "outputs": [
    {
     "data": {
      "image/png": "[encoded data removed]",
      "text/plain": [
       "<Figure size 432x288 with 1 Axes>"
      ]
     },
     "metadata": {
      "needs_background": "light"
     },
     "output_type": "display_data"
    }
   ],
   "source": [
    "plt.plot(history.history['loss'])\n",
    "plt.plot(history.history['val_loss'])\n",
    "plt.title('model loss')\n",
    "plt.ylabel('loss')\n",
    "plt.xlabel('epoch')\n",
    "plt.legend(['Train', 'Validation'], loc='upper left')\n",
    "plt.show()"
   ]
  },
  {
   "cell_type": "markdown",
   "id": "5733c420",
   "metadata": {},
   "source": [
    "### Trining "
   ]
  },
  {
   "cell_type": "markdown",
   "id": "b8422f47",
   "metadata": {},
   "source": [
    "\n",
    "model = keras.Sequential(\n",
    "    [\n",
    "        keras.layers.Dense(45, activation=\"relu\" , input_shape =X.shape[1:]),\n",
    "        \n",
    "        keras.layers.Dense(40, activation=\"relu\"),\n",
    "        keras.layers.Dense(40, activation=\"relu\"),\n",
    "        keras.layers.Dense(40, activation=\"relu\"),\n",
    "        keras.layers.Dense(40, activation=\"relu\"),\n",
    "       \n",
    "        \n",
    "        keras.layers.Dense(1),\n",
    "    ]\n",
    ")"
   ]
  },
  {
   "cell_type": "code",
   "execution_count": null,
   "id": "e3ef064e",
   "metadata": {},
   "outputs": [],
   "source": [
    "model.compile(loss='binary_crossentropy', optimizer='adam', metrics=['accuracy'])\n"
   ]
  },
  {
   "cell_type": "markdown",
   "id": "c9810b2d",
   "metadata": {},
   "source": [
    "### Making predections"
   ]
  },
  {
   "cell_type": "code",
   "execution_count": null,
   "id": "62c6cb77",
   "metadata": {},
   "outputs": [],
   "source": [
    "\n",
    "# make class predictions with the model\n",
    "predictions = model.predict_classes(X)\n",
    "# summarize the first 5 cases\n",
    "for i in range(500):\n",
    "\tprint('%s => %d (expected %d)' % (X[i].tolist(), predictions[i], y[i]))"
   ]
  },
  {
   "cell_type": "code",
   "execution_count": null,
   "id": "cbf95d44",
   "metadata": {},
   "outputs": [],
   "source": []
  }
 ],
 "metadata": {
  "kernelspec": {
   "display_name": "Python 3 (ipykernel)",
   "language": "python",
   "name": "python3"
  },
  "language_info": {
   "codemirror_mode": {
    "name": "ipython",
    "version": 3
   },
   "file_extension": ".py",
   "mimetype": "text/x-python",
   "name": "python",
   "nbconvert_exporter": "python",
   "pygments_lexer": "ipython3",
   "version": "3.9.7"
  }
 },
 "nbformat": 4,
 "nbformat_minor": 5
}
