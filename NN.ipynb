{
 "cells": [
  {
   "cell_type": "code",
   "execution_count": 17,
   "id": "82b7b831",
   "metadata": {},
   "outputs": [],
   "source": [
    "import tensorflow as tf\n",
    "import numpy as np\n",
    "from keras.models import Sequential\n",
    "from keras.layers import Dense, Dropout, Activation, Flatten\n",
    "import pandas as pd\n",
    "import keras\n",
    "import tensorflow as tf\n",
    "import keras.utils\n",
    "from keras import utils as np_utils\n",
    "from keras.models import Sequential\n",
    "from keras.layers import Dense, Dropout, Activation\n",
    "from tensorflow import keras"
   ]
  },
  {
   "cell_type": "code",
   "execution_count": 2,
   "id": "7f44cb47",
   "metadata": {},
   "outputs": [],
   "source": [
    "data = pd.read_csv('results_for_model.csv',header=0)"
   ]
  },
  {
   "cell_type": "code",
   "execution_count": 3,
   "id": "01acb32b",
   "metadata": {},
   "outputs": [],
   "source": [
    "X=data[['audspecRasta_lengthL1norm_sma_upleveltime25',\n",
    "       'pcm_fftMag_psySharpness_sma_leftctime', 'mfcc_sma[5]_upleveltime75',\n",
    "       'mfcc_sma[10]_percentile1.0', 'mfcc_sma[12]_skewness',\n",
    "       'pcm_fftMag_fband1000-4000_sma_de_quartile2',\n",
    "       'audSpec_Rfilt_sma[12]_peakMeanRel',\n",
    "       'audSpec_Rfilt_sma[22]_meanFallingSlope',\n",
    "       'pcm_fftMag_spectralSlope_sma_qregc3', 'mfcc_sma[5]_qregc2',\n",
    "       'audSpec_Rfilt_sma_de[5]_peakDistStddev',\n",
    "       'audSpec_Rfilt_sma_de[11]_peakMeanRel',\n",
    "       'audSpec_Rfilt_sma_de[20]_stddevFallingSlope',\n",
    "       'mfcc_sma_de[2]_meanFallingSlope', 'mfcc_sma_de[5]_minRangeRel']]\n",
    "Y=data[['target']]"
   ]
  },
  {
   "cell_type": "code",
   "execution_count": 18,
   "id": "70ae776c",
   "metadata": {},
   "outputs": [],
   "source": [
    "\n",
    "model = keras.Sequential(\n",
    "    [\n",
    "        keras.layers.Dense(15, activation=\"relu\" , input_shape =X.shape[1:]),\n",
    "        \n",
    "        keras.layers.Dense(40, activation=\"relu\"),\n",
    "        keras.layers.Dense(40, activation=\"relu\"),\n",
    "        keras.layers.Dense(40, activation=\"relu\"),\n",
    "        keras.layers.Dense(40, activation=\"relu\"),\n",
    "       \n",
    "        \n",
    "        keras.layers.Dense(2),\n",
    "    ]\n",
    ")"
   ]
  },
  {
   "cell_type": "code",
   "execution_count": 19,
   "id": "e1bcbb22",
   "metadata": {},
   "outputs": [],
   "source": [
    "model.compile(optimizer=keras.optimizers.Adam(learning_rate=1e-4), loss='mean_squared_error')\n"
   ]
  },
  {
   "cell_type": "code",
   "execution_count": 20,
   "id": "b567a021",
   "metadata": {},
   "outputs": [
    {
     "name": "stdout",
     "output_type": "stream",
     "text": [
      "Epoch 1/50\n",
      "18/18 [==============================] - 0s 1ms/step - loss: 5.0202\n",
      "Epoch 2/50\n",
      "18/18 [==============================] - 0s 2ms/step - loss: 2.9998\n",
      "Epoch 3/50\n",
      "18/18 [==============================] - 0s 1ms/step - loss: 1.7052\n",
      "Epoch 4/50\n",
      "18/18 [==============================] - 0s 2ms/step - loss: 1.2748\n",
      "Epoch 5/50\n",
      "18/18 [==============================] - 0s 1ms/step - loss: 0.7925\n",
      "Epoch 6/50\n",
      "18/18 [==============================] - 0s 2ms/step - loss: 0.6370\n",
      "Epoch 7/50\n",
      "18/18 [==============================] - 0s 2ms/step - loss: 0.5011\n",
      "Epoch 8/50\n",
      "18/18 [==============================] - 0s 1ms/step - loss: 0.4013\n",
      "Epoch 9/50\n",
      "18/18 [==============================] - 0s 2ms/step - loss: 0.3597\n",
      "Epoch 10/50\n",
      "18/18 [==============================] - 0s 2ms/step - loss: 0.3230\n",
      "Epoch 11/50\n",
      "18/18 [==============================] - 0s 1ms/step - loss: 0.3042\n",
      "Epoch 12/50\n",
      "18/18 [==============================] - 0s 2ms/step - loss: 0.2927\n",
      "Epoch 13/50\n",
      "18/18 [==============================] - 0s 1ms/step - loss: 0.2835\n",
      "Epoch 14/50\n",
      "18/18 [==============================] - 0s 1ms/step - loss: 0.2764\n",
      "Epoch 15/50\n",
      "18/18 [==============================] - 0s 1ms/step - loss: 0.2709\n",
      "Epoch 16/50\n",
      "18/18 [==============================] - 0s 1ms/step - loss: 0.2665\n",
      "Epoch 17/50\n",
      "18/18 [==============================] - 0s 1ms/step - loss: 0.2624\n",
      "Epoch 18/50\n",
      "18/18 [==============================] - 0s 1ms/step - loss: 0.2578\n",
      "Epoch 19/50\n",
      "18/18 [==============================] - 0s 1ms/step - loss: 0.2558\n",
      "Epoch 20/50\n",
      "18/18 [==============================] - 0s 1ms/step - loss: 0.2524\n",
      "Epoch 21/50\n",
      "18/18 [==============================] - 0s 1ms/step - loss: 0.2504\n",
      "Epoch 22/50\n",
      "18/18 [==============================] - 0s 2ms/step - loss: 0.2485\n",
      "Epoch 23/50\n",
      "18/18 [==============================] - 0s 2ms/step - loss: 0.2462\n",
      "Epoch 24/50\n",
      "18/18 [==============================] - 0s 1ms/step - loss: 0.2432\n",
      "Epoch 25/50\n",
      "18/18 [==============================] - 0s 1ms/step - loss: 0.2427\n",
      "Epoch 26/50\n",
      "18/18 [==============================] - 0s 1ms/step - loss: 0.2406\n",
      "Epoch 27/50\n",
      "18/18 [==============================] - 0s 1ms/step - loss: 0.2399\n",
      "Epoch 28/50\n",
      "18/18 [==============================] - 0s 1ms/step - loss: 0.2385\n",
      "Epoch 29/50\n",
      "18/18 [==============================] - 0s 1ms/step - loss: 0.2379\n",
      "Epoch 30/50\n",
      "18/18 [==============================] - 0s 1ms/step - loss: 0.2378\n",
      "Epoch 31/50\n",
      "18/18 [==============================] - 0s 1ms/step - loss: 0.2362\n",
      "Epoch 32/50\n",
      "18/18 [==============================] - 0s 2ms/step - loss: 0.2353\n",
      "Epoch 33/50\n",
      "18/18 [==============================] - 0s 2ms/step - loss: 0.2352\n",
      "Epoch 34/50\n",
      "18/18 [==============================] - 0s 2ms/step - loss: 0.2335\n",
      "Epoch 35/50\n",
      "18/18 [==============================] - 0s 1ms/step - loss: 0.2340\n",
      "Epoch 36/50\n",
      "18/18 [==============================] - 0s 1ms/step - loss: 0.2337\n",
      "Epoch 37/50\n",
      "18/18 [==============================] - 0s 1ms/step - loss: 0.2317\n",
      "Epoch 38/50\n",
      "18/18 [==============================] - 0s 2ms/step - loss: 0.2318\n",
      "Epoch 39/50\n",
      "18/18 [==============================] - 0s 1ms/step - loss: 0.2302\n",
      "Epoch 40/50\n",
      "18/18 [==============================] - 0s 2ms/step - loss: 0.2301\n",
      "Epoch 41/50\n",
      "18/18 [==============================] - 0s 2ms/step - loss: 0.2307\n",
      "Epoch 42/50\n",
      "18/18 [==============================] - 0s 2ms/step - loss: 0.2309\n",
      "Epoch 43/50\n",
      "18/18 [==============================] - 0s 2ms/step - loss: 0.2299\n",
      "Epoch 44/50\n",
      "18/18 [==============================] - 0s 2ms/step - loss: 0.2277\n",
      "Epoch 45/50\n",
      "18/18 [==============================] - 0s 2ms/step - loss: 0.2287\n",
      "Epoch 46/50\n",
      "18/18 [==============================] - 0s 2ms/step - loss: 0.2270\n",
      "Epoch 47/50\n",
      "18/18 [==============================] - 0s 1ms/step - loss: 0.2274\n",
      "Epoch 48/50\n",
      "18/18 [==============================] - 0s 2ms/step - loss: 0.2257\n",
      "Epoch 49/50\n",
      "18/18 [==============================] - 0s 2ms/step - loss: 0.2264\n",
      "Epoch 50/50\n",
      "18/18 [==============================] - 0s 1ms/step - loss: 0.2275\n"
     ]
    },
    {
     "data": {
      "text/plain": [
       "<tensorflow.python.keras.callbacks.History at 0x16412f1c0>"
      ]
     },
     "execution_count": 20,
     "metadata": {},
     "output_type": "execute_result"
    }
   ],
   "source": [
    "model.fit(X,Y, epochs=50, batch_size=32)"
   ]
  },
  {
   "cell_type": "code",
   "execution_count": null,
   "id": "bf70e64e",
   "metadata": {},
   "outputs": [],
   "source": []
  }
 ],
 "metadata": {
  "kernelspec": {
   "display_name": "Python 3 (ipykernel)",
   "language": "python",
   "name": "python3"
  },
  "language_info": {
   "codemirror_mode": {
    "name": "ipython",
    "version": 3
   },
   "file_extension": ".py",
   "mimetype": "text/x-python",
   "name": "python",
   "nbconvert_exporter": "python",
   "pygments_lexer": "ipython3",
   "version": "3.9.7"
  }
 },
 "nbformat": 4,
 "nbformat_minor": 5
}
