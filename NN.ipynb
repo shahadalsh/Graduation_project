{
 "cells": [
  {
   "cell_type": "code",
   "execution_count": 107,
   "id": "cf604717",
   "metadata": {
    "scrolled": false
   },
   "outputs": [],
   "source": [
    "import os\n",
    "from numpy import loadtxt\n",
    "from keras.models import Sequential\n",
    "from keras.layers import Dense\n",
    "import pandas as pd\n",
    "from keras.layers import Dense, Dropout, Activation, Conv1D, Flatten\n",
    "import matplotlib.pyplot as plt\n",
    "import tensorflow as tf\n",
    "import keras\n",
    "from tensorflow import keras\n",
    "\n",
    "import tensorflow\n",
    "\n",
    "from keras.optimizers import adam_v2\n",
    "\n",
    "\n",
    "from kerastuner.tuners import RandomSearch\n",
    "from kerastuner.engine.hyperparameters import HyperParameters\n",
    "\n",
    "import time\n",
    "LOG_DIR = \"{int(time.time())}\""
   ]
  },
  {
   "cell_type": "code",
   "execution_count": 108,
   "id": "f62a32ea",
   "metadata": {},
   "outputs": [],
   "source": [
    "train_data = loadtxt('train_data.csv', delimiter=',')"
   ]
  },
  {
   "cell_type": "code",
   "execution_count": 109,
   "id": "4f10d4a7",
   "metadata": {},
   "outputs": [],
   "source": [
    "X_train_data = train_data[:,1:44]\n",
    "y_train_data = train_data[:,0]"
   ]
  },
  {
   "cell_type": "code",
   "execution_count": 110,
   "id": "2c734a92",
   "metadata": {},
   "outputs": [
    {
     "data": {
      "text/plain": [
       "(386, 43)"
      ]
     },
     "execution_count": 110,
     "metadata": {},
     "output_type": "execute_result"
    }
   ],
   "source": [
    "X_train_data.shape"
   ]
  },
  {
   "cell_type": "code",
   "execution_count": 111,
   "id": "393ae0f7",
   "metadata": {},
   "outputs": [],
   "source": [
    "test_data = loadtxt('test_data.csv', delimiter=',')"
   ]
  },
  {
   "cell_type": "code",
   "execution_count": 112,
   "id": "a1fc1a59",
   "metadata": {},
   "outputs": [],
   "source": [
    "X_test_data = test_data[:,1:44]\n",
    "y_test_data = test_data[:,0]"
   ]
  },
  {
   "cell_type": "markdown",
   "id": "3f08ab67",
   "metadata": {},
   "source": [
    "### Train"
   ]
  },
  {
   "cell_type": "markdown",
   "id": "b3beee75",
   "metadata": {},
   "source": [
    "0.001 "
   ]
  },
  {
   "cell_type": "code",
   "execution_count": 170,
   "id": "72287e5d",
   "metadata": {},
   "outputs": [],
   "source": [
    "model = Sequential()\n",
    "model.add(Dense(1024, input_dim=43, activation='relu'))\n",
    "model.add(Dropout(0.5))\n",
    "model.add(Dense(512, activation='relu'))\n",
    "model.add(Dense(256, activation='relu'))\n",
    "model.add(Dense(128, activation='relu'))\n",
    "model.add(Dense(1, activation='sigmoid'))"
   ]
  },
  {
   "cell_type": "code",
   "execution_count": 171,
   "id": "ba323af0",
   "metadata": {},
   "outputs": [],
   "source": [
    "optimizer = adam_v2.Adam(learning_rate=0.001)\n",
    "model.compile(loss='binary_crossentropy',  optimizer=optimizer  , metrics=['accuracy'])"
   ]
  },
  {
   "cell_type": "code",
   "execution_count": 172,
   "id": "0288e07f",
   "metadata": {
    "scrolled": false
   },
   "outputs": [
    {
     "name": "stdout",
     "output_type": "stream",
     "text": [
      "Epoch 1/50\n",
      "11/11 [==============================] - ETA: 8s - loss: 1.8956 - accuracy: 0.56 - ETA: 0s - loss: 3.3259 - accuracy: 0.51 - 1s 33ms/step - loss: 3.1389 - accuracy: 0.5198 - val_loss: 1.1601 - val_accuracy: 0.4615\n",
      "Epoch 2/50\n",
      "11/11 [==============================] - ETA: 0s - loss: 0.7861 - accuracy: 0.68 - ETA: 0s - loss: 0.9082 - accuracy: 0.52 - 0s 8ms/step - loss: 0.9005 - accuracy: 0.5215 - val_loss: 0.6724 - val_accuracy: 0.6154\n",
      "Epoch 3/50\n",
      "11/11 [==============================] - ETA: 0s - loss: 0.7142 - accuracy: 0.43 - ETA: 0s - loss: 0.7076 - accuracy: 0.50 - 0s 9ms/step - loss: 0.7080 - accuracy: 0.5152 - val_loss: 0.6639 - val_accuracy: 0.6410\n",
      "Epoch 4/50\n",
      "11/11 [==============================] - ETA: 0s - loss: 0.6250 - accuracy: 0.68 - ETA: 0s - loss: 0.6693 - accuracy: 0.59 - 0s 8ms/step - loss: 0.6711 - accuracy: 0.5916 - val_loss: 0.6814 - val_accuracy: 0.4872\n",
      "Epoch 5/50\n",
      "11/11 [==============================] - ETA: 0s - loss: 0.6970 - accuracy: 0.56 - ETA: 0s - loss: 0.6916 - accuracy: 0.61 - 0s 7ms/step - loss: 0.6948 - accuracy: 0.6139 - val_loss: 0.7105 - val_accuracy: 0.5385\n",
      "Epoch 6/50\n",
      "11/11 [==============================] - ETA: 0s - loss: 0.7870 - accuracy: 0.40 - ETA: 0s - loss: 0.7523 - accuracy: 0.49 - 0s 8ms/step - loss: 0.7523 - accuracy: 0.5020 - val_loss: 0.6780 - val_accuracy: 0.5641\n",
      "Epoch 7/50\n",
      "11/11 [==============================] - ETA: 0s - loss: 0.7388 - accuracy: 0.46 - 0s 7ms/step - loss: 0.7133 - accuracy: 0.5350 - val_loss: 0.6587 - val_accuracy: 0.6410\n",
      "Epoch 8/50\n",
      "11/11 [==============================] - ETA: 0s - loss: 0.6837 - accuracy: 0.62 - ETA: 0s - loss: 0.6961 - accuracy: 0.53 - 0s 7ms/step - loss: 0.6961 - accuracy: 0.5308 - val_loss: 0.6631 - val_accuracy: 0.5641\n",
      "Epoch 9/50\n",
      "11/11 [==============================] - ETA: 0s - loss: 0.6505 - accuracy: 0.65 - ETA: 0s - loss: 0.6668 - accuracy: 0.58 - 0s 8ms/step - loss: 0.6666 - accuracy: 0.5813 - val_loss: 0.6628 - val_accuracy: 0.5641\n",
      "Epoch 10/50\n",
      "11/11 [==============================] - ETA: 0s - loss: 0.5557 - accuracy: 0.71 - ETA: 0s - loss: 0.6217 - accuracy: 0.63 - 0s 7ms/step - loss: 0.6241 - accuracy: 0.6327 - val_loss: 0.6305 - val_accuracy: 0.6667\n",
      "Epoch 11/50\n",
      "11/11 [==============================] - ETA: 0s - loss: 0.7343 - accuracy: 0.43 - 0s 7ms/step - loss: 0.6940 - accuracy: 0.5297 - val_loss: 0.6638 - val_accuracy: 0.5897\n",
      "Epoch 12/50\n",
      "11/11 [==============================] - ETA: 0s - loss: 0.8337 - accuracy: 0.34 - ETA: 0s - loss: 0.7130 - accuracy: 0.51 - 0s 7ms/step - loss: 0.7096 - accuracy: 0.5177 - val_loss: 0.6330 - val_accuracy: 0.6154\n",
      "Epoch 13/50\n",
      "11/11 [==============================] - ETA: 0s - loss: 0.5846 - accuracy: 0.68 - ETA: 0s - loss: 0.6415 - accuracy: 0.64 - 0s 8ms/step - loss: 0.6420 - accuracy: 0.6445 - val_loss: 0.6522 - val_accuracy: 0.5641\n",
      "Epoch 14/50\n",
      "11/11 [==============================] - ETA: 0s - loss: 0.6920 - accuracy: 0.56 - ETA: 0s - loss: 0.6818 - accuracy: 0.59 - 0s 8ms/step - loss: 0.6797 - accuracy: 0.5945 - val_loss: 0.6759 - val_accuracy: 0.5641\n",
      "Epoch 15/50\n",
      "11/11 [==============================] - ETA: 0s - loss: 0.5369 - accuracy: 0.78 - ETA: 0s - loss: 0.6294 - accuracy: 0.66 - 0s 8ms/step - loss: 0.6345 - accuracy: 0.6552 - val_loss: 0.6264 - val_accuracy: 0.6923\n",
      "Epoch 16/50\n",
      "11/11 [==============================] - ETA: 0s - loss: 0.6202 - accuracy: 0.59 - ETA: 0s - loss: 0.6277 - accuracy: 0.63 - 0s 8ms/step - loss: 0.6295 - accuracy: 0.6337 - val_loss: 0.6927 - val_accuracy: 0.4872\n",
      "Epoch 17/50\n",
      "11/11 [==============================] - ETA: 0s - loss: 0.6417 - accuracy: 0.59 - ETA: 0s - loss: 0.6450 - accuracy: 0.61 - 0s 8ms/step - loss: 0.6454 - accuracy: 0.6152 - val_loss: 0.6897 - val_accuracy: 0.5385\n",
      "Epoch 18/50\n",
      "11/11 [==============================] - ETA: 0s - loss: 0.6641 - accuracy: 0.56 - ETA: 0s - loss: 0.6217 - accuracy: 0.63 - 0s 8ms/step - loss: 0.6227 - accuracy: 0.6376 - val_loss: 0.6180 - val_accuracy: 0.6410\n",
      "Epoch 19/50\n",
      "11/11 [==============================] - ETA: 0s - loss: 0.6267 - accuracy: 0.65 - ETA: 0s - loss: 0.6345 - accuracy: 0.64 - 0s 7ms/step - loss: 0.6346 - accuracy: 0.6465 - val_loss: 0.6052 - val_accuracy: 0.6923\n",
      "Epoch 20/50\n",
      "11/11 [==============================] - ETA: 0s - loss: 0.6236 - accuracy: 0.68 - ETA: 0s - loss: 0.5947 - accuracy: 0.69 - 0s 7ms/step - loss: 0.5964 - accuracy: 0.6957 - val_loss: 0.6008 - val_accuracy: 0.7179\n",
      "Epoch 21/50\n",
      "11/11 [==============================] - ETA: 0s - loss: 0.6087 - accuracy: 0.75 - ETA: 0s - loss: 0.6345 - accuracy: 0.67 - 0s 7ms/step - loss: 0.6347 - accuracy: 0.6701 - val_loss: 0.6043 - val_accuracy: 0.6667\n",
      "Epoch 22/50\n",
      "11/11 [==============================] - ETA: 0s - loss: 0.5758 - accuracy: 0.71 - 0s 7ms/step - loss: 0.6323 - accuracy: 0.6690 - val_loss: 0.7592 - val_accuracy: 0.4615\n",
      "Epoch 23/50\n",
      "11/11 [==============================] - ETA: 0s - loss: 0.6324 - accuracy: 0.59 - ETA: 0s - loss: 0.6909 - accuracy: 0.60 - 0s 7ms/step - loss: 0.6908 - accuracy: 0.5999 - val_loss: 0.6248 - val_accuracy: 0.6923\n",
      "Epoch 24/50\n",
      "11/11 [==============================] - ETA: 0s - loss: 0.6353 - accuracy: 0.65 - ETA: 0s - loss: 0.6260 - accuracy: 0.66 - 0s 8ms/step - loss: 0.6259 - accuracy: 0.6616 - val_loss: 0.6136 - val_accuracy: 0.7179\n",
      "Epoch 25/50\n",
      "11/11 [==============================] - ETA: 0s - loss: 0.5437 - accuracy: 0.71 - ETA: 0s - loss: 0.5967 - accuracy: 0.70 - 0s 7ms/step - loss: 0.5980 - accuracy: 0.6993 - val_loss: 0.6656 - val_accuracy: 0.6154\n",
      "Epoch 26/50\n",
      "11/11 [==============================] - ETA: 0s - loss: 0.5515 - accuracy: 0.71 - ETA: 0s - loss: 0.6112 - accuracy: 0.67 - 0s 7ms/step - loss: 0.6131 - accuracy: 0.6785 - val_loss: 0.6053 - val_accuracy: 0.6923\n",
      "Epoch 27/50\n",
      "11/11 [==============================] - ETA: 0s - loss: 0.6290 - accuracy: 0.62 - ETA: 0s - loss: 0.6041 - accuracy: 0.66 - 0s 7ms/step - loss: 0.6038 - accuracy: 0.6705 - val_loss: 0.7533 - val_accuracy: 0.5385\n",
      "Epoch 28/50\n",
      "11/11 [==============================] - ETA: 0s - loss: 0.6448 - accuracy: 0.68 - ETA: 0s - loss: 0.6914 - accuracy: 0.63 - 0s 8ms/step - loss: 0.6878 - accuracy: 0.6357 - val_loss: 0.6321 - val_accuracy: 0.6154\n",
      "Epoch 29/50\n",
      "11/11 [==============================] - ETA: 0s - loss: 0.4928 - accuracy: 0.87 - 0s 7ms/step - loss: 0.6057 - accuracy: 0.7061 - val_loss: 0.6132 - val_accuracy: 0.6923\n",
      "Epoch 30/50\n",
      "11/11 [==============================] - ETA: 0s - loss: 0.6206 - accuracy: 0.65 - 0s 7ms/step - loss: 0.6148 - accuracy: 0.6730 - val_loss: 0.6087 - val_accuracy: 0.6667\n",
      "Epoch 31/50\n",
      "11/11 [==============================] - ETA: 0s - loss: 0.6321 - accuracy: 0.59 - ETA: 0s - loss: 0.6046 - accuracy: 0.62 - 0s 7ms/step - loss: 0.6041 - accuracy: 0.6300 - val_loss: 0.6333 - val_accuracy: 0.6667\n",
      "Epoch 32/50\n",
      "11/11 [==============================] - ETA: 0s - loss: 0.6777 - accuracy: 0.59 - 0s 7ms/step - loss: 0.6026 - accuracy: 0.6642 - val_loss: 0.6571 - val_accuracy: 0.6667\n",
      "Epoch 33/50\n",
      "11/11 [==============================] - ETA: 0s - loss: 0.6292 - accuracy: 0.68 - ETA: 0s - loss: 0.5979 - accuracy: 0.69 - 0s 8ms/step - loss: 0.5960 - accuracy: 0.6921 - val_loss: 0.6128 - val_accuracy: 0.7179\n",
      "Epoch 34/50\n",
      "11/11 [==============================] - ETA: 0s - loss: 0.6455 - accuracy: 0.53 - ETA: 0s - loss: 0.5640 - accuracy: 0.67 - 0s 8ms/step - loss: 0.5641 - accuracy: 0.6805 - val_loss: 0.6374 - val_accuracy: 0.6923\n",
      "Epoch 35/50\n",
      "11/11 [==============================] - ETA: 0s - loss: 0.6385 - accuracy: 0.59 - ETA: 0s - loss: 0.5980 - accuracy: 0.66 - 0s 8ms/step - loss: 0.5954 - accuracy: 0.6700 - val_loss: 0.6652 - val_accuracy: 0.5897\n",
      "Epoch 36/50\n",
      "11/11 [==============================] - ETA: 0s - loss: 0.4948 - accuracy: 0.71 - ETA: 0s - loss: 0.5851 - accuracy: 0.67 - 0s 8ms/step - loss: 0.5868 - accuracy: 0.6733 - val_loss: 0.5838 - val_accuracy: 0.6667\n",
      "Epoch 37/50\n",
      "11/11 [==============================] - ETA: 0s - loss: 0.5609 - accuracy: 0.68 - 0s 7ms/step - loss: 0.5852 - accuracy: 0.6687 - val_loss: 0.6060 - val_accuracy: 0.6923\n",
      "Epoch 38/50\n",
      "11/11 [==============================] - ETA: 0s - loss: 0.7070 - accuracy: 0.56 - 0s 7ms/step - loss: 0.6324 - accuracy: 0.6326 - val_loss: 0.5905 - val_accuracy: 0.7179\n"
     ]
    },
    {
     "name": "stdout",
     "output_type": "stream",
     "text": [
      "Epoch 39/50\n",
      "11/11 [==============================] - ETA: 0s - loss: 0.5357 - accuracy: 0.87 - 0s 7ms/step - loss: 0.5526 - accuracy: 0.7456 - val_loss: 0.6524 - val_accuracy: 0.6154\n",
      "Epoch 40/50\n",
      "11/11 [==============================] - ETA: 0s - loss: 0.5727 - accuracy: 0.71 - ETA: 0s - loss: 0.5549 - accuracy: 0.72 - 0s 8ms/step - loss: 0.5565 - accuracy: 0.7233 - val_loss: 0.6723 - val_accuracy: 0.6667\n",
      "Epoch 41/50\n",
      "11/11 [==============================] - ETA: 0s - loss: 0.4605 - accuracy: 0.78 - ETA: 0s - loss: 0.5908 - accuracy: 0.67 - 0s 9ms/step - loss: 0.5938 - accuracy: 0.6728 - val_loss: 0.6381 - val_accuracy: 0.6410\n",
      "Epoch 42/50\n",
      "11/11 [==============================] - ETA: 0s - loss: 0.7270 - accuracy: 0.46 - ETA: 0s - loss: 0.6466 - accuracy: 0.59 - 0s 8ms/step - loss: 0.6430 - accuracy: 0.5975 - val_loss: 0.6505 - val_accuracy: 0.6667\n",
      "Epoch 43/50\n",
      "11/11 [==============================] - ETA: 0s - loss: 0.4336 - accuracy: 0.84 - ETA: 0s - loss: 0.5413 - accuracy: 0.73 - 0s 7ms/step - loss: 0.5430 - accuracy: 0.7313 - val_loss: 0.5709 - val_accuracy: 0.6667\n",
      "Epoch 44/50\n",
      "11/11 [==============================] - ETA: 0s - loss: 0.5446 - accuracy: 0.71 - ETA: 0s - loss: 0.5568 - accuracy: 0.70 - 0s 8ms/step - loss: 0.5581 - accuracy: 0.6995 - val_loss: 0.5661 - val_accuracy: 0.7179\n",
      "Epoch 45/50\n",
      "11/11 [==============================] - ETA: 0s - loss: 0.5257 - accuracy: 0.75 - ETA: 0s - loss: 0.5205 - accuracy: 0.74 - 0s 7ms/step - loss: 0.5203 - accuracy: 0.7428 - val_loss: 0.6076 - val_accuracy: 0.7179\n",
      "Epoch 46/50\n",
      "11/11 [==============================] - ETA: 0s - loss: 0.4801 - accuracy: 0.68 - ETA: 0s - loss: 0.4997 - accuracy: 0.73 - 0s 8ms/step - loss: 0.5039 - accuracy: 0.7327 - val_loss: 0.6280 - val_accuracy: 0.7179\n",
      "Epoch 47/50\n",
      "11/11 [==============================] - ETA: 0s - loss: 0.6596 - accuracy: 0.56 - ETA: 0s - loss: 0.5246 - accuracy: 0.70 - 0s 7ms/step - loss: 0.5238 - accuracy: 0.7091 - val_loss: 0.6289 - val_accuracy: 0.6923\n",
      "Epoch 48/50\n",
      "11/11 [==============================] - ETA: 0s - loss: 0.4363 - accuracy: 0.84 - ETA: 0s - loss: 0.5176 - accuracy: 0.73 - 0s 8ms/step - loss: 0.5198 - accuracy: 0.7374 - val_loss: 0.6476 - val_accuracy: 0.6923\n",
      "Epoch 49/50\n",
      "11/11 [==============================] - ETA: 0s - loss: 0.4189 - accuracy: 0.81 - ETA: 0s - loss: 0.5206 - accuracy: 0.75 - 0s 7ms/step - loss: 0.5211 - accuracy: 0.7547 - val_loss: 0.7342 - val_accuracy: 0.6154\n",
      "Epoch 50/50\n",
      "11/11 [==============================] - ETA: 0s - loss: 0.5041 - accuracy: 0.68 - ETA: 0s - loss: 0.5722 - accuracy: 0.66 - 0s 7ms/step - loss: 0.5709 - accuracy: 0.6699 - val_loss: 0.7559 - val_accuracy: 0.5128\n"
     ]
    }
   ],
   "source": [
    "history=model.fit(X_train_data, y_train_data, validation_split=0.10, epochs=50, batch_size=32)\n"
   ]
  },
  {
   "cell_type": "code",
   "execution_count": 173,
   "id": "f2d6815a",
   "metadata": {
    "scrolled": false
   },
   "outputs": [
    {
     "name": "stdout",
     "output_type": "stream",
     "text": [
      "18/18 [==============================] - ETA: 0s - loss: 0.2655 - accuracy: 1.00 - 0s 2ms/step - loss: 0.6166 - accuracy: 0.6250\n",
      "Accuracy: 62.50\n"
     ]
    }
   ],
   "source": [
    "_, accuracy = model.evaluate(X, y)\n",
    "print('Accuracy: %.2f' % (accuracy*100))"
   ]
  },
  {
   "cell_type": "code",
   "execution_count": 174,
   "id": "551e1e45",
   "metadata": {},
   "outputs": [
    {
     "data": {
      "image/png": "[encoded data removed]",
      "text/plain": [
       "<Figure size 432x288 with 1 Axes>"
      ]
     },
     "metadata": {
      "needs_background": "light"
     },
     "output_type": "display_data"
    }
   ],
   "source": [
    "plt.plot(history.history['accuracy'])\n",
    "plt.plot(history.history['val_accuracy'])\n",
    "plt.title('model accuracy')\n",
    "plt.ylabel('accuracy')\n",
    "plt.xlabel('epoch')\n",
    "plt.legend(['train', 'test'], loc='upper left')\n",
    "plt.show()\n"
   ]
  },
  {
   "cell_type": "code",
   "execution_count": 175,
   "id": "31b48f40",
   "metadata": {},
   "outputs": [
    {
     "data": {
      "image/png": "[encoded data removed]",
      "text/plain": [
       "<Figure size 432x288 with 1 Axes>"
      ]
     },
     "metadata": {
      "needs_background": "light"
     },
     "output_type": "display_data"
    }
   ],
   "source": [
    "plt.plot(history.history['loss'])\n",
    "plt.plot(history.history['val_loss'])\n",
    "plt.title('model loss')\n",
    "plt.ylabel('loss')\n",
    "plt.xlabel('epoch')\n",
    "plt.legend(['Train', 'Validation'], loc='upper left')\n",
    "plt.show()"
   ]
  },
  {
   "cell_type": "code",
   "execution_count": null,
   "id": "29c9018a",
   "metadata": {},
   "outputs": [],
   "source": [
    "model.save_weightss"
   ]
  },
  {
   "cell_type": "markdown",
   "id": "5733c420",
   "metadata": {},
   "source": [
    "### Trining "
   ]
  },
  {
   "cell_type": "code",
   "execution_count": null,
   "id": "e3ef064e",
   "metadata": {},
   "outputs": [],
   "source": [
    "model.compile(loss='binary_crossentropy', optimizer='adam', metrics=['accuracy'])"
   ]
  },
  {
   "cell_type": "markdown",
   "id": "c9810b2d",
   "metadata": {},
   "source": [
    "### Making predections"
   ]
  },
  {
   "cell_type": "code",
   "execution_count": null,
   "id": "5c98ab82",
   "metadata": {},
   "outputs": [],
   "source": [
    "\n",
    "# make class predictions with the model\n",
    "predictions = model.predict_classes(X)\n",
    "# summarize the first 5 cases\n",
    "for i in range(500):\n",
    "\tprint('%s => %d (expected %d)' % (X[i].tolist(), predictions[i], y[i]))"
   ]
  },
  {
   "cell_type": "code",
   "execution_count": null,
   "id": "d343cc9f",
   "metadata": {},
   "outputs": [],
   "source": []
  }
 ],
 "metadata": {
  "kernelspec": {
   "display_name": "Python 3 (ipykernel)",
   "language": "python",
   "name": "python3"
  },
  "language_info": {
   "codemirror_mode": {
    "name": "ipython",
    "version": 3
   },
   "file_extension": ".py",
   "mimetype": "text/x-python",
   "name": "python",
   "nbconvert_exporter": "python",
   "pygments_lexer": "ipython3",
   "version": "3.9.7"
  }
 },
 "nbformat": 4,
 "nbformat_minor": 5
}
