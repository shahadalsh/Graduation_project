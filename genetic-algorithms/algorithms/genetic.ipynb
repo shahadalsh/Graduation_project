{
 "cells": [
  {
   "cell_type": "code",
   "execution_count": 1,
   "id": "c37e97d8",
   "metadata": {},
   "outputs": [],
   "source": [
    "from random import choices, randint, randrange, random\n",
    "from typing import List, Optional, Callable, Tuple"
   ]
  },
  {
   "cell_type": "code",
   "execution_count": 2,
   "id": "f1de4595",
   "metadata": {},
   "outputs": [],
   "source": [
    "Genome = List[int]\n",
    "Population = List[Genome]\n",
    "PopulateFunc = Callable[[], Population]\n",
    "FitnessFunc = Callable[[Genome], int]\n",
    "SelectionFunc = Callable[[Population, FitnessFunc], Tuple[Genome, Genome]]\n",
    "CrossoverFunc = Callable[[Genome, Genome], Tuple[Genome, Genome]]\n",
    "MutationFunc = Callable[[Genome], Genome]\n",
    "PrinterFunc = Callable[[Population, int, FitnessFunc], None]"
   ]
  },
  {
   "cell_type": "code",
   "execution_count": 3,
   "id": "fbb7cf20",
   "metadata": {},
   "outputs": [],
   "source": [
    "\n",
    "def generate_genome(length: int) -> Genome:\n",
    "    return choices([0, 1], k=length)\n"
   ]
  },
  {
   "cell_type": "code",
   "execution_count": 4,
   "id": "9a76cbc2",
   "metadata": {},
   "outputs": [],
   "source": [
    "def generate_population(size: int, genome_length: int) -> Population:\n",
    "    return [generate_genome(genome_length) for _ in range(size)]"
   ]
  },
  {
   "cell_type": "code",
   "execution_count": 14,
   "id": "3a237950",
   "metadata": {},
   "outputs": [],
   "source": [
    "def single_point_crossover(a: Genome, b: Genome) -> Tuple[Genome, Genome]:\n",
    "    if len(a) != len(b):\n",
    "        raise ValueError(\"Genomes a and b must be of same length\")\n",
    "    length = len(a)\n",
    "    if length < 2:\n",
    "        return a, b\n",
    "    p = randint(1, length - 1)\n",
    "    return a[0:p] + b[p:], b[0:p] + a[p:]\n",
    "\n"
   ]
  },
  {
   "cell_type": "code",
   "execution_count": 15,
   "id": "91476f1a",
   "metadata": {},
   "outputs": [],
   "source": [
    "def mutation(genome: Genome, num: int = 1, probability: float = 0.5) -> Genome:\n",
    "    for _ in range(num):\n",
    "        index = randrange(len(genome))\n",
    "        genome[index] = genome[index] if random() > probability else abs(genome[index] - 1)\n",
    "    return genome"
   ]
  },
  {
   "cell_type": "code",
   "execution_count": 16,
   "id": "e7e4bae7",
   "metadata": {},
   "outputs": [],
   "source": [
    "def population_fitness(population: Population, fitness_func: FitnessFunc) -> int:\n",
    "    return sum([fitness_func(genome) for genome in population])\n",
    "\n",
    "\n",
    "def selection_pair(population: Population, fitness_func: FitnessFunc) -> Population:\n",
    "    return choices(\n",
    "        population=population,\n",
    "        weights=[fitness_func(gene) for gene in population],\n",
    "        k=2\n",
    "    )\n",
    "\n"
   ]
  },
  {
   "cell_type": "code",
   "execution_count": 17,
   "id": "7a6f7b1a",
   "metadata": {},
   "outputs": [],
   "source": [
    "def sort_population(population: Population, fitness_func: FitnessFunc) -> Population:\n",
    "    return sorted(population, key=fitness_func, reverse=True)\n",
    "\n",
    "\n",
    "def genome_to_string(genome: Genome) -> str:\n",
    "    return \"\".join(map(str, genome))\n",
    "\n",
    "\n",
    "def print_stats(population: Population, generation_id: int, fitness_func: FitnessFunc):\n",
    "    print(\"GENERATION %02d\" % generation_id)\n",
    "    print(\"=============\")\n",
    "    print(\"Population: [%s]\" % \", \".join([genome_to_string(gene) for gene in population]))\n",
    "    print(\"Avg. Fitness: %f\" % (population_fitness(population, fitness_func) / len(population)))\n",
    "    sorted_population = sort_population(population, fitness_func)\n",
    "    print(\n",
    "        \"Best: %s (%f)\" % (genome_to_string(sorted_population[0]), fitness_func(sorted_population[0])))\n",
    "    print(\"Worst: %s (%f)\" % (genome_to_string(sorted_population[-1]),\n",
    "                              fitness_func(sorted_population[-1])))\n",
    "    print(\"\")\n",
    "\n",
    "    return sorted_population[0]"
   ]
  },
  {
   "cell_type": "code",
   "execution_count": 18,
   "id": "4973e8e3",
   "metadata": {},
   "outputs": [],
   "source": [
    "def run_evolution(\n",
    "        populate_func: PopulateFunc,\n",
    "        fitness_func: FitnessFunc,\n",
    "        fitness_limit: int,\n",
    "        selection_func: SelectionFunc = selection_pair,\n",
    "        crossover_func: CrossoverFunc = single_point_crossover,\n",
    "        mutation_func: MutationFunc = mutation,\n",
    "        generation_limit: int = 100,\n",
    "        printer: Optional[PrinterFunc] = None) \\\n",
    "        -> Tuple[Population, int]:\n",
    "    population = populate_func()\n",
    "\n",
    "    for i in range(generation_limit):\n",
    "        population = sorted(population, key=lambda genome: fitness_func(genome), reverse=True)\n",
    "\n",
    "        if printer is not None:\n",
    "            printer(population, i, fitness_func)\n",
    "\n",
    "        if fitness_func(population[0]) >= fitness_limit:\n",
    "            break\n",
    "\n",
    "        next_generation = population[0:2]\n",
    "\n",
    "        for j in range(int(len(population) / 2) - 1):\n",
    "            parents = selection_func(population, fitness_func)\n",
    "            offspring_a, offspring_b = crossover_func(parents[0], parents[1])\n",
    "            offspring_a = mutation_func(offspring_a)\n",
    "            offspring_b = mutation_func(offspring_b)\n",
    "            next_generation += [offspring_a, offspring_b]\n",
    "\n",
    "        population = next_generation\n",
    "\n",
    "    return population, i\n"
   ]
  },
  {
   "cell_type": "code",
   "execution_count": null,
   "id": "fdf33545",
   "metadata": {},
   "outputs": [],
   "source": []
  }
 ],
 "metadata": {
  "kernelspec": {
   "display_name": "Python 3 (ipykernel)",
   "language": "python",
   "name": "python3"
  },
  "language_info": {
   "codemirror_mode": {
    "name": "ipython",
    "version": 3
   },
   "file_extension": ".py",
   "mimetype": "text/x-python",
   "name": "python",
   "nbconvert_exporter": "python",
   "pygments_lexer": "ipython3",
   "version": "3.9.6"
  }
 },
 "nbformat": 4,
 "nbformat_minor": 5
}
