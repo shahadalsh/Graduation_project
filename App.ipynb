{
 "cells": [
  {
   "cell_type": "code",
   "execution_count": 1,
   "id": "b7afc345",
   "metadata": {},
   "outputs": [],
   "source": [
    "from keras.models import model_from_json\n",
    "import tensorflow as tf\n",
    "from tensorflow import lite\n",
    "from tensorflow import keras\n",
    "import numpy \n",
    "from tensorflow.keras import layers as l\n",
    "import numpy as np\n",
    "import pandas as pd\n",
    "import tensorflow as tf\n",
    "from numpy import loadtxt\n",
    "from tensorflow import keras"
   ]
  },
  {
   "cell_type": "code",
   "execution_count": 8,
   "id": "137e6928",
   "metadata": {
    "scrolled": true
   },
   "outputs": [],
   "source": [
    "model = keras.models.load_model('our_model.h5')"
   ]
  },
  {
   "cell_type": "code",
   "execution_count": 2,
   "id": "4f9ce721",
   "metadata": {},
   "outputs": [],
   "source": [
    "path= \"/Users/shahrasm/Documents/Graduation_project/\"\n",
    "modelpath=path+\"bestmodel\"\n",
    "col=range(71)\n"
   ]
  },
  {
   "cell_type": "code",
   "execution_count": 3,
   "id": "56e296be",
   "metadata": {},
   "outputs": [],
   "source": [
    "test_data = pd.read_csv(path+'test_data.csv',names=col)\n",
    "Xts = test_data.loc[:,1:]\n",
    "yts = test_data.loc[:,0]"
   ]
  },
  {
   "cell_type": "code",
   "execution_count": 5,
   "id": "76324137",
   "metadata": {},
   "outputs": [],
   "source": [
    "ts=[]\n",
    "for c in range(1,71):\n",
    "    e=Xts[c]\n",
    "    meanc=np.mean(e) \n",
    "    varc=np.var(e) \n",
    "    normalize=l.Normalization(mean=meanc,variance=varc)\n",
    "    e=normalize(e)\n",
    "    ts.append(e)"
   ]
  },
  {
   "cell_type": "code",
   "execution_count": 6,
   "id": "4f83e4dd",
   "metadata": {},
   "outputs": [],
   "source": [
    "Xts=np.array(ts)\n",
    "Xts=np.transpose(Xts)"
   ]
  },
  {
   "cell_type": "code",
   "execution_count": 9,
   "id": "ddbb90bc",
   "metadata": {
    "scrolled": true
   },
   "outputs": [
    {
     "name": "stdout",
     "output_type": "stream",
     "text": [
      "0 (expected 1)\n",
      "1 (expected 1)\n",
      "1 (expected 1)\n",
      "0 (expected 1)\n",
      "1 (expected 1)\n",
      "1 (expected 1)\n",
      "1 (expected 1)\n",
      "1 (expected 1)\n",
      "0 (expected 1)\n",
      "1 (expected 1)\n",
      "1 (expected 1)\n",
      "0 (expected 1)\n",
      "0 (expected 1)\n",
      "1 (expected 1)\n",
      "1 (expected 1)\n",
      "1 (expected 1)\n",
      "0 (expected 1)\n",
      "1 (expected 1)\n",
      "1 (expected 1)\n",
      "1 (expected 1)\n",
      "0 (expected 1)\n",
      "1 (expected 1)\n",
      "0 (expected 1)\n",
      "1 (expected 1)\n",
      "1 (expected 1)\n",
      "1 (expected 1)\n",
      "0 (expected 1)\n",
      "1 (expected 1)\n",
      "1 (expected 1)\n",
      "1 (expected 1)\n",
      "1 (expected 1)\n",
      "1 (expected 1)\n",
      "1 (expected 1)\n",
      "1 (expected 1)\n",
      "1 (expected 1)\n",
      "0 (expected 1)\n",
      "0 (expected 1)\n",
      "1 (expected 1)\n",
      "1 (expected 1)\n",
      "1 (expected 1)\n",
      "1 (expected 1)\n",
      "0 (expected 1)\n",
      "1 (expected 1)\n",
      "1 (expected 1)\n",
      "1 (expected 1)\n",
      "1 (expected 1)\n",
      "1 (expected 1)\n",
      "1 (expected 1)\n",
      "0 (expected 1)\n",
      "0 (expected 1)\n",
      "0 (expected 1)\n",
      "1 (expected 1)\n",
      "1 (expected 1)\n",
      "1 (expected 1)\n",
      "1 (expected 1)\n",
      "1 (expected 1)\n",
      "1 (expected 1)\n",
      "0 (expected 1)\n",
      "1 (expected 1)\n",
      "1 (expected 1)\n",
      "1 (expected 1)\n",
      "1 (expected 1)\n",
      "1 (expected 1)\n",
      "1 (expected 1)\n",
      "1 (expected 1)\n",
      "1 (expected 1)\n",
      "1 (expected 1)\n",
      "1 (expected 1)\n",
      "1 (expected 1)\n",
      "1 (expected 1)\n",
      "1 (expected 1)\n",
      "1 (expected 1)\n",
      "0 (expected 1)\n",
      "0 (expected 1)\n",
      "1 (expected 1)\n",
      "0 (expected 1)\n",
      "0 (expected 1)\n",
      "1 (expected 1)\n",
      "1 (expected 1)\n",
      "1 (expected 1)\n",
      "1 (expected 1)\n",
      "1 (expected 1)\n",
      "1 (expected 1)\n",
      "0 (expected 1)\n",
      "1 (expected 1)\n",
      "1 (expected 1)\n",
      "1 (expected 1)\n",
      "1 (expected 1)\n",
      "1 (expected 1)\n",
      "1 (expected 1)\n",
      "1 (expected 1)\n",
      "1 (expected 1)\n",
      "0 (expected 0)\n",
      "0 (expected 0)\n",
      "1 (expected 0)\n",
      "0 (expected 0)\n",
      "0 (expected 0)\n",
      "1 (expected 0)\n",
      "0 (expected 0)\n",
      "0 (expected 0)\n",
      "0 (expected 0)\n",
      "0 (expected 0)\n",
      "0 (expected 0)\n",
      "0 (expected 0)\n",
      "1 (expected 0)\n",
      "0 (expected 0)\n",
      "1 (expected 0)\n",
      "0 (expected 0)\n",
      "1 (expected 0)\n",
      "1 (expected 0)\n",
      "0 (expected 0)\n",
      "1 (expected 0)\n",
      "0 (expected 0)\n",
      "0 (expected 0)\n",
      "0 (expected 0)\n",
      "0 (expected 0)\n",
      "1 (expected 0)\n",
      "1 (expected 0)\n",
      "0 (expected 0)\n",
      "1 (expected 0)\n",
      "0 (expected 0)\n",
      "0 (expected 0)\n",
      "0 (expected 0)\n",
      "0 (expected 0)\n",
      "0 (expected 0)\n",
      "0 (expected 0)\n",
      "0 (expected 0)\n",
      "0 (expected 0)\n",
      "0 (expected 0)\n",
      "0 (expected 0)\n",
      "1 (expected 0)\n",
      "0 (expected 0)\n",
      "1 (expected 0)\n",
      "1 (expected 0)\n",
      "1 (expected 0)\n",
      "0 (expected 0)\n",
      "0 (expected 0)\n",
      "0 (expected 0)\n",
      "0 (expected 0)\n",
      "0 (expected 0)\n",
      "1 (expected 0)\n",
      "0 (expected 0)\n",
      "0 (expected 0)\n",
      "0 (expected 0)\n",
      "0 (expected 0)\n",
      "0 (expected 0)\n",
      "1 (expected 0)\n",
      "1 (expected 0)\n",
      "0 (expected 0)\n",
      "0 (expected 0)\n",
      "1 (expected 0)\n",
      "0 (expected 0)\n",
      "1 (expected 0)\n",
      "0 (expected 0)\n",
      "1 (expected 0)\n",
      "1 (expected 0)\n",
      "0 (expected 0)\n",
      "0 (expected 0)\n",
      "1 (expected 0)\n",
      "0 (expected 0)\n",
      "0 (expected 0)\n",
      "0 (expected 0)\n",
      "0 (expected 0)\n",
      "0 (expected 0)\n",
      "0 (expected 0)\n",
      "1 (expected 0)\n"
     ]
    }
   ],
   "source": [
    "predictions = (model.predict(Xts) > 0.5).astype(\"int32\")\n",
    "for i in range(166):\n",
    "\tprint('%d (expected %d)' % ( predictions[i], yts[i]))"
   ]
  },
  {
   "cell_type": "code",
   "execution_count": 10,
   "id": "207a775a",
   "metadata": {},
   "outputs": [],
   "source": [
    "from sklearn.metrics import confusion_matrix"
   ]
  },
  {
   "cell_type": "code",
   "execution_count": 11,
   "id": "3255c264",
   "metadata": {},
   "outputs": [
    {
     "data": {
      "text/plain": [
       "array([0, 1, 1, 0, 1, 1, 1, 1, 0, 1, 1, 0, 0, 1, 1, 1, 0, 1, 1, 1, 0, 1,\n",
       "       0, 1, 1, 1, 0, 1, 1, 1, 1, 1, 1, 1, 1, 0, 0, 1, 1, 1, 1, 0, 1, 1,\n",
       "       1, 1, 1, 1, 0, 0, 0, 1, 1, 1, 1, 1, 1, 0, 1, 1, 1, 1, 1, 1, 1, 1,\n",
       "       1, 1, 1, 1, 1, 1, 0, 0, 1, 0, 0, 1, 1, 1, 1, 1, 1, 0, 1, 1, 1, 1,\n",
       "       1, 1, 1, 1, 0, 0, 1, 0, 0, 1, 0, 0, 0, 0, 0, 0, 1, 0, 1, 0, 1, 1,\n",
       "       0, 1, 0, 0, 0, 0, 1, 1, 0, 1, 0, 0, 0, 0, 0, 0, 0, 0, 0, 0, 1, 0,\n",
       "       1, 1, 1, 0, 0, 0, 0, 0, 1, 0, 0, 0, 0, 0, 1, 1, 0, 0, 1, 0, 1, 0,\n",
       "       1, 1, 0, 0, 1, 0, 0, 0, 0, 0, 0, 1], dtype=int32)"
      ]
     },
     "execution_count": 11,
     "metadata": {},
     "output_type": "execute_result"
    }
   ],
   "source": [
    "predictions.reshape(-1)"
   ]
  },
  {
   "cell_type": "code",
   "execution_count": 12,
   "id": "4e65ae90",
   "metadata": {},
   "outputs": [],
   "source": [
    "y_actu = yts\n",
    "y_pred = predictions.reshape(-1)"
   ]
  },
  {
   "cell_type": "code",
   "execution_count": 14,
   "id": "f47a2a75",
   "metadata": {},
   "outputs": [],
   "source": [
    "array=confusion_matrix(y_actu,y_pred)"
   ]
  },
  {
   "cell_type": "code",
   "execution_count": 15,
   "id": "e8774af7",
   "metadata": {},
   "outputs": [],
   "source": [
    "import seaborn as sn\n",
    "import pandas as pd\n",
    "import matplotlib.pyplot as plt"
   ]
  },
  {
   "cell_type": "code",
   "execution_count": 16,
   "id": "d2db9906",
   "metadata": {},
   "outputs": [
    {
     "data": {
      "image/png": "[encoded data removed]",
      "text/plain": [
       "<Figure size 432x288 with 2 Axes>"
      ]
     },
     "metadata": {},
     "output_type": "display_data"
    }
   ],
   "source": [
    "df_cm = pd.DataFrame(array, range(2), range(2))\n",
    "# plt.figure(figsize=(10,7))\n",
    "sn.set(font_scale=1.4) # for label size\n",
    "sn.heatmap(df_cm, annot=True, annot_kws={\"size\": 16}) # font size\n",
    "\n",
    "plt.show()"
   ]
  },
  {
   "cell_type": "code",
   "execution_count": null,
   "id": "91621a9a",
   "metadata": {},
   "outputs": [],
   "source": []
  }
 ],
 "metadata": {
  "kernelspec": {
   "display_name": "Python 3 (ipykernel)",
   "language": "python",
   "name": "python3"
  },
  "language_info": {
   "codemirror_mode": {
    "name": "ipython",
    "version": 3
   },
   "file_extension": ".py",
   "mimetype": "text/x-python",
   "name": "python",
   "nbconvert_exporter": "python",
   "pygments_lexer": "ipython3",
   "version": "3.9.7"
  }
 },
 "nbformat": 4,
 "nbformat_minor": 5
}
