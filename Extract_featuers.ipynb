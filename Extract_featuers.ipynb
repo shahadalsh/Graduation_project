{
 "cells": [
  {
   "cell_type": "code",
   "execution_count": 1,
   "id": "be3bcc90",
   "metadata": {},
   "outputs": [
    {
     "name": "stderr",
     "output_type": "stream",
     "text": [
      "/bin/sh: sox: command not found\n",
      "SoX could not be found!\n",
      "\n",
      "    If you do not have SoX, proceed here:\n",
      "     - - - http://sox.sourceforge.net/ - - -\n",
      "\n",
      "    If you do (or think that you should) have SoX, double-check your\n",
      "    path variables.\n",
      "    \n"
     ]
    }
   ],
   "source": [
    "import opensmile\n",
    "import glob\n",
    "import pandas as pd\n",
    "import csv\n",
    "import numpy as np"
   ]
  },
  {
   "cell_type": "code",
   "execution_count": 2,
   "id": "37b01d57",
   "metadata": {},
   "outputs": [],
   "source": [
    "smile = opensmile.Smile(\n",
    "    feature_set=opensmile.FeatureSet.ComParE_2016,\n",
    "    feature_level=opensmile.FeatureLevel.Functionals,\n",
    ")\n",
    "y = smile.process_file('001-2.wav')"
   ]
  },
  {
   "cell_type": "code",
   "execution_count": 3,
   "id": "82875447",
   "metadata": {},
   "outputs": [],
   "source": [
    "new=y[['audspecRasta_lengthL1norm_sma_lpc1',\n",
    "       'audspec_lengthL1norm_sma_de_quartile3',\n",
    "       'audspec_lengthL1norm_sma_de_skewness',\n",
    "       'audspec_lengthL1norm_sma_de_lpc1',\n",
    "       'audSpec_Rfilt_sma[1]_upleveltime25', 'audSpec_Rfilt_sma[8]_lpc1',\n",
    "       'audSpec_Rfilt_sma[12]_iqr1-3', 'audSpec_Rfilt_sma[14]_iqr1-3',\n",
    "       'audSpec_Rfilt_sma[15]_iqr2-3', 'audSpec_Rfilt_sma[17]_iqr2-3',\n",
    "       'audSpec_Rfilt_sma[17]_skewness', 'audSpec_Rfilt_sma[18]_maxSegLen',\n",
    "       'pcm_fftMag_spectralRollOff25.0_sma_maxSegLen',\n",
    "       'pcm_fftMag_spectralRollOff50.0_sma_upleveltime75',\n",
    "       'pcm_fftMag_spectralVariance_sma_risetime',\n",
    "       'pcm_fftMag_spectralKurtosis_sma_lpc0',\n",
    "       'pcm_fftMag_spectralSlope_sma_iqr1-2',\n",
    "       'pcm_fftMag_psySharpness_sma_lpc3', 'mfcc_sma[2]_range',\n",
    "       'mfcc_sma[4]_lpc2', 'mfcc_sma[6]_skewness', 'mfcc_sma[7]_quartile2',\n",
    "       'mfcc_sma[7]_quartile3', 'mfcc_sma[7]_iqr2-3',\n",
    "       'mfcc_sma[9]_pctlrange0-1', 'mfcc_sma[11]_range',\n",
    "       'mfcc_sma[12]_percentile1.0', 'mfcc_sma[14]_quartile1',\n",
    "       'audSpec_Rfilt_sma_de[0]_quartile3',\n",
    "       'audSpec_Rfilt_sma_de[3]_meanSegLen',\n",
    "       'audSpec_Rfilt_sma_de[8]_pctlrange0-1',\n",
    "       'audSpec_Rfilt_sma_de[9]_minPos',\n",
    "       'audSpec_Rfilt_sma_de[13]_percentile99.0',\n",
    "       'audSpec_Rfilt_sma_de[17]_pctlrange0-1',\n",
    "       'audSpec_Rfilt_sma_de[19]_percentile1.0',\n",
    "       'audSpec_Rfilt_sma_de[19]_segLenStddev',\n",
    "       'audSpec_Rfilt_sma_de[24]_lpc3', 'audSpec_Rfilt_sma_de[25]_skewness',\n",
    "       'audSpec_Rfilt_sma_de[25]_lpc3',\n",
    "       'pcm_fftMag_spectralRollOff25.0_sma_de_lpc4',\n",
    "       'pcm_fftMag_spectralFlux_sma_de_stddev',\n",
    "       'pcm_fftMag_spectralSkewness_sma_de_pctlrange0-1',\n",
    "       'mfcc_sma_de[1]_percentile1.0', 'mfcc_sma_de[4]_meanSegLen',\n",
    "       'mfcc_sma_de[4]_upleveltime25', 'mfcc_sma_de[5]_skewness',\n",
    "       'mfcc_sma_de[6]_upleveltime50', 'mfcc_sma_de[13]_percentile1.0',\n",
    "       'mfcc_sma_de[14]_kurtosis', 'F0final_sma_upleveltime75',\n",
    "       'jitterDDP_sma_flatness', 'voicingFinalUnclipped_sma_de_lpc2',\n",
    "       'jitterLocal_sma_de_lpc1', 'logHNR_sma_de_lpc0',\n",
    "       'audspec_lengthL1norm_sma_linregc1',\n",
    "       'audSpec_Rfilt_sma[2]_stddevFallingSlope',\n",
    "       'audSpec_Rfilt_sma[15]_qregerrQ', 'audSpec_Rfilt_sma[18]_amean',\n",
    "       'audSpec_Rfilt_sma[19]_rqmean',\n",
    "       'pcm_fftMag_spectralRollOff50.0_sma_qregerrQ',\n",
    "       'pcm_fftMag_spectralEntropy_sma_flatness',\n",
    "       'pcm_fftMag_spectralVariance_sma_flatness',\n",
    "       'pcm_fftMag_spectralKurtosis_sma_peakMeanMeanDist', 'mfcc_sma[7]_amean',\n",
    "       'audSpec_Rfilt_sma_de[2]_flatness',\n",
    "       'audSpec_Rfilt_sma_de[7]_stddevFallingSlope',\n",
    "       'audSpec_Rfilt_sma_de[12]_peakMeanRel',\n",
    "       'audSpec_Rfilt_sma_de[12]_minRangeRel',\n",
    "       'pcm_fftMag_spectralSkewness_sma_de_peakMeanAbs',\n",
    "       'mfcc_sma_de[3]_meanRisingSlope']]"
   ]
  },
  {
   "cell_type": "code",
   "execution_count": 4,
   "id": "aadf07e1",
   "metadata": {},
   "outputs": [],
   "source": [
    "re=new.to_csv(\"data_record.csv\")"
   ]
  },
  {
   "cell_type": "code",
   "execution_count": 7,
   "id": "236f00ed",
   "metadata": {},
   "outputs": [
    {
     "ename": "AttributeError",
     "evalue": "module 'pandas' has no attribute 're'",
     "output_type": "error",
     "traceback": [
      "\u001b[0;31m---------------------------------------------------------------------------\u001b[0m",
      "\u001b[0;31mAttributeError\u001b[0m                            Traceback (most recent call last)",
      "\u001b[0;32m/var/folders/sg/npfgphln5rvg79dblr6m2_xn5ypssy/T/ipykernel_29787/382777233.py\u001b[0m in \u001b[0;36m<module>\u001b[0;34m\u001b[0m\n\u001b[0;32m----> 1\u001b[0;31m \u001b[0mdata\u001b[0m \u001b[0;34m=\u001b[0m \u001b[0mpd\u001b[0m\u001b[0;34m.\u001b[0m\u001b[0mDataFrame\u001b[0m\u001b[0;34m(\u001b[0m\u001b[0mpd\u001b[0m\u001b[0;34m.\u001b[0m\u001b[0mre\u001b[0m\u001b[0;34m)\u001b[0m\u001b[0;34m\u001b[0m\u001b[0;34m\u001b[0m\u001b[0m\n\u001b[0m",
      "\u001b[0;32m~/myenv/lib/python3.9/site-packages/pandas/__init__.py\u001b[0m in \u001b[0;36m__getattr__\u001b[0;34m(name)\u001b[0m\n\u001b[1;32m    242\u001b[0m         \u001b[0;32mreturn\u001b[0m \u001b[0m_SparseArray\u001b[0m\u001b[0;34m\u001b[0m\u001b[0;34m\u001b[0m\u001b[0m\n\u001b[1;32m    243\u001b[0m \u001b[0;34m\u001b[0m\u001b[0m\n\u001b[0;32m--> 244\u001b[0;31m     \u001b[0;32mraise\u001b[0m \u001b[0mAttributeError\u001b[0m\u001b[0;34m(\u001b[0m\u001b[0;34mf\"module 'pandas' has no attribute '{name}'\"\u001b[0m\u001b[0;34m)\u001b[0m\u001b[0;34m\u001b[0m\u001b[0;34m\u001b[0m\u001b[0m\n\u001b[0m\u001b[1;32m    245\u001b[0m \u001b[0;34m\u001b[0m\u001b[0m\n\u001b[1;32m    246\u001b[0m \u001b[0;34m\u001b[0m\u001b[0m\n",
      "\u001b[0;31mAttributeError\u001b[0m: module 'pandas' has no attribute 're'"
     ]
    }
   ],
   "source": [
    "data = pd.DataFrame(pd.re)"
   ]
  },
  {
   "cell_type": "code",
   "execution_count": 6,
   "id": "00adfc0a",
   "metadata": {},
   "outputs": [
    {
     "data": {
      "text/html": [
       "<div>\n",
       "<style scoped>\n",
       "    .dataframe tbody tr th:only-of-type {\n",
       "        vertical-align: middle;\n",
       "    }\n",
       "\n",
       "    .dataframe tbody tr th {\n",
       "        vertical-align: top;\n",
       "    }\n",
       "\n",
       "    .dataframe thead th {\n",
       "        text-align: right;\n",
       "    }\n",
       "</style>\n",
       "<table border=\"1\" class=\"dataframe\">\n",
       "  <thead>\n",
       "    <tr style=\"text-align: right;\">\n",
       "      <th></th>\n",
       "    </tr>\n",
       "  </thead>\n",
       "  <tbody>\n",
       "  </tbody>\n",
       "</table>\n",
       "</div>"
      ],
      "text/plain": [
       "Empty DataFrame\n",
       "Columns: []\n",
       "Index: []"
      ]
     },
     "execution_count": 6,
     "metadata": {},
     "output_type": "execute_result"
    }
   ],
   "source": [
    "data"
   ]
  },
  {
   "cell_type": "code",
   "execution_count": null,
   "id": "2652c8c4",
   "metadata": {},
   "outputs": [],
   "source": [
    "data.drop(['file','end','start'],axis='columns', inplace=True)"
   ]
  },
  {
   "cell_type": "code",
   "execution_count": null,
   "id": "570a1aaf",
   "metadata": {},
   "outputs": [],
   "source": []
  }
 ],
 "metadata": {
  "kernelspec": {
   "display_name": "Python 3 (ipykernel)",
   "language": "python",
   "name": "python3"
  },
  "language_info": {
   "codemirror_mode": {
    "name": "ipython",
    "version": 3
   },
   "file_extension": ".py",
   "mimetype": "text/x-python",
   "name": "python",
   "nbconvert_exporter": "python",
   "pygments_lexer": "ipython3",
   "version": "3.9.7"
  }
 },
 "nbformat": 4,
 "nbformat_minor": 5
}
