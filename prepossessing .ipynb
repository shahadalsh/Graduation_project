{
 "cells": [
  {
   "cell_type": "code",
   "execution_count": 6,
   "id": "584b6146",
   "metadata": {},
   "outputs": [],
   "source": [
    "import opensmile\n",
    "import glob\n",
    "import pandas as pd\n",
    "import csv\n",
    "import numpy as np"
   ]
  },
  {
   "cell_type": "code",
   "execution_count": 7,
   "id": "185c22d3",
   "metadata": {},
   "outputs": [],
   "source": [
    "files = glob.glob('dementia/English/Pitt/Dementia/cookie/*.wav') \n",
    "smile = opensmile.Smile(\n",
    "    feature_set=opensmile.FeatureSet.ComParE_2016,\n",
    "    feature_level=opensmile.FeatureLevel.Functionals,\n",
    ")\n",
    "data =smile.process_files(\n",
    "    files,\n",
    "    ends=['120s'] * len(files),\n",
    "    \n",
    ")"
   ]
  },
  {
   "cell_type": "code",
   "execution_count": 8,
   "id": "3f5b86cf",
   "metadata": {},
   "outputs": [],
   "source": [
    "files = glob.glob('dementia/English/Pitt/Control/cookie/*.wav') \n",
    "smile = opensmile.Smile(\n",
    "    feature_set=opensmile.FeatureSet.ComParE_2016,\n",
    "    feature_level=opensmile.FeatureLevel.Functionals,\n",
    ")\n",
    "data2 =smile.process_files(\n",
    "    files,\n",
    "    ends=['120s'] * len(files),\n",
    "    \n",
    ")"
   ]
  },
  {
   "cell_type": "code",
   "execution_count": 9,
   "id": "f58e843a",
   "metadata": {
    "scrolled": true
   },
   "outputs": [],
   "source": [
    "data2.insert(0, \"target\", \"0\")"
   ]
  },
  {
   "cell_type": "code",
   "execution_count": 10,
   "id": "d502d998",
   "metadata": {},
   "outputs": [],
   "source": [
    "data.insert(0, \"target\", \"1\")"
   ]
  },
  {
   "cell_type": "code",
   "execution_count": 12,
   "id": "f7f414b8",
   "metadata": {},
   "outputs": [],
   "source": [
    "result=data.append(data2)"
   ]
  },
  {
   "cell_type": "code",
   "execution_count": 14,
   "id": "38ccc59b",
   "metadata": {},
   "outputs": [],
   "source": [
    "result.to_csv(\"Final_results3.csv\")"
   ]
  },
  {
   "cell_type": "code",
   "execution_count": 16,
   "id": "5f394350",
   "metadata": {
    "scrolled": true
   },
   "outputs": [],
   "source": [
    "new=result[['target','audspecRasta_lengthL1norm_sma_lpc1',\n",
    "       'audspec_lengthL1norm_sma_de_skewness',\n",
    "       'audspec_lengthL1norm_sma_de_lpc1',\n",
    "       'audSpec_Rfilt_sma[1]_upleveltime25', 'audSpec_Rfilt_sma[8]_lpc1',\n",
    "       'audSpec_Rfilt_sma[12]_iqr1-3', 'audSpec_Rfilt_sma[14]_iqr1-3',\n",
    "       'audSpec_Rfilt_sma[15]_iqr2-3', 'audSpec_Rfilt_sma[17]_iqr2-3',\n",
    "       'audSpec_Rfilt_sma[17]_skewness', 'audSpec_Rfilt_sma[18]_maxSegLen',\n",
    "       'pcm_fftMag_spectralRollOff25.0_sma_maxSegLen',\n",
    "       'pcm_fftMag_spectralKurtosis_sma_lpc0',\n",
    "       'pcm_fftMag_psySharpness_sma_lpc3', 'mfcc_sma[2]_range',\n",
    "       'mfcc_sma[4]_lpc2', 'mfcc_sma[6]_skewness', 'mfcc_sma[7]_quartile3',\n",
    "       'mfcc_sma[7]_iqr2-3', 'mfcc_sma[9]_pctlrange0-1', 'mfcc_sma[11]_range',\n",
    "       'mfcc_sma[12]_percentile1.0', 'mfcc_sma[14]_quartile1',\n",
    "       'audSpec_Rfilt_sma_de[3]_meanSegLen',\n",
    "       'audSpec_Rfilt_sma_de[8]_pctlrange0-1',\n",
    "       'audSpec_Rfilt_sma_de[9]_minPos',\n",
    "       'audSpec_Rfilt_sma_de[17]_pctlrange0-1',\n",
    "       'audSpec_Rfilt_sma_de[19]_percentile1.0',\n",
    "       'audSpec_Rfilt_sma_de[19]_segLenStddev',\n",
    "       'audSpec_Rfilt_sma_de[24]_lpc3', 'audSpec_Rfilt_sma_de[25]_skewness',\n",
    "       'audSpec_Rfilt_sma_de[25]_lpc3',\n",
    "       'pcm_fftMag_spectralRollOff25.0_sma_de_lpc4',\n",
    "       'pcm_fftMag_spectralSkewness_sma_de_pctlrange0-1',\n",
    "       'mfcc_sma_de[1]_percentile1.0', 'mfcc_sma_de[4]_meanSegLen',\n",
    "       'mfcc_sma_de[5]_skewness', 'mfcc_sma_de[6]_upleveltime50',\n",
    "       'mfcc_sma_de[13]_percentile1.0', 'mfcc_sma_de[14]_kurtosis',\n",
    "       'jitterDDP_sma_flatness', 'voicingFinalUnclipped_sma_de_lpc2',\n",
    "       'jitterLocal_sma_de_lpc1', 'logHNR_sma_de_lpc0',\n",
    "       'audSpec_Rfilt_sma[2]_stddevFallingSlope',\n",
    "       'audSpec_Rfilt_sma[19]_rqmean',\n",
    "       'pcm_fftMag_spectralEntropy_sma_flatness',\n",
    "       'pcm_fftMag_spectralVariance_sma_flatness',\n",
    "       'pcm_fftMag_spectralKurtosis_sma_peakMeanMeanDist', 'mfcc_sma[7]_amean',\n",
    "       'audSpec_Rfilt_sma_de[2]_flatness',\n",
    "       'audSpec_Rfilt_sma_de[12]_peakMeanRel',\n",
    "       'audSpec_Rfilt_sma_de[12]_minRangeRel',\n",
    "       'pcm_fftMag_spectralSkewness_sma_de_peakMeanAbs',\n",
    "       'mfcc_sma_de[3]_meanRisingSlope']]"
   ]
  },
  {
   "cell_type": "code",
   "execution_count": 17,
   "id": "2f681a20",
   "metadata": {},
   "outputs": [],
   "source": [
    "new.to_csv(\"results_to_spilit.csv\")"
   ]
  },
  {
   "cell_type": "code",
   "execution_count": 19,
   "id": "e9e67d94",
   "metadata": {},
   "outputs": [],
   "source": [
    "import pandas as pd\n",
    "from tqdm import tqdm"
   ]
  },
  {
   "cell_type": "code",
   "execution_count": 20,
   "id": "9aa646c2",
   "metadata": {},
   "outputs": [],
   "source": [
    "sampile= pd.read_csv(\"results_to_spilit.csv\")"
   ]
  },
  {
   "cell_type": "code",
   "execution_count": 22,
   "id": "3763d823",
   "metadata": {},
   "outputs": [],
   "source": [
    "def split_data(data, percent_traning):\n",
    "    \"\"\" Splits data into training and testing datasets\n",
    "    Arguments:\n",
    "    data (list or pd.Dataframe) : Whole dataset\n",
    "    percent_traning (float) : Percentage of training data\n",
    "    Returns:\n",
    "    data_train (pd.Dataframe) : Pandas dataframe holding training datasets\n",
    "    data_test (pd.Dataframe) : Pandas dataframe holding testing datasets\n",
    "    \"\"\"\n",
    "    if not 0 < percent_traning < 1:\n",
    "        raise ValueError(\"Training subset should be in ]0, 1[\")\n",
    "\n",
    "    msg = \"Spliting %.2f%% training subset from data...\\n\"\n",
    "    print(msg % (percent_traning * 1e2))\n",
    "\n",
    "    training_data = data.sample(frac=percent_traning)\n",
    "    data_train = pd.DataFrame(training_data)\n",
    "    data_test = data.drop(data_train.index)\n",
    "    data_test = pd.DataFrame(data_test)\n",
    "    return data_train, data_test"
   ]
  },
  {
   "cell_type": "code",
   "execution_count": 23,
   "id": "31de7a1f",
   "metadata": {},
   "outputs": [
    {
     "name": "stdout",
     "output_type": "stream",
     "text": [
      "Spliting 70.00% training subset from data...\n",
      "\n"
     ]
    }
   ],
   "source": [
    "data_train, data_test=split_data(sampile, 0.7)"
   ]
  },
  {
   "cell_type": "code",
   "execution_count": 24,
   "id": "e63276e1",
   "metadata": {},
   "outputs": [],
   "source": [
    "data_train.to_csv(\"train_data.csv\")"
   ]
  },
  {
   "cell_type": "code",
   "execution_count": 25,
   "id": "2efa6530",
   "metadata": {},
   "outputs": [],
   "source": [
    "data_test.to_csv(\"test_data.csv\")"
   ]
  },
  {
   "cell_type": "code",
   "execution_count": null,
   "id": "3be9b7e1",
   "metadata": {},
   "outputs": [],
   "source": []
  }
 ],
 "metadata": {
  "kernelspec": {
   "display_name": "Python 3 (ipykernel)",
   "language": "python",
   "name": "python3"
  },
  "language_info": {
   "codemirror_mode": {
    "name": "ipython",
    "version": 3
   },
   "file_extension": ".py",
   "mimetype": "text/x-python",
   "name": "python",
   "nbconvert_exporter": "python",
   "pygments_lexer": "ipython3",
   "version": "3.9.7"
  }
 },
 "nbformat": 4,
 "nbformat_minor": 5
}
