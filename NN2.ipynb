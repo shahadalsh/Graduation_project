{
 "cells": [
  {
   "cell_type": "code",
   "execution_count": 29,
   "id": "903fa026",
   "metadata": {},
   "outputs": [],
   "source": [
    "#import os\n",
    "import numpy as np\n",
    "import pandas as pd\n",
    "import tensorflow as tf\n",
    "from numpy import loadtxt\n",
    "import tensorflow.keras as k\n",
    "from tensorflow.keras import layers as l\n",
    "import matplotlib.pyplot as plt"
   ]
  },
  {
   "cell_type": "code",
   "execution_count": 30,
   "id": "34a5ddf3",
   "metadata": {},
   "outputs": [],
   "source": [
    "path= \"/Users/shahrasm/Documents/Graduation_project/\"\n",
    "modelpath=path+\"bestmodel\"\n",
    "col=range(71)\n",
    "\n",
    "train_data = pd.read_csv(path+'train_data.csv',names=col)#, delimiter=',')\n",
    "Xtr = train_data.loc[:,1:71]\n",
    "ytr = train_data.loc[:,0]"
   ]
  },
  {
   "cell_type": "code",
   "execution_count": 31,
   "id": "05cb2c03",
   "metadata": {},
   "outputs": [],
   "source": [
    "test_data = pd.read_csv(path+'test_data.csv',names=col)\n",
    "Xts = test_data.loc[:,1:71]\n",
    "yts = test_data.loc[:,0]"
   ]
  },
  {
   "cell_type": "code",
   "execution_count": 32,
   "id": "6cae71b3",
   "metadata": {},
   "outputs": [],
   "source": [
    "tr=[]\n",
    "for c in range(1,71):\n",
    "    e=Xtr[c]\n",
    "    meanc=np.mean(e) \n",
    "    varc=np.var(e) \n",
    "    normalize=l.Normalization(mean=meanc,variance=varc)\n",
    "    e=normalize(e)\n",
    "    tr.append(e)\n"
   ]
  },
  {
   "cell_type": "code",
   "execution_count": 33,
   "id": "8a9ef5d6",
   "metadata": {},
   "outputs": [],
   "source": [
    "ts=[]\n",
    "for c in range(1,71):\n",
    "    e=Xts[c]\n",
    "    meanc=np.mean(e) \n",
    "    varc=np.var(e) \n",
    "    normalize=l.Normalization(mean=meanc,variance=varc)\n",
    "    e=normalize(e)\n",
    "    ts.append(e)"
   ]
  },
  {
   "cell_type": "code",
   "execution_count": 34,
   "id": "38c85c07",
   "metadata": {},
   "outputs": [],
   "source": [
    "Xtr=np.array(tr)\n",
    "Xtr=np.transpose(Xtr)\n",
    "Xts=np.array(ts)\n",
    "Xts=np.transpose(Xts)"
   ]
  },
  {
   "cell_type": "code",
   "execution_count": 35,
   "id": "e6866c7f",
   "metadata": {},
   "outputs": [],
   "source": [
    "reg12=tf.keras.regularizers.l1_l2()\n",
    "reg12=tf.keras.regularizers.l2()\n",
    "#callback=k.callbacks.EarlyStopping(monitor=\"val_binary_accuracy\", baseline=79., patience=250, verbose=1, restore_best_weights=True)\n",
    "callback=k.callbacks.ModelCheckpoint(filepath=modelpath,save_weights_only=True,monitor='val_accuracy',mode='max',save_best_only=True)"
   ]
  },
  {
   "cell_type": "code",
   "execution_count": 36,
   "id": "ac6d42fd",
   "metadata": {},
   "outputs": [],
   "source": [
    "myins = []\n",
    "for c in range(1,71):\n",
    "    d=l.Input(shape=(1,), dtype=tf.float32) \n",
    "    myins.append(d) "
   ]
  },
  {
   "cell_type": "code",
   "execution_count": 37,
   "id": "a1cac501",
   "metadata": {},
   "outputs": [],
   "source": [
    "r0=l.Lambda(lambda x:l.concatenate(x))(myins)\n",
    "r=l.Reshape((1,70))(r0)\n"
   ]
  },
  {
   "cell_type": "code",
   "execution_count": 50,
   "id": "59209883",
   "metadata": {},
   "outputs": [],
   "source": [
    "Project=l.Dense(1024, activation='linear',activity_regularizer=reg12)    \n",
    "\n",
    "key=Project(r)\n",
    "val=Project(r)\n",
    "query=Project(r)\n",
    "vk=l.Attention()([key,val])\n",
    "vkq=l.Concatenate()([vk,query])\n",
    "\n",
    "r=l.Dropout(0.25)(vkq)\n",
    "\n",
    "fc=l.Dense(512, activation='linear',activity_regularizer=reg12)(r)\n",
    "fc=l.Dropout(0.25)(fc)\n",
    "fc=l.Dense(128, activation='linear',activity_regularizer=reg12)(fc)\n",
    "fc=l.Dropout(0.25)(fc)\n",
    "fc=l.Dense(64, activation='linear',activity_regularizer=reg12)(fc)\n",
    "fc=l.Dropout(0.25)(fc)\n",
    "pre=l.Dense(1, activation='sigmoid',activity_regularizer=reg12)(fc)\n",
    "model = k.Model(inputs=r0, outputs=pre)\n"
   ]
  },
  {
   "cell_type": "code",
   "execution_count": 51,
   "id": "eb45bba7",
   "metadata": {
    "scrolled": true
   },
   "outputs": [
    {
     "name": "stdout",
     "output_type": "stream",
     "text": [
      "Epoch 1/150\n",
      "6/6 [==============================] - 4s 216ms/step - loss: 18.7858 - accuracy: 0.5014 - val_loss: 9.2718 - val_accuracy: 0.3846\n",
      "Epoch 2/150\n",
      "6/6 [==============================] - 0s 81ms/step - loss: 18.8768 - accuracy: 0.4640 - val_loss: 9.2501 - val_accuracy: 0.3846\n",
      "Epoch 3/150\n",
      "6/6 [==============================] - 0s 82ms/step - loss: 18.7832 - accuracy: 0.4582 - val_loss: 9.2295 - val_accuracy: 0.3846\n",
      "Epoch 4/150\n",
      "6/6 [==============================] - 0s 79ms/step - loss: 18.7879 - accuracy: 0.4524 - val_loss: 9.2097 - val_accuracy: 0.3846\n",
      "Epoch 5/150\n",
      "6/6 [==============================] - 0s 83ms/step - loss: 18.5589 - accuracy: 0.5187 - val_loss: 9.1896 - val_accuracy: 0.3846\n",
      "Epoch 6/150\n",
      "6/6 [==============================] - 0s 81ms/step - loss: 18.7890 - accuracy: 0.4813 - val_loss: 9.1693 - val_accuracy: 0.3846\n",
      "Epoch 7/150\n",
      "6/6 [==============================] - 0s 81ms/step - loss: 18.5733 - accuracy: 0.4957 - val_loss: 9.1495 - val_accuracy: 0.3846\n",
      "Epoch 8/150\n",
      "6/6 [==============================] - 0s 83ms/step - loss: 18.5981 - accuracy: 0.4957 - val_loss: 9.1305 - val_accuracy: 0.4359\n",
      "Epoch 9/150\n",
      "6/6 [==============================] - 0s 79ms/step - loss: 18.5986 - accuracy: 0.4438 - val_loss: 9.1108 - val_accuracy: 0.4615\n",
      "Epoch 10/150\n",
      "6/6 [==============================] - 0s 81ms/step - loss: 18.6359 - accuracy: 0.4640 - val_loss: 9.0916 - val_accuracy: 0.4615\n",
      "Epoch 11/150\n",
      "6/6 [==============================] - 1s 84ms/step - loss: 18.5304 - accuracy: 0.5101 - val_loss: 9.0731 - val_accuracy: 0.4872\n",
      "Epoch 12/150\n",
      "6/6 [==============================] - 0s 84ms/step - loss: 18.6541 - accuracy: 0.5072 - val_loss: 9.0553 - val_accuracy: 0.4615\n",
      "Epoch 13/150\n",
      "6/6 [==============================] - 1s 89ms/step - loss: 18.3644 - accuracy: 0.4841 - val_loss: 9.0382 - val_accuracy: 0.4615\n",
      "Epoch 14/150\n",
      "6/6 [==============================] - 1s 88ms/step - loss: 18.4552 - accuracy: 0.4726 - val_loss: 9.0209 - val_accuracy: 0.4615\n",
      "Epoch 15/150\n",
      "6/6 [==============================] - 0s 83ms/step - loss: 18.2759 - accuracy: 0.4697 - val_loss: 9.0035 - val_accuracy: 0.4615\n",
      "Epoch 16/150\n",
      "6/6 [==============================] - 1s 85ms/step - loss: 18.3735 - accuracy: 0.4928 - val_loss: 8.9863 - val_accuracy: 0.4615\n",
      "Epoch 17/150\n",
      "6/6 [==============================] - 0s 83ms/step - loss: 18.3806 - accuracy: 0.5014 - val_loss: 8.9694 - val_accuracy: 0.4615\n",
      "Epoch 18/150\n",
      "6/6 [==============================] - 1s 93ms/step - loss: 18.2971 - accuracy: 0.5245 - val_loss: 8.9529 - val_accuracy: 0.4615\n",
      "Epoch 19/150\n",
      "6/6 [==============================] - 1s 85ms/step - loss: 18.2847 - accuracy: 0.5014 - val_loss: 8.9369 - val_accuracy: 0.4872\n",
      "Epoch 20/150\n",
      "6/6 [==============================] - 1s 86ms/step - loss: 18.1709 - accuracy: 0.5187 - val_loss: 8.9212 - val_accuracy: 0.4872\n",
      "Epoch 21/150\n",
      "6/6 [==============================] - 0s 82ms/step - loss: 18.3268 - accuracy: 0.4669 - val_loss: 8.9051 - val_accuracy: 0.4872\n",
      "Epoch 22/150\n",
      "6/6 [==============================] - 0s 82ms/step - loss: 18.0809 - accuracy: 0.5360 - val_loss: 8.8896 - val_accuracy: 0.4872\n",
      "Epoch 23/150\n",
      "6/6 [==============================] - 0s 82ms/step - loss: 18.2100 - accuracy: 0.5418 - val_loss: 8.8746 - val_accuracy: 0.4872\n",
      "Epoch 24/150\n",
      "6/6 [==============================] - 0s 84ms/step - loss: 18.1541 - accuracy: 0.5331 - val_loss: 8.8594 - val_accuracy: 0.4872\n",
      "Epoch 25/150\n",
      "6/6 [==============================] - 1s 85ms/step - loss: 18.1362 - accuracy: 0.5303 - val_loss: 8.8448 - val_accuracy: 0.4872\n",
      "Epoch 26/150\n",
      "6/6 [==============================] - 1s 87ms/step - loss: 18.0261 - accuracy: 0.5303 - val_loss: 8.8298 - val_accuracy: 0.5128\n",
      "Epoch 27/150\n",
      "6/6 [==============================] - 1s 93ms/step - loss: 17.9811 - accuracy: 0.5216 - val_loss: 8.8154 - val_accuracy: 0.5128\n",
      "Epoch 28/150\n",
      "6/6 [==============================] - 1s 90ms/step - loss: 17.9636 - accuracy: 0.5850 - val_loss: 8.8003 - val_accuracy: 0.5128\n",
      "Epoch 29/150\n",
      "6/6 [==============================] - 1s 86ms/step - loss: 18.0037 - accuracy: 0.5418 - val_loss: 8.7852 - val_accuracy: 0.5128\n",
      "Epoch 30/150\n",
      "6/6 [==============================] - 1s 87ms/step - loss: 18.0733 - accuracy: 0.5216 - val_loss: 8.7707 - val_accuracy: 0.5128\n",
      "Epoch 31/150\n",
      "6/6 [==============================] - 1s 92ms/step - loss: 17.9368 - accuracy: 0.5735 - val_loss: 8.7559 - val_accuracy: 0.5128\n",
      "Epoch 32/150\n",
      "6/6 [==============================] - 1s 86ms/step - loss: 17.8686 - accuracy: 0.5793 - val_loss: 8.7416 - val_accuracy: 0.5128\n",
      "Epoch 33/150\n",
      "6/6 [==============================] - 1s 85ms/step - loss: 17.8892 - accuracy: 0.5447 - val_loss: 8.7276 - val_accuracy: 0.5128\n",
      "Epoch 34/150\n",
      "6/6 [==============================] - 0s 81ms/step - loss: 17.9188 - accuracy: 0.5389 - val_loss: 8.7142 - val_accuracy: 0.5128\n",
      "Epoch 35/150\n",
      "6/6 [==============================] - 1s 86ms/step - loss: 17.8016 - accuracy: 0.5504 - val_loss: 8.7010 - val_accuracy: 0.5128\n",
      "Epoch 36/150\n",
      "6/6 [==============================] - 0s 82ms/step - loss: 17.7406 - accuracy: 0.5418 - val_loss: 8.6878 - val_accuracy: 0.5128\n",
      "Epoch 37/150\n",
      "6/6 [==============================] - 1s 87ms/step - loss: 17.7786 - accuracy: 0.5994 - val_loss: 8.6744 - val_accuracy: 0.5128\n",
      "Epoch 38/150\n",
      "6/6 [==============================] - 0s 81ms/step - loss: 17.7857 - accuracy: 0.5706 - val_loss: 8.6619 - val_accuracy: 0.5128\n",
      "Epoch 39/150\n",
      "6/6 [==============================] - 0s 79ms/step - loss: 17.7789 - accuracy: 0.5418 - val_loss: 8.6493 - val_accuracy: 0.5128\n",
      "Epoch 40/150\n",
      "6/6 [==============================] - 0s 81ms/step - loss: 17.7243 - accuracy: 0.5648 - val_loss: 8.6363 - val_accuracy: 0.5128\n",
      "Epoch 41/150\n",
      "6/6 [==============================] - 0s 83ms/step - loss: 17.7738 - accuracy: 0.5303 - val_loss: 8.6234 - val_accuracy: 0.5128\n",
      "Epoch 42/150\n",
      "6/6 [==============================] - 0s 80ms/step - loss: 17.6012 - accuracy: 0.6225 - val_loss: 8.6104 - val_accuracy: 0.5128\n",
      "Epoch 43/150\n",
      "6/6 [==============================] - 0s 78ms/step - loss: 17.7556 - accuracy: 0.5216 - val_loss: 8.5979 - val_accuracy: 0.5128\n",
      "Epoch 44/150\n",
      "6/6 [==============================] - 0s 81ms/step - loss: 17.5304 - accuracy: 0.5620 - val_loss: 8.5854 - val_accuracy: 0.5128\n",
      "Epoch 45/150\n",
      "6/6 [==============================] - 0s 79ms/step - loss: 17.6468 - accuracy: 0.5389 - val_loss: 8.5730 - val_accuracy: 0.5385\n",
      "Epoch 46/150\n",
      "6/6 [==============================] - 1s 85ms/step - loss: 17.5492 - accuracy: 0.5677 - val_loss: 8.5604 - val_accuracy: 0.5385\n",
      "Epoch 47/150\n",
      "6/6 [==============================] - 1s 85ms/step - loss: 17.7615 - accuracy: 0.5447 - val_loss: 8.5476 - val_accuracy: 0.5385\n",
      "Epoch 48/150\n",
      "6/6 [==============================] - 1s 94ms/step - loss: 17.5263 - accuracy: 0.5620 - val_loss: 8.5351 - val_accuracy: 0.5641\n",
      "Epoch 49/150\n",
      "6/6 [==============================] - 1s 95ms/step - loss: 17.5656 - accuracy: 0.5620 - val_loss: 8.5225 - val_accuracy: 0.5641\n",
      "Epoch 50/150\n",
      "6/6 [==============================] - 1s 88ms/step - loss: 17.4150 - accuracy: 0.5937 - val_loss: 8.5100 - val_accuracy: 0.5641\n",
      "Epoch 51/150\n",
      "6/6 [==============================] - 1s 86ms/step - loss: 17.5058 - accuracy: 0.6023 - val_loss: 8.4979 - val_accuracy: 0.5641\n",
      "Epoch 52/150\n",
      "6/6 [==============================] - 0s 83ms/step - loss: 17.6200 - accuracy: 0.5591 - val_loss: 8.4859 - val_accuracy: 0.5641\n",
      "Epoch 53/150\n",
      "6/6 [==============================] - 0s 82ms/step - loss: 17.4802 - accuracy: 0.5620 - val_loss: 8.4741 - val_accuracy: 0.5641\n",
      "Epoch 54/150\n",
      "6/6 [==============================] - 0s 79ms/step - loss: 17.3859 - accuracy: 0.5706 - val_loss: 8.4622 - val_accuracy: 0.5641\n",
      "Epoch 55/150\n",
      "6/6 [==============================] - 0s 79ms/step - loss: 17.3547 - accuracy: 0.5735 - val_loss: 8.4502 - val_accuracy: 0.5897\n",
      "Epoch 56/150\n",
      "6/6 [==============================] - 0s 80ms/step - loss: 17.4322 - accuracy: 0.5677 - val_loss: 8.4382 - val_accuracy: 0.5897\n",
      "Epoch 57/150\n",
      "6/6 [==============================] - 0s 80ms/step - loss: 17.4120 - accuracy: 0.5677 - val_loss: 8.4263 - val_accuracy: 0.5897\n",
      "Epoch 58/150\n",
      "6/6 [==============================] - 0s 82ms/step - loss: 17.3661 - accuracy: 0.5735 - val_loss: 8.4144 - val_accuracy: 0.5897\n"
     ]
    },
    {
     "name": "stdout",
     "output_type": "stream",
     "text": [
      "Epoch 59/150\n",
      "6/6 [==============================] - 0s 78ms/step - loss: 17.4655 - accuracy: 0.5994 - val_loss: 8.4025 - val_accuracy: 0.5897\n",
      "Epoch 60/150\n",
      "6/6 [==============================] - 0s 77ms/step - loss: 17.3758 - accuracy: 0.5735 - val_loss: 8.3902 - val_accuracy: 0.5897\n",
      "Epoch 61/150\n",
      "6/6 [==============================] - 0s 84ms/step - loss: 17.4957 - accuracy: 0.5303 - val_loss: 8.3784 - val_accuracy: 0.5641\n",
      "Epoch 62/150\n",
      "6/6 [==============================] - 0s 79ms/step - loss: 17.5166 - accuracy: 0.5879 - val_loss: 8.3670 - val_accuracy: 0.5897\n",
      "Epoch 63/150\n",
      "6/6 [==============================] - 0s 79ms/step - loss: 17.2324 - accuracy: 0.5418 - val_loss: 8.3550 - val_accuracy: 0.5897\n",
      "Epoch 64/150\n",
      "6/6 [==============================] - 0s 79ms/step - loss: 17.2866 - accuracy: 0.5994 - val_loss: 8.3433 - val_accuracy: 0.6154\n",
      "Epoch 65/150\n",
      "6/6 [==============================] - 0s 79ms/step - loss: 17.2676 - accuracy: 0.5648 - val_loss: 8.3318 - val_accuracy: 0.6410\n",
      "Epoch 66/150\n",
      "6/6 [==============================] - 0s 79ms/step - loss: 17.1565 - accuracy: 0.6138 - val_loss: 8.3204 - val_accuracy: 0.6410\n",
      "Epoch 67/150\n",
      "6/6 [==============================] - 0s 78ms/step - loss: 17.2090 - accuracy: 0.5735 - val_loss: 8.3092 - val_accuracy: 0.6410\n",
      "Epoch 68/150\n",
      "6/6 [==============================] - 0s 83ms/step - loss: 17.1102 - accuracy: 0.6196 - val_loss: 8.2979 - val_accuracy: 0.6410\n",
      "Epoch 69/150\n",
      "6/6 [==============================] - 1s 82ms/step - loss: 17.0771 - accuracy: 0.6254 - val_loss: 8.2868 - val_accuracy: 0.6667\n",
      "Epoch 70/150\n",
      "6/6 [==============================] - 0s 82ms/step - loss: 17.1265 - accuracy: 0.5994 - val_loss: 8.2761 - val_accuracy: 0.6667\n",
      "Epoch 71/150\n",
      "6/6 [==============================] - 1s 85ms/step - loss: 16.9999 - accuracy: 0.6254 - val_loss: 8.2652 - val_accuracy: 0.6410\n",
      "Epoch 72/150\n",
      "6/6 [==============================] - 1s 84ms/step - loss: 17.0372 - accuracy: 0.6110 - val_loss: 8.2544 - val_accuracy: 0.6410\n",
      "Epoch 73/150\n",
      "6/6 [==============================] - 1s 90ms/step - loss: 17.1179 - accuracy: 0.5879 - val_loss: 8.2434 - val_accuracy: 0.6667\n",
      "Epoch 74/150\n",
      "6/6 [==============================] - 1s 88ms/step - loss: 17.1139 - accuracy: 0.5706 - val_loss: 8.2326 - val_accuracy: 0.6410\n",
      "Epoch 75/150\n",
      "6/6 [==============================] - 1s 97ms/step - loss: 16.9987 - accuracy: 0.5937 - val_loss: 8.2224 - val_accuracy: 0.6410\n",
      "Epoch 76/150\n",
      "6/6 [==============================] - 1s 91ms/step - loss: 16.9602 - accuracy: 0.6282 - val_loss: 8.2120 - val_accuracy: 0.6410\n",
      "Epoch 77/150\n",
      "6/6 [==============================] - 1s 97ms/step - loss: 17.0861 - accuracy: 0.6052 - val_loss: 8.2012 - val_accuracy: 0.6410\n",
      "Epoch 78/150\n",
      "6/6 [==============================] - 1s 89ms/step - loss: 16.8779 - accuracy: 0.6138 - val_loss: 8.1904 - val_accuracy: 0.6410\n",
      "Epoch 79/150\n",
      "6/6 [==============================] - 1s 91ms/step - loss: 17.0821 - accuracy: 0.5850 - val_loss: 8.1796 - val_accuracy: 0.6410\n",
      "Epoch 80/150\n",
      "6/6 [==============================] - 0s 83ms/step - loss: 16.8815 - accuracy: 0.5850 - val_loss: 8.1690 - val_accuracy: 0.6410\n",
      "Epoch 81/150\n",
      "6/6 [==============================] - 1s 86ms/step - loss: 16.8973 - accuracy: 0.6225 - val_loss: 8.1582 - val_accuracy: 0.6410\n",
      "Epoch 82/150\n",
      "6/6 [==============================] - 0s 82ms/step - loss: 16.8225 - accuracy: 0.6225 - val_loss: 8.1474 - val_accuracy: 0.6410\n",
      "Epoch 83/150\n",
      "6/6 [==============================] - 0s 84ms/step - loss: 16.9537 - accuracy: 0.6167 - val_loss: 8.1366 - val_accuracy: 0.6410\n",
      "Epoch 84/150\n",
      "6/6 [==============================] - 0s 83ms/step - loss: 16.8609 - accuracy: 0.6398 - val_loss: 8.1263 - val_accuracy: 0.6667\n",
      "Epoch 85/150\n",
      "6/6 [==============================] - 1s 90ms/step - loss: 16.8346 - accuracy: 0.6254 - val_loss: 8.1161 - val_accuracy: 0.6667\n",
      "Epoch 86/150\n",
      "6/6 [==============================] - 0s 84ms/step - loss: 16.8302 - accuracy: 0.5908 - val_loss: 8.1059 - val_accuracy: 0.6667\n",
      "Epoch 87/150\n",
      "6/6 [==============================] - 1s 100ms/step - loss: 16.7691 - accuracy: 0.5994 - val_loss: 8.0959 - val_accuracy: 0.6667\n",
      "Epoch 88/150\n",
      "6/6 [==============================] - 1s 96ms/step - loss: 16.7599 - accuracy: 0.6254 - val_loss: 8.0860 - val_accuracy: 0.6667\n",
      "Epoch 89/150\n",
      "6/6 [==============================] - 1s 93ms/step - loss: 16.6115 - accuracy: 0.6744 - val_loss: 8.0763 - val_accuracy: 0.6667\n",
      "Epoch 90/150\n",
      "6/6 [==============================] - 1s 90ms/step - loss: 16.8245 - accuracy: 0.6369 - val_loss: 8.0660 - val_accuracy: 0.6667\n",
      "Epoch 91/150\n",
      "6/6 [==============================] - 1s 104ms/step - loss: 16.7760 - accuracy: 0.6138 - val_loss: 8.0556 - val_accuracy: 0.6410\n",
      "Epoch 92/150\n",
      "6/6 [==============================] - 1s 88ms/step - loss: 16.6561 - accuracy: 0.6513 - val_loss: 8.0456 - val_accuracy: 0.6410\n",
      "Epoch 93/150\n",
      "6/6 [==============================] - 1s 92ms/step - loss: 16.7037 - accuracy: 0.6138 - val_loss: 8.0359 - val_accuracy: 0.6410\n",
      "Epoch 94/150\n",
      "6/6 [==============================] - 1s 101ms/step - loss: 16.7034 - accuracy: 0.6196 - val_loss: 8.0266 - val_accuracy: 0.6667\n",
      "Epoch 95/150\n",
      "6/6 [==============================] - 1s 91ms/step - loss: 16.7381 - accuracy: 0.6196 - val_loss: 8.0172 - val_accuracy: 0.6667\n",
      "Epoch 96/150\n",
      "6/6 [==============================] - 0s 82ms/step - loss: 16.8234 - accuracy: 0.6254 - val_loss: 8.0076 - val_accuracy: 0.6667\n",
      "Epoch 97/150\n",
      "6/6 [==============================] - 1s 85ms/step - loss: 16.6500 - accuracy: 0.6196 - val_loss: 7.9981 - val_accuracy: 0.6667\n",
      "Epoch 98/150\n",
      "6/6 [==============================] - 0s 84ms/step - loss: 16.4877 - accuracy: 0.6282 - val_loss: 7.9887 - val_accuracy: 0.6923\n",
      "Epoch 99/150\n",
      "6/6 [==============================] - 1s 88ms/step - loss: 16.5744 - accuracy: 0.6311 - val_loss: 7.9792 - val_accuracy: 0.6923\n",
      "Epoch 100/150\n",
      "6/6 [==============================] - 0s 81ms/step - loss: 16.6568 - accuracy: 0.6225 - val_loss: 7.9697 - val_accuracy: 0.6923\n",
      "Epoch 101/150\n",
      "6/6 [==============================] - 0s 81ms/step - loss: 16.5744 - accuracy: 0.6282 - val_loss: 7.9602 - val_accuracy: 0.6923\n",
      "Epoch 102/150\n",
      "6/6 [==============================] - 0s 84ms/step - loss: 16.5670 - accuracy: 0.6023 - val_loss: 7.9507 - val_accuracy: 0.6923\n",
      "Epoch 103/150\n",
      "6/6 [==============================] - 0s 79ms/step - loss: 16.5468 - accuracy: 0.6254 - val_loss: 7.9415 - val_accuracy: 0.6923\n",
      "Epoch 104/150\n",
      "6/6 [==============================] - 0s 78ms/step - loss: 16.4282 - accuracy: 0.6657 - val_loss: 7.9324 - val_accuracy: 0.6923\n",
      "Epoch 105/150\n",
      "6/6 [==============================] - 0s 78ms/step - loss: 16.5536 - accuracy: 0.5850 - val_loss: 7.9234 - val_accuracy: 0.6923\n",
      "Epoch 106/150\n",
      "6/6 [==============================] - 0s 82ms/step - loss: 16.4189 - accuracy: 0.6772 - val_loss: 7.9147 - val_accuracy: 0.6923\n",
      "Epoch 107/150\n",
      "6/6 [==============================] - 0s 81ms/step - loss: 16.4372 - accuracy: 0.6282 - val_loss: 7.9060 - val_accuracy: 0.6923\n",
      "Epoch 108/150\n",
      "6/6 [==============================] - 0s 82ms/step - loss: 16.5429 - accuracy: 0.6282 - val_loss: 7.8972 - val_accuracy: 0.6923\n",
      "Epoch 109/150\n",
      "6/6 [==============================] - 0s 82ms/step - loss: 16.3967 - accuracy: 0.6311 - val_loss: 7.8880 - val_accuracy: 0.6923\n",
      "Epoch 110/150\n",
      "6/6 [==============================] - 0s 77ms/step - loss: 16.3152 - accuracy: 0.6628 - val_loss: 7.8789 - val_accuracy: 0.6923\n",
      "Epoch 111/150\n",
      "6/6 [==============================] - 0s 83ms/step - loss: 16.4274 - accuracy: 0.6167 - val_loss: 7.8699 - val_accuracy: 0.6923\n",
      "Epoch 112/150\n",
      "6/6 [==============================] - 0s 76ms/step - loss: 16.3917 - accuracy: 0.6427 - val_loss: 7.8613 - val_accuracy: 0.6667\n",
      "Epoch 113/150\n",
      "6/6 [==============================] - 0s 79ms/step - loss: 16.4551 - accuracy: 0.6081 - val_loss: 7.8519 - val_accuracy: 0.6667\n",
      "Epoch 114/150\n",
      "6/6 [==============================] - 0s 77ms/step - loss: 16.2641 - accuracy: 0.6398 - val_loss: 7.8429 - val_accuracy: 0.6667\n",
      "Epoch 115/150\n",
      "6/6 [==============================] - 0s 76ms/step - loss: 16.2842 - accuracy: 0.6801 - val_loss: 7.8341 - val_accuracy: 0.6667\n",
      "Epoch 116/150\n"
     ]
    },
    {
     "name": "stdout",
     "output_type": "stream",
     "text": [
      "6/6 [==============================] - 0s 76ms/step - loss: 16.4000 - accuracy: 0.6571 - val_loss: 7.8253 - val_accuracy: 0.6667\n",
      "Epoch 117/150\n",
      "6/6 [==============================] - 0s 77ms/step - loss: 16.2449 - accuracy: 0.5994 - val_loss: 7.8167 - val_accuracy: 0.6667\n",
      "Epoch 118/150\n",
      "6/6 [==============================] - 0s 77ms/step - loss: 16.3521 - accuracy: 0.6398 - val_loss: 7.8082 - val_accuracy: 0.6667\n",
      "Epoch 119/150\n",
      "6/6 [==============================] - 0s 76ms/step - loss: 16.2664 - accuracy: 0.6715 - val_loss: 7.8000 - val_accuracy: 0.6667\n",
      "Epoch 120/150\n",
      "6/6 [==============================] - 0s 75ms/step - loss: 16.2932 - accuracy: 0.6081 - val_loss: 7.7915 - val_accuracy: 0.6667\n",
      "Epoch 121/150\n",
      "6/6 [==============================] - 0s 85ms/step - loss: 16.2778 - accuracy: 0.6427 - val_loss: 7.7826 - val_accuracy: 0.6667\n",
      "Epoch 122/150\n",
      "6/6 [==============================] - 1s 95ms/step - loss: 16.1618 - accuracy: 0.6599 - val_loss: 7.7733 - val_accuracy: 0.6667\n",
      "Epoch 123/150\n",
      "6/6 [==============================] - 1s 97ms/step - loss: 16.1743 - accuracy: 0.6772 - val_loss: 7.7644 - val_accuracy: 0.6667\n",
      "Epoch 124/150\n",
      "6/6 [==============================] - 1s 95ms/step - loss: 16.2179 - accuracy: 0.6744 - val_loss: 7.7554 - val_accuracy: 0.6667\n",
      "Epoch 125/150\n",
      "6/6 [==============================] - 0s 83ms/step - loss: 16.1489 - accuracy: 0.6455 - val_loss: 7.7464 - val_accuracy: 0.6923\n",
      "Epoch 126/150\n",
      "6/6 [==============================] - 1s 89ms/step - loss: 16.1029 - accuracy: 0.6427 - val_loss: 7.7375 - val_accuracy: 0.6923\n",
      "Epoch 127/150\n",
      "6/6 [==============================] - 0s 83ms/step - loss: 16.1308 - accuracy: 0.6398 - val_loss: 7.7284 - val_accuracy: 0.6923\n",
      "Epoch 128/150\n",
      "6/6 [==============================] - 1s 84ms/step - loss: 16.0857 - accuracy: 0.6715 - val_loss: 7.7199 - val_accuracy: 0.7179\n",
      "Epoch 129/150\n",
      "6/6 [==============================] - 0s 84ms/step - loss: 16.0317 - accuracy: 0.6484 - val_loss: 7.7117 - val_accuracy: 0.7179\n",
      "Epoch 130/150\n",
      "6/6 [==============================] - 1s 84ms/step - loss: 16.0679 - accuracy: 0.6686 - val_loss: 7.7037 - val_accuracy: 0.7179\n",
      "Epoch 131/150\n",
      "6/6 [==============================] - 0s 83ms/step - loss: 16.0556 - accuracy: 0.6715 - val_loss: 7.6955 - val_accuracy: 0.7179\n",
      "Epoch 132/150\n",
      "6/6 [==============================] - 1s 86ms/step - loss: 16.0906 - accuracy: 0.6657 - val_loss: 7.6875 - val_accuracy: 0.7179\n",
      "Epoch 133/150\n",
      "6/6 [==============================] - 1s 87ms/step - loss: 16.0163 - accuracy: 0.6369 - val_loss: 7.6796 - val_accuracy: 0.7179\n",
      "Epoch 134/150\n",
      "6/6 [==============================] - 1s 85ms/step - loss: 15.9972 - accuracy: 0.6628 - val_loss: 7.6720 - val_accuracy: 0.7436\n",
      "Epoch 135/150\n",
      "6/6 [==============================] - 0s 82ms/step - loss: 15.9789 - accuracy: 0.6455 - val_loss: 7.6641 - val_accuracy: 0.7436\n",
      "Epoch 136/150\n",
      "6/6 [==============================] - 1s 85ms/step - loss: 15.9853 - accuracy: 0.6340 - val_loss: 7.6559 - val_accuracy: 0.7436\n",
      "Epoch 137/150\n",
      "6/6 [==============================] - 0s 82ms/step - loss: 15.9436 - accuracy: 0.6282 - val_loss: 7.6476 - val_accuracy: 0.7436\n",
      "Epoch 138/150\n",
      "6/6 [==============================] - 0s 82ms/step - loss: 15.9037 - accuracy: 0.6369 - val_loss: 7.6392 - val_accuracy: 0.7436\n",
      "Epoch 139/150\n",
      "6/6 [==============================] - 1s 84ms/step - loss: 15.8487 - accuracy: 0.6859 - val_loss: 7.6311 - val_accuracy: 0.7436\n",
      "Epoch 140/150\n",
      "6/6 [==============================] - 0s 83ms/step - loss: 15.9285 - accuracy: 0.6369 - val_loss: 7.6229 - val_accuracy: 0.7436\n",
      "Epoch 141/150\n",
      "6/6 [==============================] - 0s 83ms/step - loss: 15.9359 - accuracy: 0.6542 - val_loss: 7.6150 - val_accuracy: 0.7436\n",
      "Epoch 142/150\n",
      "6/6 [==============================] - 1s 84ms/step - loss: 15.8962 - accuracy: 0.6744 - val_loss: 7.6067 - val_accuracy: 0.7436\n",
      "Epoch 143/150\n",
      "6/6 [==============================] - 1s 86ms/step - loss: 15.8609 - accuracy: 0.6542 - val_loss: 7.5989 - val_accuracy: 0.7436\n",
      "Epoch 144/150\n",
      "6/6 [==============================] - 0s 81ms/step - loss: 15.9234 - accuracy: 0.6628 - val_loss: 7.5909 - val_accuracy: 0.7436\n",
      "Epoch 145/150\n",
      "6/6 [==============================] - 0s 84ms/step - loss: 15.9354 - accuracy: 0.6715 - val_loss: 7.5827 - val_accuracy: 0.7436\n",
      "Epoch 146/150\n",
      "6/6 [==============================] - 0s 84ms/step - loss: 15.7820 - accuracy: 0.6542 - val_loss: 7.5746 - val_accuracy: 0.7436\n",
      "Epoch 147/150\n",
      "6/6 [==============================] - 1s 87ms/step - loss: 15.7839 - accuracy: 0.6916 - val_loss: 7.5664 - val_accuracy: 0.7436\n",
      "Epoch 148/150\n",
      "6/6 [==============================] - 0s 82ms/step - loss: 15.7433 - accuracy: 0.6859 - val_loss: 7.5582 - val_accuracy: 0.7436\n",
      "Epoch 149/150\n",
      "6/6 [==============================] - 1s 91ms/step - loss: 15.8122 - accuracy: 0.6888 - val_loss: 7.5501 - val_accuracy: 0.7436\n",
      "Epoch 150/150\n",
      "6/6 [==============================] - 0s 80ms/step - loss: 15.7734 - accuracy: 0.6542 - val_loss: 7.5420 - val_accuracy: 0.7436\n"
     ]
    }
   ],
   "source": [
    "opt=k.optimizers.Adam(lr=1e-6)\n",
    "#metric= [k.metrics.BinaryAccuracy()]  \n",
    "model.compile(loss='binary_crossentropy',  optimizer=opt  , metrics='accuracy')\n",
    "history=model.fit(Xtr, ytr, validation_split=0.10, epochs=150, batch_size=64)"
   ]
  },
  {
   "cell_type": "code",
   "execution_count": 52,
   "id": "d85d3b01",
   "metadata": {},
   "outputs": [
    {
     "name": "stdout",
     "output_type": "stream",
     "text": [
      "13/13 [==============================] - 0s 14ms/step - loss: 8.0191 - accuracy: 0.7953\n",
      "Accuracy: 79.53\n"
     ]
    }
   ],
   "source": [
    "_,accuracy = model.evaluate(Xtr,ytr)\n",
    "print('Accuracy: %.2f' % (accuracy*100))"
   ]
  },
  {
   "cell_type": "code",
   "execution_count": 53,
   "id": "cb327220",
   "metadata": {
    "scrolled": true
   },
   "outputs": [
    {
     "name": "stdout",
     "output_type": "stream",
     "text": [
      "6/6 [==============================] - 0s 14ms/step - loss: 8.5379 - accuracy: 0.7289\n",
      "Accuracy: 72.89\n"
     ]
    }
   ],
   "source": [
    "_,accuracy = model.evaluate(Xts,yts)\n",
    "print('Accuracy: %.2f' % (accuracy*100))"
   ]
  },
  {
   "cell_type": "code",
   "execution_count": 54,
   "id": "f0e484dd",
   "metadata": {
    "scrolled": true
   },
   "outputs": [
    {
     "data": {
      "image/png": "[encoded data removed]",
      "text/plain": [
       "<Figure size 432x288 with 1 Axes>"
      ]
     },
     "metadata": {
      "needs_background": "light"
     },
     "output_type": "display_data"
    }
   ],
   "source": [
    "plt.plot(history.history[\"accuracy\"])\n",
    "plt.plot(history.history['val_accuracy'])\n",
    "plt.title('model accuracy')\n",
    "plt.ylabel('accuracy')\n",
    "plt.xlabel('epoch')\n",
    "plt.legend(['train_accuracy', 'val_accuracy'], loc = 'upper left')\n",
    "plt.show()\n"
   ]
  },
  {
   "cell_type": "code",
   "execution_count": 55,
   "id": "fd2f8281",
   "metadata": {
    "scrolled": true
   },
   "outputs": [
    {
     "data": {
      "image/png": "[encoded data removed]",
      "text/plain": [
       "<Figure size 432x288 with 1 Axes>"
      ]
     },
     "metadata": {
      "needs_background": "light"
     },
     "output_type": "display_data"
    }
   ],
   "source": [
    "plt.plot(history.history['loss'])\n",
    "plt.plot(history.history['val_loss'])\n",
    "plt.title('model loss')\n",
    "plt.ylabel('loss')\n",
    "plt.xlabel('epoch')\n",
    "plt.legend(['Train', 'Validation'], loc='upper left')\n",
    "plt.show()\n"
   ]
  },
  {
   "cell_type": "code",
   "execution_count": null,
   "id": "602b6885",
   "metadata": {},
   "outputs": [],
   "source": [
    "predictions = (model.predict(Xts) > 0.5).astype(\"int32\")\n",
    "for i in range(55):\n",
    "\tprint('%s => %d (expected %d)' % (Xts[i].tolist(), predictions[i], yts[i]))"
   ]
  },
  {
   "cell_type": "code",
   "execution_count": null,
   "id": "6ee0652c",
   "metadata": {},
   "outputs": [],
   "source": []
  }
 ],
 "metadata": {
  "kernelspec": {
   "display_name": "Python 3 (ipykernel)",
   "language": "python",
   "name": "python3"
  },
  "language_info": {
   "codemirror_mode": {
    "name": "ipython",
    "version": 3
   },
   "file_extension": ".py",
   "mimetype": "text/x-python",
   "name": "python",
   "nbconvert_exporter": "python",
   "pygments_lexer": "ipython3",
   "version": "3.9.7"
  }
 },
 "nbformat": 4,
 "nbformat_minor": 5
}
