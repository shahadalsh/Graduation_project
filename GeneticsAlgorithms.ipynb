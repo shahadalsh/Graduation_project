{
 "cells": [
  {
   "cell_type": "code",
   "execution_count": 1,
   "id": "93ef4369",
   "metadata": {},
   "outputs": [],
   "source": [
    "from __future__ import print_function\n",
    "import numpy as np\n",
    "from sklearn import datasets, linear_model\n",
    "\n",
    "from genetic_selection import GeneticSelectionCV\n",
    "from sklearn.linear_model import LinearRegression"
   ]
  },
  {
   "cell_type": "code",
   "execution_count": 2,
   "id": "e8f05bce",
   "metadata": {},
   "outputs": [],
   "source": [
    "from sklearn.ensemble import RandomForestClassifier\n",
    "from sklearn.model_selection import train_test_split\n",
    "from sklearn.metrics import accuracy_score\n",
    "import pandas as pd"
   ]
  },
  {
   "cell_type": "code",
   "execution_count": 3,
   "id": "a07197c1",
   "metadata": {},
   "outputs": [],
   "source": [
    "from sklearn import tree\n",
    "from sklearn.tree import DecisionTreeClassifier\n",
    "from genetic_selection import GeneticSelectionCV\n",
    "from sklearn.linear_model import LinearRegression\n",
    "from sklearn_genetic import GASearchCV"
   ]
  },
  {
   "cell_type": "code",
   "execution_count": 13,
   "id": "be2b9485",
   "metadata": {},
   "outputs": [],
   "source": [
    "from sklearn.ensemble import RandomForestClassifier\n",
    "from sklearn.model_selection import train_test_split\n",
    "from sklearn.datasets import load_digits\n",
    "from sklearn.metrics import accuracy_score\n",
    "from sklearn_genetic import GASearchCV\n",
    "from sklearn_genetic.space import Continuous, Categorical, Integer\n",
    "from sklearn_genetic.plots import plot_fitness_evolution, plot_search_space\n",
    "from sklearn.model_selection import StratifiedKFold\n",
    "import matplotlib.pyplot as plt"
   ]
  },
  {
   "cell_type": "code",
   "execution_count": 24,
   "id": "db9d081e",
   "metadata": {
    "scrolled": false
   },
   "outputs": [
    {
     "name": "stderr",
     "output_type": "stream",
     "text": [
      "/Users/shahrasm/myenv/lib/python3.9/site-packages/sklearn/svm/_base.py:985: ConvergenceWarning: Liblinear failed to converge, increase the number of iterations.\n",
      "  warnings.warn(\"Liblinear failed to converge, increase \"\n",
      "/Users/shahrasm/myenv/lib/python3.9/site-packages/sklearn/svm/_base.py:985: ConvergenceWarning: Liblinear failed to converge, increase the number of iterations.\n",
      "  warnings.warn(\"Liblinear failed to converge, increase \"\n",
      "/Users/shahrasm/myenv/lib/python3.9/site-packages/sklearn/svm/_base.py:985: ConvergenceWarning: Liblinear failed to converge, increase the number of iterations.\n",
      "  warnings.warn(\"Liblinear failed to converge, increase \"\n"
     ]
    },
    {
     "name": "stdout",
     "output_type": "stream",
     "text": [
      "Features: Index(['audSpec_Rfilt_sma[2]_percentile99.0', 'audSpec_Rfilt_sma[3]_quartile3',\n",
      "       'audSpec_Rfilt_sma[7]_maxPos', 'audSpec_Rfilt_sma[8]_lpgain',\n",
      "       'audSpec_Rfilt_sma[10]_stddev', 'audSpec_Rfilt_sma[11]_skewness',\n",
      "       'audSpec_Rfilt_sma[14]_quartile1',\n",
      "       'audSpec_Rfilt_sma[14]_percentile99.0',\n",
      "       'audSpec_Rfilt_sma[18]_pctlrange0-1',\n",
      "       'audSpec_Rfilt_sma[19]_segLenStddev',\n",
      "       'pcm_fftMag_spectralFlux_sma_percentile99.0',\n",
      "       'pcm_fftMag_spectralSkewness_sma_maxSegLen',\n",
      "       'pcm_fftMag_spectralSkewness_sma_lpc2',\n",
      "       'pcm_fftMag_spectralSlope_sma_iqr1-3', 'mfcc_sma[6]_upleveltime50',\n",
      "       'mfcc_sma[9]_lpc0', 'mfcc_sma[11]_minSegLen',\n",
      "       'mfcc_sma[13]_percentile1.0', 'audSpec_Rfilt_sma_de[4]_lpc4',\n",
      "       'audSpec_Rfilt_sma_de[6]_skewness',\n",
      "       'audSpec_Rfilt_sma_de[6]_upleveltime90',\n",
      "       'audSpec_Rfilt_sma_de[10]_quartile3',\n",
      "       'audSpec_Rfilt_sma_de[24]_pctlrange0-1',\n",
      "       'pcm_fftMag_fband250-650_sma_de_skewness',\n",
      "       'pcm_fftMag_spectralRollOff75.0_sma_de_maxPos',\n",
      "       'pcm_fftMag_spectralRollOff90.0_sma_de_pctlrange0-1',\n",
      "       'pcm_fftMag_spectralKurtosis_sma_de_meanSegLen',\n",
      "       'mfcc_sma_de[1]_percentile1.0', 'mfcc_sma_de[11]_lpc1',\n",
      "       'mfcc_sma_de[14]_upleveltime50', 'F0final_sma_de_upleveltime90',\n",
      "       'voicingFinalUnclipped_sma_de_lpc2',\n",
      "       'audspec_lengthL1norm_sma_flatness',\n",
      "       'audSpec_Rfilt_sma[8]_peakRangeRel',\n",
      "       'audSpec_Rfilt_sma[21]_peakRangeAbs',\n",
      "       'pcm_fftMag_spectralRollOff90.0_sma_flatness',\n",
      "       'mfcc_sma[8]_stddevRisingSlope', 'mfcc_sma[8]_linregerrQ',\n",
      "       'mfcc_sma[11]_peakRangeAbs', 'mfcc_sma[13]_peakRangeAbs',\n",
      "       'audspec_lengthL1norm_sma_de_stddevFallingSlope',\n",
      "       'audSpec_Rfilt_sma_de[14]_stddevRisingSlope',\n",
      "       'audSpec_Rfilt_sma_de[22]_stddevFallingSlope',\n",
      "       'audSpec_Rfilt_sma_de[24]_meanFallingSlope',\n",
      "       'pcm_fftMag_fband250-650_sma_de_stddevRisingSlope',\n",
      "       'pcm_fftMag_spectralRollOff50.0_sma_de_peakRangeRel',\n",
      "       'pcm_fftMag_spectralRollOff50.0_sma_de_peakMeanAbs',\n",
      "       'pcm_fftMag_spectralKurtosis_sma_de_peakMeanAbs',\n",
      "       'pcm_fftMag_spectralHarmonicity_sma_de_meanRisingSlope',\n",
      "       'mfcc_sma_de[1]_peakRangeRel', 'mfcc_sma_de[3]_stddevFallingSlope'],\n",
      "      dtype='object')\n"
     ]
    }
   ],
   "source": [
    "\n",
    "data = pd.read_csv('Final_results2.csv',header=0)\n",
    "df = pd.DataFrame(data, columns=data.columns)\n",
    "df['target'] = data.target\n",
    "\n",
    "X = df.drop(['target'], axis=1)\n",
    "y = df['target']\n",
    "\n",
    "X_train, X_test, y_train, y_test = train_test_split(X, y, test_size=0.7)\n",
    "estimator = linear_model.LogisticRegression(solver=\"liblinear\", multi_class=\"ovr\")\n",
    "model = GeneticSelectionCV(\n",
    "    estimator, cv=5, verbose=0,\n",
    "    scoring=\"accuracy\", max_features=60,\n",
    "    n_population=200, crossover_proba=0.5,\n",
    "    mutation_proba=0.2, n_generations=400,\n",
    "    crossover_independent_proba=0.5,\n",
    "    mutation_independent_proba=0.04,\n",
    "    tournament_size=3, n_gen_no_change=10,\n",
    "    caching=True, n_jobs=-1)\n",
    "model = model.fit(X, y)\n",
    "print('Features:', X.columns[model.support_])"
   ]
  },
  {
   "cell_type": "code",
   "execution_count": 26,
   "id": "6b9dcf2f",
   "metadata": {
    "scrolled": false
   },
   "outputs": [
    {
     "data": {
      "text/plain": [
       "0.8087855297157622"
      ]
     },
     "execution_count": 26,
     "metadata": {},
     "output_type": "execute_result"
    }
   ],
   "source": [
    "y_predicy_ga = model.predict(X_test)\n",
    "accuracy_score(y_test,y_predicy_ga)"
   ]
  },
  {
   "cell_type": "markdown",
   "id": "d2351e4b",
   "metadata": {},
   "source": [
    "0.8113695090439277 the accuract for max_features=60 , n_population=200 , and n_generations=300\n",
    "\n",
    "Features: Index(['audspec_lengthL1norm_sma_quartile2', 'audSpec_Rfilt_sma[6]_iqr1-3',\n",
    "       'audSpec_Rfilt_sma[10]_skewness', 'audSpec_Rfilt_sma[14]_risetime',\n",
    "       'audSpec_Rfilt_sma[15]_pctlrange0-1',\n",
    "       'audSpec_Rfilt_sma[19]_percentile99.0', 'audSpec_Rfilt_sma[21]_lpc2',\n",
    "       'audSpec_Rfilt_sma[24]_lpc2', 'pcm_fftMag_fband250-650_sma_lpc0',\n",
    "       'pcm_fftMag_spectralRollOff25.0_sma_leftctime', 'mfcc_sma[4]_quartile1',\n",
    "       'mfcc_sma[7]_kurtosis', 'mfcc_sma[10]_skewness', 'mfcc_sma[14]_iqr2-3',\n",
    "       'mfcc_sma[14]_maxSegLen', 'audSpec_Rfilt_sma_de[1]_pctlrange0-1',\n",
    "       'audSpec_Rfilt_sma_de[3]_segLenStddev',\n",
    "       'audSpec_Rfilt_sma_de[4]_maxPos', 'audSpec_Rfilt_sma_de[9]_lpgain',\n",
    "       'audSpec_Rfilt_sma_de[12]_quartile3',\n",
    "       'pcm_fftMag_spectralRollOff50.0_sma_de_minSegLen',\n",
    "       'pcm_fftMag_spectralFlux_sma_de_iqr1-2',\n",
    "       'pcm_fftMag_spectralSkewness_sma_de_iqr1-3',\n",
    "       'pcm_fftMag_psySharpness_sma_de_risetime', 'mfcc_sma_de[2]_meanSegLen',\n",
    "       'mfcc_sma_de[4]_segLenStddev', 'mfcc_sma_de[5]_lpc0',\n",
    "       'voicingFinalUnclipped_sma_flatness',\n",
    "       'voicingFinalUnclipped_sma_upleveltime75', 'jitterLocal_sma_flatness',\n",
    "       'jitterLocal_sma_de_lpc1', 'shimmerLocal_sma_de_iqr1-3',\n",
    "       'audSpec_Rfilt_sma[3]_qregc3', 'audSpec_Rfilt_sma[10]_peakMeanRel',\n",
    "       'audSpec_Rfilt_sma[14]_peakDistStddev',\n",
    "       'audSpec_Rfilt_sma[14]_linregc2',\n",
    "       'pcm_fftMag_spectralHarmonicity_sma_meanFallingSlope',\n",
    "       'mfcc_sma[1]_peakDistStddev', 'mfcc_sma[11]_peakRangeAbs',\n",
    "       'mfcc_sma[13]_peakRangeAbs', 'audSpec_Rfilt_sma_de[0]_peakMeanRel',\n",
    "       'audSpec_Rfilt_sma_de[12]_minRangeRel',\n",
    "       'pcm_fftMag_fband1000-4000_sma_de_peakDistStddev',\n",
    "       'pcm_fftMag_spectralFlux_sma_de_stddevFallingSlope'],\n",
    "      dtype='object')"
   ]
  },
  {
   "cell_type": "markdown",
   "id": "be376b36",
   "metadata": {},
   "source": [
    "0.7571059431524548 the accuract for max_features=60 , n_population=100 , and n_generations=200\n",
    "\n",
    "\n",
    "\n",
    "Features:\n",
    "\n",
    "'pcm_zcr_sma_de_quartile1', 'audSpec_Rfilt_sma[4]_pctlrange0-1',\n",
    "       'audSpec_Rfilt_sma[5]_skewness', 'audSpec_Rfilt_sma[16]_upleveltime50',\n",
    "       'audSpec_Rfilt_sma[17]_percentile1.0',\n",
    "       'audSpec_Rfilt_sma[22]_upleveltime75', 'mfcc_sma[4]_stddev',\n",
    "       'mfcc_sma[4]_meanSegLen', 'mfcc_sma[14]_maxPos',\n",
    "       'audSpec_Rfilt_sma_de[6]_range', 'audSpec_Rfilt_sma_de[15]_maxSegLen',\n",
    "       'audSpec_Rfilt_sma_de[21]_percentile1.0',\n",
    "       'pcm_fftMag_spectralKurtosis_sma_de_skewness',\n",
    "       'pcm_fftMag_spectralKurtosis_sma_de_upleveltime90',\n",
    "       'mfcc_sma_de[1]_lpgain', 'mfcc_sma_de[5]_iqr1-2',\n",
    "       'mfcc_sma_de[6]_skewness', 'mfcc_sma_de[7]_leftctime',\n",
    "       'mfcc_sma_de[11]_quartile1', 'mfcc_sma_de[13]_maxSegLen',\n",
    "       'logHNR_sma_de_centroid',\n",
    "       'audspecRasta_lengthL1norm_sma_stddevFallingSlope',\n",
    "       'audSpec_Rfilt_sma[3]_qregc3', 'audSpec_Rfilt_sma[5]_peakDistStddev',\n",
    "       'audSpec_Rfilt_sma[16]_centroid', 'audSpec_Rfilt_sma[19]_qregc2',\n",
    "       'pcm_fftMag_spectralRollOff90.0_sma_peakMeanAbs',\n",
    "       'mfcc_sma[10]_linregc1', 'mfcc_sma[11]_amean',\n",
    "       'mfcc_sma[13]_peakRangeAbs', 'mfcc_sma_de[1]_rqmean',\n",
    "       'mfcc_sma_de[4]_peakRangeAbs', 'mfcc_sma_de[10]_meanPeakDist'],\n",
    "      dtype='object'\n"
   ]
  },
  {
   "cell_type": "markdown",
   "id": "62d0de1d",
   "metadata": {},
   "source": [
    "0.7364341085271318 the accuract for max_features=50 , n_population=100 , and n_generations=200"
   ]
  },
  {
   "cell_type": "code",
   "execution_count": null,
   "id": "a7929364",
   "metadata": {},
   "outputs": [],
   "source": [
    "from sklearn.ensemble import RandomForestClassifier\n",
    "from sklearn.model_selection import train_test_split\n",
    "from sklearn.datasets import load_digits\n",
    "from sklearn.metrics import accuracy_score\n",
    "\n",
    "data = pd.read_csv('Final_results2.csv',header=0)\n",
    "df = pd.DataFrame(data, columns=data.columns)\n",
    "df['target'] = data.target\n",
    "\n",
    "X = df.drop(['target'], axis=1)\n",
    "y = df['target']\n",
    "\n",
    "X_train, X_test, y_train, y_test = train_test_split(X, y, test_size=0.7)\n",
    "\n",
    "clf = RandomForestClassifier()"
   ]
  },
  {
   "cell_type": "code",
   "execution_count": null,
   "id": "31fd6ebd",
   "metadata": {},
   "outputs": [],
   "source": [
    "from sklearn_genetic import GASearchCV\n",
    "from sklearn_genetic.space import Continuous, Categorical, Integer\n",
    "from sklearn_genetic.plots import plot_fitness_evolution, plot_search_space\n",
    "from sklearn.model_selection import StratifiedKFold\n",
    "import matplotlib.pyplot as plt\n",
    "\n",
    "param_grid = {'min_weight_fraction_leaf': Continuous(0.01, 0.5, distribution='log-uniform'),\n",
    "              'bootstrap': Categorical([True, False]),\n",
    "              'max_depth': Integer(2, 30), \n",
    "              'max_leaf_nodes': Integer(2, 35), \n",
    "              'n_estimators': Integer(100, 300)}\n",
    "\n",
    "cv = StratifiedKFold(n_splits=3, shuffle=True)\n",
    "\n",
    "evolved_estimator = GASearchCV(estimator=clf,\n",
    "                               cv=cv,\n",
    "                               scoring='accuracy',\n",
    "                               population_size=100,\n",
    "                               generations=10,\n",
    "                               tournament_size=3,\n",
    "                               elitism=True,\n",
    "                               crossover_probability=0.5,\n",
    "                               mutation_probability=0.1,\n",
    "                               param_grid=param_grid,\n",
    "                               criteria='max',\n",
    "                               algorithm='eaMuPlusLambda',\n",
    "                               n_jobs=-1,\n",
    "                               verbose=True,\n",
    "                               keep_top_k=4)\n"
   ]
  },
  {
   "cell_type": "code",
   "execution_count": null,
   "id": "5cb652c9",
   "metadata": {
    "scrolled": true
   },
   "outputs": [],
   "source": [
    "evolved_estimator=evolved_estimator.fit(X_train,y_train)"
   ]
  },
  {
   "cell_type": "code",
   "execution_count": null,
   "id": "00b5fb1b",
   "metadata": {},
   "outputs": [],
   "source": [
    "evolved_estimator.best_params_"
   ]
  },
  {
   "cell_type": "code",
   "execution_count": null,
   "id": "9ef4a02c",
   "metadata": {
    "scrolled": true
   },
   "outputs": [],
   "source": [
    "print('Features:', X.columns[evolved_estimator.best_params_])"
   ]
  },
  {
   "cell_type": "code",
   "execution_count": null,
   "id": "12dc92e9",
   "metadata": {},
   "outputs": [],
   "source": [
    "y_predicy_ga = evolved_estimator.predict(X_test)\n",
    "accuracy_score(y_test,y_predicy_ga)"
   ]
  },
  {
   "cell_type": "code",
   "execution_count": null,
   "id": "d6b4f686",
   "metadata": {},
   "outputs": [],
   "source": [
    "plot_fitness_evolution(evolved_estimator)\n",
    "plt.show()"
   ]
  },
  {
   "cell_type": "code",
   "execution_count": null,
   "id": "b7d6cff9",
   "metadata": {},
   "outputs": [],
   "source": []
  }
 ],
 "metadata": {
  "kernelspec": {
   "display_name": "Python 3 (ipykernel)",
   "language": "python",
   "name": "python3"
  },
  "language_info": {
   "codemirror_mode": {
    "name": "ipython",
    "version": 3
   },
   "file_extension": ".py",
   "mimetype": "text/x-python",
   "name": "python",
   "nbconvert_exporter": "python",
   "pygments_lexer": "ipython3",
   "version": "3.9.7"
  }
 },
 "nbformat": 4,
 "nbformat_minor": 5
}
