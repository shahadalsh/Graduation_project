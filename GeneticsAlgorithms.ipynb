{
 "cells": [
  {
   "cell_type": "code",
   "execution_count": 2,
   "id": "1c5c1287",
   "metadata": {},
   "outputs": [],
   "source": [
    "from sklearn.ensemble import RandomForestClassifier\n",
    "from sklearn.model_selection import train_test_split\n",
    "from sklearn.metrics import accuracy_score\n",
    "import pandas as pd"
   ]
  },
  {
   "cell_type": "code",
   "execution_count": 3,
   "id": "4fcc69b3",
   "metadata": {},
   "outputs": [],
   "source": [
    "from sklearn import tree\n",
    "from sklearn.tree import DecisionTreeClassifier\n",
    "from genetic_selection import GeneticSelectionCV\n",
    "from sklearn.linear_model import LinearRegression"
   ]
  },
  {
   "cell_type": "code",
   "execution_count": null,
   "id": "61668b7f",
   "metadata": {
    "scrolled": true
   },
   "outputs": [],
   "source": [
    "data = pd.read_csv('Final_results2.csv',header=0)\n",
    "df = pd.DataFrame(data, columns=data.columns)\n",
    "df['target'] = data.target\n",
    "X = df.drop(['target'], axis=1)\n",
    "y = df['target'].astype(float)\n",
    "estimator = DecisionTreeClassifier()\n",
    "model = GeneticSelectionCV(\n",
    "    estimator, cv=5, verbose=0,\n",
    "    scoring=\"accuracy\", max_features=75,\n",
    "    n_population=200, crossover_proba=0.5,\n",
    "    mutation_proba=0.2, n_generations=100,\n",
    "    crossover_independent_proba=0.5,\n",
    "    mutation_independent_proba=0.04,\n",
    "    tournament_size=3, n_gen_no_change=10,\n",
    "    caching=True, n_jobs=-1)\n",
    "model = model.fit(X, y)\n",
    "print('Features:', X.columns[model.support_])"
   ]
  },
  {
   "cell_type": "code",
   "execution_count": null,
   "id": "205d0f4a",
   "metadata": {},
   "outputs": [],
   "source": [
    "Features: Index(['pcm_RMSenergy_sma_de_maxSegLen', 'audSpec_Rfilt_sma[3]_quartile3',\n",
    "       'audSpec_Rfilt_sma[16]_quartile3', 'audSpec_Rfilt_sma[21]_maxSegLen',\n",
    "       'audSpec_Rfilt_sma_de[3]_iqr2-3', 'audSpec_Rfilt_sma_de[6]_iqr1-2',\n",
    "       'audSpec_Rfilt_sma_de[6]_lpc3', 'mfcc_sma_de[1]_leftctime',\n",
    "       'mfcc_sma_de[4]_segLenStddev', 'F0final_sma_stddev',\n",
    "       'audSpec_Rfilt_sma[5]_peakMeanAbs',\n",
    "       'pcm_fftMag_spectralEntropy_sma_linregc2', 'mfcc_sma[7]_qregc2',\n",
    "       'mfcc_sma[11]_peakRangeAbs'],\n",
    "      dtype='object')"
   ]
  },
  {
   "cell_type": "code",
   "execution_count": null,
   "id": "57f29201",
   "metadata": {},
   "outputs": [],
   "source": [
    "from __future__ import print_function\n",
    "import numpy as np\n",
    "from sklearn import datasets, linear_model\n",
    "\n",
    "from genetic_selection import GeneticSelectionCV\n",
    "from sklearn.linear_model import LinearRegression"
   ]
  },
  {
   "cell_type": "code",
   "execution_count": null,
   "id": "9f021043",
   "metadata": {},
   "outputs": [],
   "source": [
    "data = pd.read_csv('Final_results2.csv',header=0)"
   ]
  },
  {
   "cell_type": "code",
   "execution_count": null,
   "id": "ee6f54da",
   "metadata": {},
   "outputs": [],
   "source": [
    "data"
   ]
  },
  {
   "cell_type": "code",
   "execution_count": 28,
   "id": "cdffc904",
   "metadata": {},
   "outputs": [
    {
     "ename": "NameError",
     "evalue": "name 'linear_model' is not defined",
     "output_type": "error",
     "traceback": [
      "\u001b[0;31m---------------------------------------------------------------------------\u001b[0m",
      "\u001b[0;31mNameError\u001b[0m                                 Traceback (most recent call last)",
      "\u001b[0;32m/var/folders/sg/npfgphln5rvg79dblr6m2_xn5ypssy/T/ipykernel_48334/4051915152.py\u001b[0m in \u001b[0;36m<module>\u001b[0;34m\u001b[0m\n\u001b[1;32m      7\u001b[0m \u001b[0my1\u001b[0m \u001b[0;34m=\u001b[0m \u001b[0mdata\u001b[0m\u001b[0;34m.\u001b[0m\u001b[0mtarget\u001b[0m\u001b[0;34m\u001b[0m\u001b[0;34m\u001b[0m\u001b[0m\n\u001b[1;32m      8\u001b[0m \u001b[0;34m\u001b[0m\u001b[0m\n\u001b[0;32m----> 9\u001b[0;31m \u001b[0mestimator\u001b[0m \u001b[0;34m=\u001b[0m \u001b[0mlinear_model\u001b[0m\u001b[0;34m.\u001b[0m\u001b[0mLogisticRegression\u001b[0m\u001b[0;34m(\u001b[0m\u001b[0msolver\u001b[0m\u001b[0;34m=\u001b[0m\u001b[0;34m\"liblinear\"\u001b[0m\u001b[0;34m,\u001b[0m \u001b[0mmulti_class\u001b[0m\u001b[0;34m=\u001b[0m\u001b[0;34m\"ovr\"\u001b[0m\u001b[0;34m)\u001b[0m\u001b[0;34m\u001b[0m\u001b[0;34m\u001b[0m\u001b[0m\n\u001b[0m\u001b[1;32m     10\u001b[0m \u001b[0;34m\u001b[0m\u001b[0m\n\u001b[1;32m     11\u001b[0m selector = GeneticSelectionCV(estimator,\n",
      "\u001b[0;31mNameError\u001b[0m: name 'linear_model' is not defined"
     ]
    }
   ],
   "source": [
    "import numpy as np\n",
    "data = pd.read_csv('Final_results2.csv',header=0)\n",
    "data1=data.to_numpy()\n",
    "E = np.random.uniform(0, 0.1, size=(len(data1.data), 20))\n",
    "\n",
    "X1 = np.hstack((data1.data, E))\n",
    "y1 = data.target\n",
    "\n",
    "estimator = linear_model.LogisticRegression(solver=\"liblinear\", multi_class=\"ovr\")\n",
    "\n",
    "selector = GeneticSelectionCV(estimator,\n",
    "                                cv=5,\n",
    "                                verbose=1,\n",
    "                                scoring=\"accuracy\",\n",
    "                                max_features=100,\n",
    "                                n_population=200,\n",
    "                                crossover_proba=0.5,\n",
    "                                mutation_proba=0.2,\n",
    "                                n_generations=100,\n",
    "                                crossover_independent_proba=0.5,\n",
    "                                mutation_independent_proba=0.05,\n",
    "                                tournament_size=3,\n",
    "                                n_gen_no_change=10,\n",
    "                                caching=True,\n",
    "                                n_jobs=-1)\n",
    "selector = selector.fit(X, y)\n",
    "\n",
    "print('Features:', X1.columns[selector.support_])"
   ]
  },
  {
   "cell_type": "code",
   "execution_count": 35,
   "id": "0afca7a9",
   "metadata": {},
   "outputs": [],
   "source": [
    "from sklearn.ensemble import RandomForestClassifier\n",
    "from sklearn.model_selection import train_test_split\n",
    "from sklearn.datasets import load_digits\n",
    "from sklearn.metrics import accuracy_score\n",
    "\n",
    "data = pd.read_csv('Final_results2.csv',header=0)\n",
    "df = pd.DataFrame(data, columns=data.columns)\n",
    "df['target'] = data.target\n",
    "\n",
    "X = df.drop(['target'], axis=1)\n",
    "y = df['target']\n",
    "\n",
    "X_train, X_test, y_train, y_test = train_test_split(X, y, test_size=0.7)\n",
    "\n",
    "clf = RandomForestClassifier()"
   ]
  },
  {
   "cell_type": "code",
   "execution_count": 36,
   "id": "d3e99760",
   "metadata": {},
   "outputs": [],
   "source": [
    "from sklearn_genetic import GASearchCV\n",
    "from sklearn_genetic.space import Continuous, Categorical, Integer\n",
    "from sklearn_genetic.plots import plot_fitness_evolution, plot_search_space\n",
    "from sklearn.model_selection import StratifiedKFold\n",
    "import matplotlib.pyplot as plt\n",
    "\n",
    "param_grid = {'min_weight_fraction_leaf': Continuous(0.01, 0.5, distribution='log-uniform'),\n",
    "              'bootstrap': Categorical([True, False]),\n",
    "              'max_depth': Integer(2, 30), \n",
    "              'max_leaf_nodes': Integer(2, 35), \n",
    "              'n_estimators': Integer(100, 300)}\n",
    "\n",
    "cv = StratifiedKFold(n_splits=3, shuffle=True)\n",
    "\n",
    "evolved_estimator = GASearchCV(estimator=clf,\n",
    "                               cv=cv,\n",
    "                               scoring='accuracy',\n",
    "                               population_size=100,\n",
    "                               generations=35,\n",
    "                               tournament_size=3,\n",
    "                               elitism=True,\n",
    "                               crossover_probability=0.5,\n",
    "                               mutation_probability=0.1,\n",
    "                               param_grid=param_grid,\n",
    "                               criteria='max',\n",
    "                               algorithm='eaMuPlusLambda',\n",
    "                               n_jobs=-1,\n",
    "                               verbose=True,\n",
    "                               keep_top_k=4)\n"
   ]
  },
  {
   "cell_type": "code",
   "execution_count": null,
   "id": "47ea18b8",
   "metadata": {
    "scrolled": false
   },
   "outputs": [
    {
     "name": "stderr",
     "output_type": "stream",
     "text": [
      "/Users/shahrasm/myenv/lib/python3.9/site-packages/deap/creator.py:138: RuntimeWarning: A class named 'FitnessMax' has already been created and it will be overwritten. Consider deleting previous creation of that class or rename it.\n",
      "  warnings.warn(\"A class named '{0}' has already been created and it \"\n",
      "/Users/shahrasm/myenv/lib/python3.9/site-packages/deap/creator.py:138: RuntimeWarning: A class named 'Individual' has already been created and it will be overwritten. Consider deleting previous creation of that class or rename it.\n",
      "  warnings.warn(\"A class named '{0}' has already been created and it \"\n"
     ]
    },
    {
     "name": "stdout",
     "output_type": "stream",
     "text": [
      "gen\tnevals\tfitness \tfitness_std\tfitness_max\tfitness_min\n",
      "0  \t100   \t0.586667\t0.0291792  \t0.642424   \t0.50303    \n",
      "1  \t126   \t0.608788\t0.0165617  \t0.642424   \t0.569697   \n",
      "2  \t117   \t0.617273\t0.0157896  \t0.642424   \t0.569697   \n",
      "3  \t117   \t0.622303\t0.0138966  \t0.642424   \t0.563636   \n",
      "4  \t124   \t0.62697 \t0.010888   \t0.648485   \t0.593939   \n",
      "5  \t121   \t0.632909\t0.00845254 \t0.648485   \t0.593939   \n",
      "6  \t113   \t0.635333\t0.0112425  \t0.648485   \t0.569697   \n",
      "7  \t107   \t0.635576\t0.0115837  \t0.648485   \t0.569697   \n",
      "8  \t127   \t0.637212\t0.0100328  \t0.648485   \t0.593939   \n",
      "9  \t122   \t0.63903 \t0.0107161  \t0.660606   \t0.587879   \n"
     ]
    }
   ],
   "source": [
    "evolved_estimator=evolved_estimator.fit(X_train,y_train)"
   ]
  },
  {
   "cell_type": "code",
   "execution_count": null,
   "id": "dacd7af3",
   "metadata": {},
   "outputs": [],
   "source": [
    "print('Features:', X.columns[evolved_estimator.support_])"
   ]
  },
  {
   "cell_type": "code",
   "execution_count": 20,
   "id": "299bdcea",
   "metadata": {},
   "outputs": [
    {
     "data": {
      "text/plain": [
       "0.6382428940568475"
      ]
     },
     "execution_count": 20,
     "metadata": {},
     "output_type": "execute_result"
    }
   ],
   "source": [
    "y_predicy_ga = evolved_estimator.predict(X_test)\n",
    "accuracy_score(y_test,y_predicy_ga)"
   ]
  },
  {
   "cell_type": "code",
   "execution_count": 21,
   "id": "21cab4fc",
   "metadata": {},
   "outputs": [
    {
     "data": {
      "image/png": "[encoded data removed]",
      "text/plain": [
       "<Figure size 720x720 with 1 Axes>"
      ]
     },
     "metadata": {},
     "output_type": "display_data"
    }
   ],
   "source": [
    "plot_fitness_evolution(evolved_estimator)\n",
    "plt.show()"
   ]
  },
  {
   "cell_type": "code",
   "execution_count": null,
   "id": "d45afc6c",
   "metadata": {},
   "outputs": [],
   "source": []
  }
 ],
 "metadata": {
  "kernelspec": {
   "display_name": "Python 3 (ipykernel)",
   "language": "python",
   "name": "python3"
  },
  "language_info": {
   "codemirror_mode": {
    "name": "ipython",
    "version": 3
   },
   "file_extension": ".py",
   "mimetype": "text/x-python",
   "name": "python",
   "nbconvert_exporter": "python",
   "pygments_lexer": "ipython3",
   "version": "3.9.7"
  }
 },
 "nbformat": 4,
 "nbformat_minor": 5
}
