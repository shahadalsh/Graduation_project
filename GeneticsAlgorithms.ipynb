{
 "cells": [
  {
   "cell_type": "code",
   "execution_count": null,
   "id": "93ef4369",
   "metadata": {},
   "outputs": [],
   "source": [
    "from __future__ import print_function\n",
    "import numpy as np\n",
    "from sklearn import datasets, linear_model\n",
    "from genetic_selection import GeneticSelectionCV\n",
    "from sklearn.linear_model import LinearRegression\n",
    "from genetic_selection import GeneticSelectionCV\n",
    "from sklearn.linear_model import LinearRegression\n",
    "from sklearn.model_selection import train_test_split\n",
    "from sklearn.metrics import accuracy_score\n",
    "import pandas as pd"
   ]
  },
  {
   "cell_type": "code",
   "execution_count": null,
   "id": "db9d081e",
   "metadata": {
    "scrolled": false
   },
   "outputs": [],
   "source": [
    "\n",
    "data = pd.read_csv('Final_results2.csv',header=0)\n",
    "df = pd.DataFrame(data, columns=data.columns)\n",
    "df['target'] = data.target\n",
    "\n",
    "X = df.drop(['target'], axis=1)\n",
    "y = df['target']\n",
    "\n",
    "X_train, X_test, y_train, y_test = train_test_split(X, y, test_size=0.3)\n",
    "estimator = linear_model.LogisticRegression(solver=\"liblinear\", multi_class=\"ovr\")\n",
    "model = GeneticSelectionCV(\n",
    "     estimator, cv=5, verbose=0,\n",
    "    scoring=\"accuracy\", max_features=90,\n",
    "    n_population=500, crossover_proba=0.5,\n",
    "    mutation_proba=0.2, n_generations=100,\n",
    "    crossover_independent_proba=0.5,\n",
    "    mutation_independent_proba=0.04,\n",
    "    tournament_size=3, n_gen_no_change=10,\n",
    "    caching=True, n_jobs=-1)\n",
    "model = model.fit(X, y)\n",
    "print('Features:', X.columns[model.support_])"
   ]
  },
  {
   "cell_type": "markdown",
   "id": "aca9d37e",
   "metadata": {},
   "source": [
    " Features: Index(['pcm_RMSenergy_sma_risetime', 'audspec_lengthL1norm_sma_de_maxPos',\n",
    "       'pcm_zcr_sma_de_leftctime', 'audSpec_Rfilt_sma[0]_lpgain',\n",
    "       'audSpec_Rfilt_sma[1]_percentile1.0',\n",
    "       'audSpec_Rfilt_sma[13]_percentile99.0',\n",
    "       'audSpec_Rfilt_sma[14]_quartile1', 'audSpec_Rfilt_sma[16]_skewness',\n",
    "       'audSpec_Rfilt_sma[19]_segLenStddev', 'audSpec_Rfilt_sma[23]_minPos',\n",
    "       'pcm_fftMag_fband250-650_sma_upleveltime50',\n",
    "       'pcm_fftMag_fband1000-4000_sma_lpc3',\n",
    "       'pcm_fftMag_spectralFlux_sma_iqr1-2',\n",
    "       'pcm_fftMag_spectralKurtosis_sma_iqr2-3',\n",
    "       'pcm_fftMag_spectralSlope_sma_range', 'mfcc_sma[3]_lpc0',\n",
    "       'mfcc_sma[6]_skewness', 'mfcc_sma[7]_quartile1',\n",
    "       'mfcc_sma[8]_upleveltime50', 'mfcc_sma[10]_percentile1.0',\n",
    "       'mfcc_sma[14]_maxPos', 'audSpec_Rfilt_sma_de[1]_upleveltime25',\n",
    "       'audSpec_Rfilt_sma_de[4]_iqr1-3', 'audSpec_Rfilt_sma_de[7]_maxPos',\n",
    "       'audSpec_Rfilt_sma_de[8]_upleveltime75',\n",
    "       'audSpec_Rfilt_sma_de[13]_pctlrange0-1',\n",
    "       'audSpec_Rfilt_sma_de[15]_lpgain', 'audSpec_Rfilt_sma_de[16]_stddev',\n",
    "       'pcm_fftMag_spectralRollOff25.0_sma_de_maxPos',\n",
    "       'pcm_fftMag_spectralRollOff90.0_sma_de_maxPos',\n",
    "       'pcm_fftMag_spectralFlux_sma_de_lpc1',\n",
    "       'pcm_fftMag_spectralSkewness_sma_de_lpc3', 'mfcc_sma_de[1]_maxPos',\n",
    "       'mfcc_sma_de[1]_percentile1.0', 'mfcc_sma_de[2]_skewness',\n",
    "       'mfcc_sma_de[4]_range', 'mfcc_sma_de[4]_skewness',\n",
    "       'mfcc_sma_de[6]_lpc1', 'mfcc_sma_de[12]_lpc0',\n",
    "       'voicingFinalUnclipped_sma_amean',\n",
    "       'voicingFinalUnclipped_sma_upleveltime75', 'logHNR_sma_upleveltime90',\n",
    "       'F0final_sma_de_kurtosis', 'voicingFinalUnclipped_sma_de_rqmean',\n",
    "       'jitterDDP_sma_de_qregc3', 'jitterDDP_sma_de_percentile1.0',\n",
    "       'shimmerLocal_sma_de_qregc3', 'shimmerLocal_sma_de_lpc2',\n",
    "       'audSpec_Rfilt_sma[4]_peakRangeAbs', 'audSpec_Rfilt_sma[4]_linregc1',\n",
    "       'audSpec_Rfilt_sma[12]_linregerrQ',\n",
    "       'audSpec_Rfilt_sma[18]_stddevFallingSlope',\n",
    "       'audSpec_Rfilt_sma[18]_linregerrQ', 'audSpec_Rfilt_sma[20]_peakMeanRel',\n",
    "       'audSpec_Rfilt_sma[23]_meanFallingSlope',\n",
    "       'audSpec_Rfilt_sma[23]_linregc1',\n",
    "       'pcm_fftMag_fband250-650_sma_peakMeanAbs',\n",
    "       'pcm_fftMag_spectralRollOff90.0_sma_qregc2',\n",
    "       'pcm_fftMag_spectralEntropy_sma_linregc2',\n",
    "       'pcm_fftMag_spectralSlope_sma_centroid',\n",
    "       'pcm_fftMag_spectralHarmonicity_sma_flatness',\n",
    "       'mfcc_sma[1]_peakMeanAbs', 'mfcc_sma[9]_peakRangeAbs',\n",
    "       'mfcc_sma[11]_peakRangeAbs', 'mfcc_sma[14]_peakRangeAbs',\n",
    "       'audSpec_Rfilt_sma_de[11]_peakMeanRel',\n",
    "       'audSpec_Rfilt_sma_de[13]_peakRangeRel',\n",
    "       'audSpec_Rfilt_sma_de[16]_meanFallingSlope',\n",
    "       'audSpec_Rfilt_sma_de[25]_flatness',\n",
    "       'pcm_fftMag_fband250-650_sma_de_stddevRisingSlope',\n",
    "       'pcm_fftMag_spectralRollOff25.0_sma_de_stddevRisingSlope',\n",
    "       'pcm_fftMag_spectralFlux_sma_de_peakMeanRel',\n",
    "       'pcm_fftMag_spectralKurtosis_sma_de_peakRangeAbs'],\n",
    "      dtype='object')\n"
   ]
  },
  {
   "cell_type": "code",
   "execution_count": null,
   "id": "a3da4564",
   "metadata": {},
   "outputs": [],
   "source": []
  },
  {
   "cell_type": "code",
   "execution_count": null,
   "id": "8b6de45d",
   "metadata": {
    "scrolled": false
   },
   "outputs": [],
   "source": [
    "y_predicy_ga = model.predict(X_test)\n",
    "accuracy_score(y_test,y_predicy_ga)"
   ]
  },
  {
   "attachments": {},
   "cell_type": "markdown",
   "id": "3b3d2034",
   "metadata": {},
   "source": [
    "0.8554216867469879"
   ]
  },
  {
   "cell_type": "code",
   "execution_count": null,
   "id": "b7d6cff9",
   "metadata": {},
   "outputs": [],
   "source": []
  }
 ],
 "metadata": {
  "kernelspec": {
   "display_name": "Python 3 (ipykernel)",
   "language": "python",
   "name": "python3"
  },
  "language_info": {
   "codemirror_mode": {
    "name": "ipython",
    "version": 3
   },
   "file_extension": ".py",
   "mimetype": "text/x-python",
   "name": "python",
   "nbconvert_exporter": "python",
   "pygments_lexer": "ipython3",
   "version": "3.9.9"
  }
 },
 "nbformat": 4,
 "nbformat_minor": 5
}
