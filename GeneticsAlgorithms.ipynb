{
 "cells": [
  {
   "cell_type": "code",
   "execution_count": 7,
   "id": "d5926144",
   "metadata": {},
   "outputs": [],
   "source": [
    "from sklearn.ensemble import RandomForestClassifier\n",
    "from sklearn.model_selection import train_test_split\n",
    "from sklearn.metrics import accuracy_score\n",
    "import pandas as pd"
   ]
  },
  {
   "cell_type": "code",
   "execution_count": 49,
   "id": "bce99df2",
   "metadata": {},
   "outputs": [
    {
     "name": "stderr",
     "output_type": "stream",
     "text": [
      "/Users/shahrasm/myenv/lib/python3.9/site-packages/deap/creator.py:138: RuntimeWarning: A class named 'Individual' has already been created and it will be overwritten. Consider deleting previous creation of that class or rename it.\n",
      "  warnings.warn(\"A class named '{0}' has already been created and it \"\n"
     ]
    }
   ],
   "source": [
    "from sklearn import tree\n",
    "from sklearn.tree import DecisionTreeClassifier\n",
    "from genetic_selection import GeneticSelectionCV"
   ]
  },
  {
   "cell_type": "code",
   "execution_count": 50,
   "id": "61668b7f",
   "metadata": {},
   "outputs": [
    {
     "name": "stdout",
     "output_type": "stream",
     "text": [
      "Features: Index(['audspecRasta_lengthL1norm_sma_upleveltime25',\n",
      "       'pcm_fftMag_psySharpness_sma_leftctime', 'mfcc_sma[5]_upleveltime75',\n",
      "       'mfcc_sma[10]_percentile1.0', 'mfcc_sma[12]_skewness',\n",
      "       'pcm_fftMag_fband1000-4000_sma_de_quartile2',\n",
      "       'audSpec_Rfilt_sma[12]_peakMeanRel',\n",
      "       'audSpec_Rfilt_sma[22]_meanFallingSlope',\n",
      "       'pcm_fftMag_spectralSlope_sma_qregc3', 'mfcc_sma[5]_qregc2',\n",
      "       'audSpec_Rfilt_sma_de[5]_peakDistStddev',\n",
      "       'audSpec_Rfilt_sma_de[11]_peakMeanRel',\n",
      "       'audSpec_Rfilt_sma_de[20]_stddevFallingSlope',\n",
      "       'mfcc_sma_de[2]_meanFallingSlope', 'mfcc_sma_de[5]_minRangeRel'],\n",
      "      dtype='object')\n"
     ]
    }
   ],
   "source": [
    "data = pd.read_csv('Final_results2.csv',header=0)\n",
    "df = pd.DataFrame(data, columns=data.columns)\n",
    "df['target'] = data.target\n",
    "X = df.drop(['target'], axis=1)\n",
    "y = df['target'].astype(float)\n",
    "estimator = DecisionTreeClassifier()\n",
    "model = GeneticSelectionCV(\n",
    "    estimator, cv=5, verbose=0,\n",
    "    scoring=\"accuracy\", max_features=30,\n",
    "    n_population=100, crossover_proba=0.5,\n",
    "    mutation_proba=0.2, n_generations=50,\n",
    "    crossover_independent_proba=0.5,\n",
    "    mutation_independent_proba=0.04,\n",
    "    tournament_size=3, n_gen_no_change=10,\n",
    "    caching=True, n_jobs=-1)\n",
    "model = model.fit(X, y)\n",
    "print('Features:', X.columns[model.support_])"
   ]
  },
  {
   "cell_type": "code",
   "execution_count": null,
   "id": "cdffc904",
   "metadata": {},
   "outputs": [],
   "source": []
  }
 ],
 "metadata": {
  "kernelspec": {
   "display_name": "Python 3 (ipykernel)",
   "language": "python",
   "name": "python3"
  },
  "language_info": {
   "codemirror_mode": {
    "name": "ipython",
    "version": 3
   },
   "file_extension": ".py",
   "mimetype": "text/x-python",
   "name": "python",
   "nbconvert_exporter": "python",
   "pygments_lexer": "ipython3",
   "version": "3.9.7"
  }
 },
 "nbformat": 4,
 "nbformat_minor": 5
}
